{
 "cells": [
  {
   "cell_type": "markdown",
   "metadata": {
    "id": "27PoywxjHzb3"
   },
   "source": [
    "# Stroke Prediction Project\n"
   ]
  },
  {
   "cell_type": "markdown",
   "metadata": {
    "id": "5YLtAQgJH3xw"
   },
   "source": [
    "### Table of Content\n",
    "\n",
    "- Problem and Data Understanding\n",
    "- Data Exploration\n",
    "- Data Preprocessing\n",
    "  - Impute the missing values\n",
    "  - Encode the categorical variables\n",
    "- Model Building\n",
    "- Model Evaluation\n",
    "- Selecting the best model"
   ]
  },
  {
   "cell_type": "markdown",
   "metadata": {
    "id": "NxLMJUjMIfNZ"
   },
   "source": [
    "## Problem and Data Understanding"
   ]
  },
  {
   "cell_type": "markdown",
   "metadata": {
    "id": "YkF2p08eIyOe"
   },
   "source": [
    "### Problem Understanding\n",
    "\n",
    "#### 1. What decisions need to be made?\n",
    "Building a model to predict patients who are likely to have a stroke based on histirical data.\n",
    "\n",
    "#### 2. What data is needed to inform those decisions?\n",
    "Data on past patients both those who had stroke and those who didn't and any vital information on these patients available.\n",
    "\n",
    "#### 3. What kind of model is needed to help make these decisions?\n",
    "\n",
    "Binary classification models such as logistics regression, decision tree, decision trees , SVC, SDG and ensembles will be used to determine whether a customer is likely to get stroke or not."
   ]
  },
  {
   "cell_type": "markdown",
   "metadata": {
    "id": "LoM_MFBLya9f"
   },
   "source": [
    "### Installing and Importing Packages "
   ]
  },
  {
   "cell_type": "code",
   "execution_count": 1,
   "metadata": {
    "colab": {
     "base_uri": "https://localhost:8080/"
    },
    "executionInfo": {
     "elapsed": 1662,
     "status": "ok",
     "timestamp": 1638818283775,
     "user": {
      "displayName": "Henrietta Kadi Tettey-Tawiah",
      "photoUrl": "https://lh3.googleusercontent.com/a/default-user=s64",
      "userId": "08888930326766866324"
     },
     "user_tz": 0
    },
    "id": "BgwdJGK7J8BX",
    "outputId": "81a3c8dd-d988-414d-f998-e5bf8da339be"
   },
   "outputs": [],
   "source": [
    "import sys\n",
    "import os\n",
    "import numpy as np\n",
    "import pandas as pd\n",
    "import matplotlib.pyplot as plt\n",
    "import seaborn as sns\n",
    "import sklearn\n",
    "import imblearn\n",
    "from bioinfokit.analys import stat\n",
    "import warnings\n",
    "warnings.filterwarnings('ignore')\n",
    "\n",
    "from sklearn.preprocessing import LabelEncoder\n",
    "from sklearn.preprocessing import MinMaxScaler\n",
    "from sklearn.preprocessing import OneHotEncoder\n",
    "from sklearn.preprocessing import StandardScaler\n",
    "\n",
    "from imblearn.pipeline import Pipeline\n",
    "from imblearn.over_sampling import SMOTE\n",
    "from imblearn.under_sampling import RandomUnderSampler\n",
    "\n",
    "from sklearn.compose import ColumnTransformer \n",
    "from sklearn.impute import SimpleImputer\n",
    "from sklearn.impute import MissingIndicator\n",
    "\n",
    "from sklearn.pipeline import Pipeline\n",
    "\n",
    "from sklearn.ensemble import BaggingClassifier\n",
    "from sklearn.ensemble import RandomForestClassifier, AdaBoostClassifier\n",
    "from sklearn.svm import LinearSVC\n",
    "from sklearn.svm import SVC\n",
    "from sklearn.linear_model import LogisticRegression\n",
    "from sklearn.linear_model import SGDClassifier\n",
    "from sklearn.naive_bayes import GaussianNB\n",
    "from sklearn.neighbors import KNeighborsClassifier\n",
    "from sklearn.tree import DecisionTreeClassifier\n",
    "from sklearn.dummy import DummyClassifier\n",
    "\n",
    "from tabulate import tabulate\n",
    "\n",
    "from sklearn.model_selection import cross_val_score\n",
    "from sklearn.model_selection import RepeatedStratifiedKFold\n",
    "from sklearn.model_selection import GridSearchCV\n",
    "from sklearn.model_selection import RepeatedStratifiedKFold\n",
    "from sklearn.model_selection import train_test_split\n",
    "\n",
    "from sklearn.metrics import classification_report\n",
    "from sklearn.metrics import roc_curve\n",
    "from sklearn.metrics import f1_score, precision_score, roc_auc_score, balanced_accuracy_score\n",
    "from sklearn.metrics import accuracy_score, confusion_matrix, classification_report"
   ]
  },
  {
   "cell_type": "markdown",
   "metadata": {
    "id": "iicP8xhNyjoD"
   },
   "source": [
    "### Importing Dataset"
   ]
  },
  {
   "cell_type": "code",
   "execution_count": 2,
   "metadata": {
    "colab": {
     "base_uri": "https://localhost:8080/"
    },
    "executionInfo": {
     "elapsed": 36454,
     "status": "ok",
     "timestamp": 1638818320223,
     "user": {
      "displayName": "Henrietta Kadi Tettey-Tawiah",
      "photoUrl": "https://lh3.googleusercontent.com/a/default-user=s64",
      "userId": "08888930326766866324"
     },
     "user_tz": 0
    },
    "id": "dCvJ837zKDut",
    "outputId": "9d5a1b70-4755-4a52-a7b5-03a2699cdfb9"
   },
   "outputs": [],
   "source": [
    "#from google.colab import drive\n",
    "#drive.mount(\"/content/drive\")"
   ]
  },
  {
   "cell_type": "code",
   "execution_count": 3,
   "metadata": {
    "executionInfo": {
     "elapsed": 1284,
     "status": "ok",
     "timestamp": 1638818321498,
     "user": {
      "displayName": "Henrietta Kadi Tettey-Tawiah",
      "photoUrl": "https://lh3.googleusercontent.com/a/default-user=s64",
      "userId": "08888930326766866324"
     },
     "user_tz": 0
    },
    "id": "Cy2bRCs9KXjA"
   },
   "outputs": [],
   "source": [
    "data = pd.read_csv(\"healthcare-dataset-stroke-data.csv\")"
   ]
  },
  {
   "cell_type": "markdown",
   "metadata": {
    "id": "GmmBmdQBK0E5"
   },
   "source": [
    "### Data Understanding"
   ]
  },
  {
   "cell_type": "code",
   "execution_count": 4,
   "metadata": {
    "colab": {
     "base_uri": "https://localhost:8080/"
    },
    "executionInfo": {
     "elapsed": 68,
     "status": "ok",
     "timestamp": 1638818321500,
     "user": {
      "displayName": "Henrietta Kadi Tettey-Tawiah",
      "photoUrl": "https://lh3.googleusercontent.com/a/default-user=s64",
      "userId": "08888930326766866324"
     },
     "user_tz": 0
    },
    "id": "ZM0orNXRK0iS",
    "outputId": "b950c69f-5c78-4a97-f135-7bb702c1dafa"
   },
   "outputs": [
    {
     "name": "stdout",
     "output_type": "stream",
     "text": [
      "<class 'pandas.core.frame.DataFrame'>\n",
      "RangeIndex: 5110 entries, 0 to 5109\n",
      "Data columns (total 12 columns):\n",
      " #   Column             Non-Null Count  Dtype  \n",
      "---  ------             --------------  -----  \n",
      " 0   id                 5110 non-null   int64  \n",
      " 1   gender             5110 non-null   object \n",
      " 2   age                5110 non-null   float64\n",
      " 3   hypertension       5110 non-null   int64  \n",
      " 4   heart_disease      5110 non-null   int64  \n",
      " 5   ever_married       5110 non-null   object \n",
      " 6   work_type          5110 non-null   object \n",
      " 7   Residence_type     5110 non-null   object \n",
      " 8   avg_glucose_level  5110 non-null   float64\n",
      " 9   bmi                4909 non-null   float64\n",
      " 10  smoking_status     5110 non-null   object \n",
      " 11  stroke             5110 non-null   int64  \n",
      "dtypes: float64(3), int64(4), object(5)\n",
      "memory usage: 479.2+ KB\n"
     ]
    }
   ],
   "source": [
    "data.info()"
   ]
  },
  {
   "cell_type": "markdown",
   "metadata": {
    "id": "VeDR0wKWK-7P"
   },
   "source": [
    "- This dataset contains 12 variables and 5110 observations.\n",
    "- The variable bmi however contains less than 5110 observations. This would be explored further."
   ]
  },
  {
   "cell_type": "code",
   "execution_count": 5,
   "metadata": {
    "colab": {
     "base_uri": "https://localhost:8080/",
     "height": 292
    },
    "executionInfo": {
     "elapsed": 64,
     "status": "ok",
     "timestamp": 1638818321501,
     "user": {
      "displayName": "Henrietta Kadi Tettey-Tawiah",
      "photoUrl": "https://lh3.googleusercontent.com/a/default-user=s64",
      "userId": "08888930326766866324"
     },
     "user_tz": 0
    },
    "id": "SbbHzTx2wSMZ",
    "outputId": "9a3e7b52-9dab-4e4e-aa4f-bf74f44ebe3d"
   },
   "outputs": [
    {
     "data": {
      "text/html": [
       "<div>\n",
       "<style scoped>\n",
       "    .dataframe tbody tr th:only-of-type {\n",
       "        vertical-align: middle;\n",
       "    }\n",
       "\n",
       "    .dataframe tbody tr th {\n",
       "        vertical-align: top;\n",
       "    }\n",
       "\n",
       "    .dataframe thead th {\n",
       "        text-align: right;\n",
       "    }\n",
       "</style>\n",
       "<table border=\"1\" class=\"dataframe\">\n",
       "  <thead>\n",
       "    <tr style=\"text-align: right;\">\n",
       "      <th></th>\n",
       "      <th>id</th>\n",
       "      <th>gender</th>\n",
       "      <th>age</th>\n",
       "      <th>hypertension</th>\n",
       "      <th>heart_disease</th>\n",
       "      <th>ever_married</th>\n",
       "      <th>work_type</th>\n",
       "      <th>Residence_type</th>\n",
       "      <th>avg_glucose_level</th>\n",
       "      <th>bmi</th>\n",
       "      <th>smoking_status</th>\n",
       "      <th>stroke</th>\n",
       "    </tr>\n",
       "  </thead>\n",
       "  <tbody>\n",
       "    <tr>\n",
       "      <th>0</th>\n",
       "      <td>9046</td>\n",
       "      <td>Male</td>\n",
       "      <td>67.0</td>\n",
       "      <td>0</td>\n",
       "      <td>1</td>\n",
       "      <td>Yes</td>\n",
       "      <td>Private</td>\n",
       "      <td>Urban</td>\n",
       "      <td>228.69</td>\n",
       "      <td>36.6</td>\n",
       "      <td>formerly smoked</td>\n",
       "      <td>1</td>\n",
       "    </tr>\n",
       "    <tr>\n",
       "      <th>1</th>\n",
       "      <td>51676</td>\n",
       "      <td>Female</td>\n",
       "      <td>61.0</td>\n",
       "      <td>0</td>\n",
       "      <td>0</td>\n",
       "      <td>Yes</td>\n",
       "      <td>Self-employed</td>\n",
       "      <td>Rural</td>\n",
       "      <td>202.21</td>\n",
       "      <td>NaN</td>\n",
       "      <td>never smoked</td>\n",
       "      <td>1</td>\n",
       "    </tr>\n",
       "    <tr>\n",
       "      <th>2</th>\n",
       "      <td>31112</td>\n",
       "      <td>Male</td>\n",
       "      <td>80.0</td>\n",
       "      <td>0</td>\n",
       "      <td>1</td>\n",
       "      <td>Yes</td>\n",
       "      <td>Private</td>\n",
       "      <td>Rural</td>\n",
       "      <td>105.92</td>\n",
       "      <td>32.5</td>\n",
       "      <td>never smoked</td>\n",
       "      <td>1</td>\n",
       "    </tr>\n",
       "    <tr>\n",
       "      <th>3</th>\n",
       "      <td>60182</td>\n",
       "      <td>Female</td>\n",
       "      <td>49.0</td>\n",
       "      <td>0</td>\n",
       "      <td>0</td>\n",
       "      <td>Yes</td>\n",
       "      <td>Private</td>\n",
       "      <td>Urban</td>\n",
       "      <td>171.23</td>\n",
       "      <td>34.4</td>\n",
       "      <td>smokes</td>\n",
       "      <td>1</td>\n",
       "    </tr>\n",
       "    <tr>\n",
       "      <th>4</th>\n",
       "      <td>1665</td>\n",
       "      <td>Female</td>\n",
       "      <td>79.0</td>\n",
       "      <td>1</td>\n",
       "      <td>0</td>\n",
       "      <td>Yes</td>\n",
       "      <td>Self-employed</td>\n",
       "      <td>Rural</td>\n",
       "      <td>174.12</td>\n",
       "      <td>24.0</td>\n",
       "      <td>never smoked</td>\n",
       "      <td>1</td>\n",
       "    </tr>\n",
       "    <tr>\n",
       "      <th>5</th>\n",
       "      <td>56669</td>\n",
       "      <td>Male</td>\n",
       "      <td>81.0</td>\n",
       "      <td>0</td>\n",
       "      <td>0</td>\n",
       "      <td>Yes</td>\n",
       "      <td>Private</td>\n",
       "      <td>Urban</td>\n",
       "      <td>186.21</td>\n",
       "      <td>29.0</td>\n",
       "      <td>formerly smoked</td>\n",
       "      <td>1</td>\n",
       "    </tr>\n",
       "  </tbody>\n",
       "</table>\n",
       "</div>"
      ],
      "text/plain": [
       "      id  gender   age  hypertension  heart_disease ever_married  \\\n",
       "0   9046    Male  67.0             0              1          Yes   \n",
       "1  51676  Female  61.0             0              0          Yes   \n",
       "2  31112    Male  80.0             0              1          Yes   \n",
       "3  60182  Female  49.0             0              0          Yes   \n",
       "4   1665  Female  79.0             1              0          Yes   \n",
       "5  56669    Male  81.0             0              0          Yes   \n",
       "\n",
       "       work_type Residence_type  avg_glucose_level   bmi   smoking_status  \\\n",
       "0        Private          Urban             228.69  36.6  formerly smoked   \n",
       "1  Self-employed          Rural             202.21   NaN     never smoked   \n",
       "2        Private          Rural             105.92  32.5     never smoked   \n",
       "3        Private          Urban             171.23  34.4           smokes   \n",
       "4  Self-employed          Rural             174.12  24.0     never smoked   \n",
       "5        Private          Urban             186.21  29.0  formerly smoked   \n",
       "\n",
       "   stroke  \n",
       "0       1  \n",
       "1       1  \n",
       "2       1  \n",
       "3       1  \n",
       "4       1  \n",
       "5       1  "
      ]
     },
     "execution_count": 5,
     "metadata": {},
     "output_type": "execute_result"
    }
   ],
   "source": [
    "data.head(6)"
   ]
  },
  {
   "cell_type": "markdown",
   "metadata": {
    "id": "tvc7SWXDwpmd"
   },
   "source": [
    "** Observations **\n",
    "  - The variables hypertension, heart disease and the target variable, stroke are categorical so their data types will be changed below for exploratory analysis.\n",
    "  - The variable id serves as a unique identifier for each patient. As such, it would be dropped."
   ]
  },
  {
   "cell_type": "code",
   "execution_count": 6,
   "metadata": {
    "executionInfo": {
     "elapsed": 62,
     "status": "ok",
     "timestamp": 1638818321503,
     "user": {
      "displayName": "Henrietta Kadi Tettey-Tawiah",
      "photoUrl": "https://lh3.googleusercontent.com/a/default-user=s64",
      "userId": "08888930326766866324"
     },
     "user_tz": 0
    },
    "id": "ark57XILw9lU"
   },
   "outputs": [],
   "source": [
    "data[\"hypertension\"]=data[\"hypertension\"].astype(str)\n",
    "data[\"heart_disease\"] = data[\"heart_disease\"].astype(str)\n",
    "data[\"stroke\"] = data[\"stroke\"].astype(str)"
   ]
  },
  {
   "cell_type": "code",
   "execution_count": 7,
   "metadata": {
    "colab": {
     "base_uri": "https://localhost:8080/"
    },
    "executionInfo": {
     "elapsed": 60,
     "status": "ok",
     "timestamp": 1638818321504,
     "user": {
      "displayName": "Henrietta Kadi Tettey-Tawiah",
      "photoUrl": "https://lh3.googleusercontent.com/a/default-user=s64",
      "userId": "08888930326766866324"
     },
     "user_tz": 0
    },
    "id": "eii7-INIxlVc",
    "outputId": "ab59adf3-6398-44b2-f222-256a76e42503"
   },
   "outputs": [
    {
     "name": "stdout",
     "output_type": "stream",
     "text": [
      "<class 'pandas.core.frame.DataFrame'>\n",
      "RangeIndex: 5110 entries, 0 to 5109\n",
      "Data columns (total 12 columns):\n",
      " #   Column             Non-Null Count  Dtype  \n",
      "---  ------             --------------  -----  \n",
      " 0   id                 5110 non-null   int64  \n",
      " 1   gender             5110 non-null   object \n",
      " 2   age                5110 non-null   float64\n",
      " 3   hypertension       5110 non-null   object \n",
      " 4   heart_disease      5110 non-null   object \n",
      " 5   ever_married       5110 non-null   object \n",
      " 6   work_type          5110 non-null   object \n",
      " 7   Residence_type     5110 non-null   object \n",
      " 8   avg_glucose_level  5110 non-null   float64\n",
      " 9   bmi                4909 non-null   float64\n",
      " 10  smoking_status     5110 non-null   object \n",
      " 11  stroke             5110 non-null   object \n",
      "dtypes: float64(3), int64(1), object(8)\n",
      "memory usage: 479.2+ KB\n"
     ]
    }
   ],
   "source": [
    "data.info()"
   ]
  },
  {
   "cell_type": "code",
   "execution_count": 8,
   "metadata": {
    "colab": {
     "base_uri": "https://localhost:8080/"
    },
    "executionInfo": {
     "elapsed": 58,
     "status": "ok",
     "timestamp": 1638818321505,
     "user": {
      "displayName": "Henrietta Kadi Tettey-Tawiah",
      "photoUrl": "https://lh3.googleusercontent.com/a/default-user=s64",
      "userId": "08888930326766866324"
     },
     "user_tz": 0
    },
    "id": "QxMnI9bIK2VC",
    "outputId": "4314e843-0b37-41eb-8264-998c9c247885"
   },
   "outputs": [
    {
     "data": {
      "text/plain": [
       "id                     0\n",
       "gender                 0\n",
       "age                    0\n",
       "hypertension           0\n",
       "heart_disease          0\n",
       "ever_married           0\n",
       "work_type              0\n",
       "Residence_type         0\n",
       "avg_glucose_level      0\n",
       "bmi                  201\n",
       "smoking_status         0\n",
       "stroke                 0\n",
       "dtype: int64"
      ]
     },
     "execution_count": 8,
     "metadata": {},
     "output_type": "execute_result"
    }
   ],
   "source": [
    "data.isnull().sum()"
   ]
  },
  {
   "cell_type": "markdown",
   "metadata": {
    "id": "E7DA2fpLLaCj"
   },
   "source": [
    "The variable bmi contains 201 missing entries while all other variables do not contain any missing entries"
   ]
  },
  {
   "cell_type": "code",
   "execution_count": 9,
   "metadata": {
    "colab": {
     "base_uri": "https://localhost:8080/"
    },
    "executionInfo": {
     "elapsed": 57,
     "status": "ok",
     "timestamp": 1638818321506,
     "user": {
      "displayName": "Henrietta Kadi Tettey-Tawiah",
      "photoUrl": "https://lh3.googleusercontent.com/a/default-user=s64",
      "userId": "08888930326766866324"
     },
     "user_tz": 0
    },
    "id": "tMYEnZ69LXyH",
    "outputId": "c3074be2-f18c-481d-8c5e-b4bea6ed2e03"
   },
   "outputs": [
    {
     "data": {
      "text/plain": [
       "id                   0.000000\n",
       "gender               0.000000\n",
       "age                  0.000000\n",
       "hypertension         0.000000\n",
       "heart_disease        0.000000\n",
       "ever_married         0.000000\n",
       "work_type            0.000000\n",
       "Residence_type       0.000000\n",
       "avg_glucose_level    0.000000\n",
       "bmi                  3.933464\n",
       "smoking_status       0.000000\n",
       "stroke               0.000000\n",
       "dtype: float64"
      ]
     },
     "execution_count": 9,
     "metadata": {},
     "output_type": "execute_result"
    }
   ],
   "source": [
    "data.isnull().sum() * 100/len(data)"
   ]
  },
  {
   "cell_type": "markdown",
   "metadata": {
    "id": "eyGeGQn5L0z9"
   },
   "source": [
    "The variable bmi contains about 4% missing values. Since the proportion of missing values is not significant they will be imputed later."
   ]
  },
  {
   "cell_type": "markdown",
   "metadata": {
    "id": "oblo3h1SyBRO"
   },
   "source": [
    "### Splitting Dataset Based on Data Types"
   ]
  },
  {
   "cell_type": "code",
   "execution_count": 10,
   "metadata": {
    "executionInfo": {
     "elapsed": 55,
     "status": "ok",
     "timestamp": 1638818321507,
     "user": {
      "displayName": "Henrietta Kadi Tettey-Tawiah",
      "photoUrl": "https://lh3.googleusercontent.com/a/default-user=s64",
      "userId": "08888930326766866324"
     },
     "user_tz": 0
    },
    "id": "AEfRGkfMyAjd"
   },
   "outputs": [],
   "source": [
    "cat_var=data.select_dtypes(include='object')\n",
    "num_var = data.select_dtypes(include=np.number)"
   ]
  },
  {
   "cell_type": "markdown",
   "metadata": {
    "id": "pTCM3FENy-NW"
   },
   "source": [
    "## Exploring Categorical Variables"
   ]
  },
  {
   "cell_type": "code",
   "execution_count": 11,
   "metadata": {
    "colab": {
     "base_uri": "https://localhost:8080/"
    },
    "executionInfo": {
     "elapsed": 49,
     "status": "ok",
     "timestamp": 1638818321508,
     "user": {
      "displayName": "Henrietta Kadi Tettey-Tawiah",
      "photoUrl": "https://lh3.googleusercontent.com/a/default-user=s64",
      "userId": "08888930326766866324"
     },
     "user_tz": 0
    },
    "id": "fGMssi0qLuGa",
    "outputId": "40c231e9-bd86-4760-b597-fb55a6ddab8c"
   },
   "outputs": [
    {
     "name": "stdout",
     "output_type": "stream",
     "text": [
      "gender\n",
      "hypertension\n",
      "heart_disease\n",
      "ever_married\n",
      "work_type\n",
      "Residence_type\n",
      "smoking_status\n",
      "stroke\n"
     ]
    }
   ],
   "source": [
    "for col in cat_var.columns:\n",
    "  print(col)"
   ]
  },
  {
   "cell_type": "markdown",
   "metadata": {
    "id": "jQX8x4ad3b5I"
   },
   "source": [
    "### Descriptive Analysis and Visualizations on Each Variable"
   ]
  },
  {
   "cell_type": "code",
   "execution_count": 12,
   "metadata": {
    "executionInfo": {
     "elapsed": 48,
     "status": "ok",
     "timestamp": 1638818321509,
     "user": {
      "displayName": "Henrietta Kadi Tettey-Tawiah",
      "photoUrl": "https://lh3.googleusercontent.com/a/default-user=s64",
      "userId": "08888930326766866324"
     },
     "user_tz": 0
    },
    "id": "Vd9UE094BAP2"
   },
   "outputs": [],
   "source": [
    "# Writing a function to explore categorical variables\n",
    "\n",
    "def cat_des(df,v):\n",
    "  print(\"Description \\n\")\n",
    "  print(df[v].describe(), \"\\n\")\n",
    "  print(\"======================================================\")\n",
    "  print(\" \")\n",
    "  print(\"Value Count \\n\")\n",
    "  print(df[v].value_counts(),\"\\n\")\n",
    "  print(\"======================================================\")\n",
    "  print(\" \")\n",
    "  print(\"Missing Values \\n\")\n",
    "  print(df[v].isnull().sum(),\"\\n\")\n",
    "  print(\"======================================================\")\n",
    "  print(\" \")\n",
    "  sns.countplot(df[v])\n",
    "  plt.show()"
   ]
  },
  {
   "cell_type": "markdown",
   "metadata": {
    "id": "bb9DN1ZA0w3p"
   },
   "source": [
    "#### Stroke"
   ]
  },
  {
   "cell_type": "code",
   "execution_count": 13,
   "metadata": {
    "colab": {
     "base_uri": "https://localhost:8080/",
     "height": 503
    },
    "executionInfo": {
     "elapsed": 46,
     "status": "ok",
     "timestamp": 1638818321509,
     "user": {
      "displayName": "Henrietta Kadi Tettey-Tawiah",
      "photoUrl": "https://lh3.googleusercontent.com/a/default-user=s64",
      "userId": "08888930326766866324"
     },
     "user_tz": 0
    },
    "id": "rSFC4y-10rJs",
    "outputId": "4dbcfbfe-30c9-49d9-c490-d6e402fb6b58"
   },
   "outputs": [
    {
     "name": "stdout",
     "output_type": "stream",
     "text": [
      "Description \n",
      "\n",
      "count     5110\n",
      "unique       2\n",
      "top          0\n",
      "freq      4861\n",
      "Name: stroke, dtype: object \n",
      "\n",
      "======================================================\n",
      " \n",
      "Value Count \n",
      "\n",
      "0    4861\n",
      "1     249\n",
      "Name: stroke, dtype: int64 \n",
      "\n",
      "======================================================\n",
      " \n",
      "Missing Values \n",
      "\n",
      "0 \n",
      "\n",
      "======================================================\n",
      " \n"
     ]
    },
    {
     "data": {
      "image/png": "[encoded data removed]",
      "text/plain": [
       "<Figure size 432x288 with 1 Axes>"
      ]
     },
     "metadata": {
      "needs_background": "light"
     },
     "output_type": "display_data"
    }
   ],
   "source": [
    "cat_des(data, \"stroke\")"
   ]
  },
  {
   "cell_type": "markdown",
   "metadata": {
    "id": "CUnym84p1oyL"
   },
   "source": [
    "Here, 1 represents a patient who had stoke and 0 otherwise.\n",
    "\n",
    "**Observations**\n",
    "  - The target variable contains no missing values.\n",
    "  - There are two unique outcomes in the variable.\n",
    "  - The variables are highly imbalanced with 0 occuring more often. This would be worked on later."
   ]
  },
  {
   "cell_type": "markdown",
   "metadata": {
    "id": "3P4kMB7i2YAA"
   },
   "source": [
    "#### Gender"
   ]
  },
  {
   "cell_type": "code",
   "execution_count": 14,
   "metadata": {
    "colab": {
     "base_uri": "https://localhost:8080/",
     "height": 521
    },
    "executionInfo": {
     "elapsed": 42,
     "status": "ok",
     "timestamp": 1638818321511,
     "user": {
      "displayName": "Henrietta Kadi Tettey-Tawiah",
      "photoUrl": "https://lh3.googleusercontent.com/a/default-user=s64",
      "userId": "08888930326766866324"
     },
     "user_tz": 0
    },
    "id": "a8gB8T-J1d8K",
    "outputId": "38ffe44d-46db-4f4f-be2e-b53774ea6d13"
   },
   "outputs": [
    {
     "name": "stdout",
     "output_type": "stream",
     "text": [
      "Description \n",
      "\n",
      "count       5110\n",
      "unique         3\n",
      "top       Female\n",
      "freq        2994\n",
      "Name: gender, dtype: object \n",
      "\n",
      "======================================================\n",
      " \n",
      "Value Count \n",
      "\n",
      "Female    2994\n",
      "Male      2115\n",
      "Other        1\n",
      "Name: gender, dtype: int64 \n",
      "\n",
      "======================================================\n",
      " \n",
      "Missing Values \n",
      "\n",
      "0 \n",
      "\n",
      "======================================================\n",
      " \n"
     ]
    },
    {
     "data": {
      "image/png": "[encoded data removed]",
      "text/plain": [
       "<Figure size 432x288 with 1 Axes>"
      ]
     },
     "metadata": {
      "needs_background": "light"
     },
     "output_type": "display_data"
    }
   ],
   "source": [
    "cat_des(data, \"gender\")\n"
   ]
  },
  {
   "cell_type": "markdown",
   "metadata": {
    "id": "efxsrI1l4b9E"
   },
   "source": [
    "**Observations**\n",
    "  - This variable has no missing values.\n",
    "  - There are 3 unique classes for this variable.\n",
    "  - The data set is balanced between males and females but other has a single observation. "
   ]
  },
  {
   "cell_type": "markdown",
   "metadata": {
    "id": "UEFygwbS3pts"
   },
   "source": [
    "#### Hypertension"
   ]
  },
  {
   "cell_type": "code",
   "execution_count": 15,
   "metadata": {
    "colab": {
     "base_uri": "https://localhost:8080/",
     "height": 503
    },
    "executionInfo": {
     "elapsed": 1242,
     "status": "ok",
     "timestamp": 1638818322715,
     "user": {
      "displayName": "Henrietta Kadi Tettey-Tawiah",
      "photoUrl": "https://lh3.googleusercontent.com/a/default-user=s64",
      "userId": "08888930326766866324"
     },
     "user_tz": 0
    },
    "id": "7VXu8-Qh20F0",
    "outputId": "81339661-94ec-4510-dda0-67efdfb15b48"
   },
   "outputs": [
    {
     "name": "stdout",
     "output_type": "stream",
     "text": [
      "Description \n",
      "\n",
      "count     5110\n",
      "unique       2\n",
      "top          0\n",
      "freq      4612\n",
      "Name: hypertension, dtype: object \n",
      "\n",
      "======================================================\n",
      " \n",
      "Value Count \n",
      "\n",
      "0    4612\n",
      "1     498\n",
      "Name: hypertension, dtype: int64 \n",
      "\n",
      "======================================================\n",
      " \n",
      "Missing Values \n",
      "\n",
      "0 \n",
      "\n",
      "======================================================\n",
      " \n"
     ]
    },
    {
     "data": {
      "image/png": "[encoded data removed]",
      "text/plain": [
       "<Figure size 432x288 with 1 Axes>"
      ]
     },
     "metadata": {
      "needs_background": "light"
     },
     "output_type": "display_data"
    }
   ],
   "source": [
    "cat_des(data, 'hypertension')\n"
   ]
  },
  {
   "cell_type": "markdown",
   "metadata": {
    "id": "2Y9WUoQY4Awl"
   },
   "source": [
    " Here, 0 represents a patient who doesn't have hypertension and 1 otherwise.\n",
    "\n",
    " **Observations**\n",
    "\n",
    "  - This variable contains no missing values.\n",
    "  - There are 2 unique classes in this variable.\n",
    "  - The observations are imbalanced between the 2 classes with 0 occuring more often.."
   ]
  },
  {
   "cell_type": "markdown",
   "metadata": {
    "id": "pYZR42tW560q"
   },
   "source": [
    "#### Heart Disease"
   ]
  },
  {
   "cell_type": "code",
   "execution_count": 16,
   "metadata": {
    "colab": {
     "base_uri": "https://localhost:8080/",
     "height": 503
    },
    "executionInfo": {
     "elapsed": 55,
     "status": "ok",
     "timestamp": 1638818322718,
     "user": {
      "displayName": "Henrietta Kadi Tettey-Tawiah",
      "photoUrl": "https://lh3.googleusercontent.com/a/default-user=s64",
      "userId": "08888930326766866324"
     },
     "user_tz": 0
    },
    "id": "Rb8yPt1s59Ot",
    "outputId": "a21acb3d-04af-45f2-881c-6cb9600c1132"
   },
   "outputs": [
    {
     "name": "stdout",
     "output_type": "stream",
     "text": [
      "Description \n",
      "\n",
      "count     5110\n",
      "unique       2\n",
      "top          0\n",
      "freq      4834\n",
      "Name: heart_disease, dtype: object \n",
      "\n",
      "======================================================\n",
      " \n",
      "Value Count \n",
      "\n",
      "0    4834\n",
      "1     276\n",
      "Name: heart_disease, dtype: int64 \n",
      "\n",
      "======================================================\n",
      " \n",
      "Missing Values \n",
      "\n",
      "0 \n",
      "\n",
      "======================================================\n",
      " \n"
     ]
    },
    {
     "data": {
      "image/png": "[encoded data removed]",
      "text/plain": [
       "<Figure size 432x288 with 1 Axes>"
      ]
     },
     "metadata": {
      "needs_background": "light"
     },
     "output_type": "display_data"
    }
   ],
   "source": [
    "cat_des(data,'heart_disease' )\n"
   ]
  },
  {
   "cell_type": "markdown",
   "metadata": {
    "id": "sMoYgX-Q6Dqc"
   },
   "source": [
    "Here, 0 represents a patient who doesn't have any heart diseases and 1 otherwise.\n",
    "\n",
    "**Observations**\n",
    "\n",
    "  - There are no missing values in this observation.\n",
    "  - There are 2 unique classes in this variable.\n",
    "  - The variable is highly imbalanced with 0 occuring frequently."
   ]
  },
  {
   "cell_type": "markdown",
   "metadata": {
    "id": "OB516vo67410"
   },
   "source": [
    "#### Ever Married"
   ]
  },
  {
   "cell_type": "code",
   "execution_count": 17,
   "metadata": {
    "colab": {
     "base_uri": "https://localhost:8080/",
     "height": 503
    },
    "executionInfo": {
     "elapsed": 52,
     "status": "ok",
     "timestamp": 1638818322718,
     "user": {
      "displayName": "Henrietta Kadi Tettey-Tawiah",
      "photoUrl": "https://lh3.googleusercontent.com/a/default-user=s64",
      "userId": "08888930326766866324"
     },
     "user_tz": 0
    },
    "id": "h20Vioig6B7F",
    "outputId": "35546418-c93c-4197-919d-1d1ecdff12da"
   },
   "outputs": [
    {
     "name": "stdout",
     "output_type": "stream",
     "text": [
      "Description \n",
      "\n",
      "count     5110\n",
      "unique       2\n",
      "top        Yes\n",
      "freq      3353\n",
      "Name: ever_married, dtype: object \n",
      "\n",
      "======================================================\n",
      " \n",
      "Value Count \n",
      "\n",
      "Yes    3353\n",
      "No     1757\n",
      "Name: ever_married, dtype: int64 \n",
      "\n",
      "======================================================\n",
      " \n",
      "Missing Values \n",
      "\n",
      "0 \n",
      "\n",
      "======================================================\n",
      " \n"
     ]
    },
    {
     "data": {
      "image/png": "[encoded data removed]",
      "text/plain": [
       "<Figure size 432x288 with 1 Axes>"
      ]
     },
     "metadata": {
      "needs_background": "light"
     },
     "output_type": "display_data"
    }
   ],
   "source": [
    "cat_des(data,'ever_married')\n",
    "\n"
   ]
  },
  {
   "cell_type": "markdown",
   "metadata": {
    "id": "qHDeLcim8HdZ"
   },
   "source": [
    "**Observations**\n",
    "\n",
    "  - There are no missing values in this variable.\n",
    "  - There are 2 unique classes in this variable.\n",
    "  - The variable contains fairly balanced observation."
   ]
  },
  {
   "cell_type": "markdown",
   "metadata": {
    "id": "2TGxKFgZ8ehu"
   },
   "source": [
    "#### Work Type"
   ]
  },
  {
   "cell_type": "code",
   "execution_count": 18,
   "metadata": {
    "colab": {
     "base_uri": "https://localhost:8080/",
     "height": 559
    },
    "executionInfo": {
     "elapsed": 51,
     "status": "ok",
     "timestamp": 1638818322720,
     "user": {
      "displayName": "Henrietta Kadi Tettey-Tawiah",
      "photoUrl": "https://lh3.googleusercontent.com/a/default-user=s64",
      "userId": "08888930326766866324"
     },
     "user_tz": 0
    },
    "id": "uEwFAAvE8ESW",
    "outputId": "8cdf6491-898c-4084-f2f0-6a0f6ab54c0a"
   },
   "outputs": [
    {
     "name": "stdout",
     "output_type": "stream",
     "text": [
      "Description \n",
      "\n",
      "count        5110\n",
      "unique          5\n",
      "top       Private\n",
      "freq         2925\n",
      "Name: work_type, dtype: object \n",
      "\n",
      "======================================================\n",
      " \n",
      "Value Count \n",
      "\n",
      "Private          2925\n",
      "Self-employed     819\n",
      "children          687\n",
      "Govt_job          657\n",
      "Never_worked       22\n",
      "Name: work_type, dtype: int64 \n",
      "\n",
      "======================================================\n",
      " \n",
      "Missing Values \n",
      "\n",
      "0 \n",
      "\n",
      "======================================================\n",
      " \n"
     ]
    },
    {
     "data": {
      "image/png": "[encoded data removed]",
      "text/plain": [
       "<Figure size 432x288 with 1 Axes>"
      ]
     },
     "metadata": {
      "needs_background": "light"
     },
     "output_type": "display_data"
    }
   ],
   "source": [
    "cat_des(data,'work_type' )\n",
    "\n"
   ]
  },
  {
   "cell_type": "markdown",
   "metadata": {
    "id": "lAw4mDtd9WPS"
   },
   "source": [
    "**Observations**\n",
    "\n",
    "  - This variable contains no missing values.\n",
    "  - There 5 unique classes in this variable.\n",
    "  - The data points are imbalanced with Private occuring frequently and Never_worked occuring the least. As a result, that class will be added to the children class and renamed others."
   ]
  },
  {
   "cell_type": "code",
   "execution_count": 19,
   "metadata": {
    "executionInfo": {
     "elapsed": 47,
     "status": "ok",
     "timestamp": 1638818322720,
     "user": {
      "displayName": "Henrietta Kadi Tettey-Tawiah",
      "photoUrl": "https://lh3.googleusercontent.com/a/default-user=s64",
      "userId": "08888930326766866324"
     },
     "user_tz": 0
    },
    "id": "-xFgttJi-Wvm"
   },
   "outputs": [],
   "source": [
    "data[\"work_type\"].replace({\"children\":\"Other\"},inplace = True)\n",
    "data[\"work_type\"].replace({\"Never_worked\":\"Other\"},inplace = True)"
   ]
  },
  {
   "cell_type": "code",
   "execution_count": 20,
   "metadata": {
    "colab": {
     "base_uri": "https://localhost:8080/",
     "height": 54
    },
    "executionInfo": {
     "elapsed": 47,
     "status": "ok",
     "timestamp": 1638818322721,
     "user": {
      "displayName": "Henrietta Kadi Tettey-Tawiah",
      "photoUrl": "https://lh3.googleusercontent.com/a/default-user=s64",
      "userId": "08888930326766866324"
     },
     "user_tz": 0
    },
    "id": "jp8MCDqY-yB8",
    "outputId": "a67bf5c5-1e13-4ce2-ebb5-c302676d105e"
   },
   "outputs": [
    {
     "data": {
      "image/png": "[encoded data removed]",
      "text/plain": [
       "<Figure size 432x288 with 1 Axes>"
      ]
     },
     "metadata": {
      "needs_background": "light"
     },
     "output_type": "display_data"
    }
   ],
   "source": [
    "sns.countplot(data['work_type'])\n",
    "plt.show()"
   ]
  },
  {
   "cell_type": "markdown",
   "metadata": {
    "id": "F61T30Pi-VO2"
   },
   "source": [
    "The variable work_type now has 4 unique classes."
   ]
  },
  {
   "cell_type": "markdown",
   "metadata": {
    "id": "NNxpecoh88uq"
   },
   "source": [
    "#### Residence Type"
   ]
  },
  {
   "cell_type": "code",
   "execution_count": 21,
   "metadata": {
    "colab": {
     "base_uri": "https://localhost:8080/",
     "height": 503
    },
    "executionInfo": {
     "elapsed": 44,
     "status": "ok",
     "timestamp": 1638818322722,
     "user": {
      "displayName": "Henrietta Kadi Tettey-Tawiah",
      "photoUrl": "https://lh3.googleusercontent.com/a/default-user=s64",
      "userId": "08888930326766866324"
     },
     "user_tz": 0
    },
    "id": "UypnRCqA806r",
    "outputId": "5cfe05cc-4504-4329-9fad-30545e381147"
   },
   "outputs": [
    {
     "name": "stdout",
     "output_type": "stream",
     "text": [
      "Description \n",
      "\n",
      "count      5110\n",
      "unique        2\n",
      "top       Urban\n",
      "freq       2596\n",
      "Name: Residence_type, dtype: object \n",
      "\n",
      "======================================================\n",
      " \n",
      "Value Count \n",
      "\n",
      "Urban    2596\n",
      "Rural    2514\n",
      "Name: Residence_type, dtype: int64 \n",
      "\n",
      "======================================================\n",
      " \n",
      "Missing Values \n",
      "\n",
      "0 \n",
      "\n",
      "======================================================\n",
      " \n"
     ]
    },
    {
     "data": {
      "image/png": "[encoded data removed]",
      "text/plain": [
       "<Figure size 432x288 with 1 Axes>"
      ]
     },
     "metadata": {
      "needs_background": "light"
     },
     "output_type": "display_data"
    }
   ],
   "source": [
    "cat_des(data, 'Residence_type' )\n"
   ]
  },
  {
   "cell_type": "markdown",
   "metadata": {
    "id": "vLjTuvUc-_wP"
   },
   "source": [
    "**Observations**\n",
    "\n",
    "  - This variable contains no missing values.\n",
    "  - There are 2 unique classes in this variable.\n",
    "  - The data points are balanced as the variable contains almost the same number of observations for each class."
   ]
  },
  {
   "cell_type": "markdown",
   "metadata": {
    "id": "RnWMWbaM_ePr"
   },
   "source": [
    "#### Smoking Status"
   ]
  },
  {
   "cell_type": "code",
   "execution_count": 22,
   "metadata": {
    "colab": {
     "base_uri": "https://localhost:8080/",
     "height": 540
    },
    "executionInfo": {
     "elapsed": 43,
     "status": "ok",
     "timestamp": 1638818322723,
     "user": {
      "displayName": "Henrietta Kadi Tettey-Tawiah",
      "photoUrl": "https://lh3.googleusercontent.com/a/default-user=s64",
      "userId": "08888930326766866324"
     },
     "user_tz": 0
    },
    "id": "Z0StaOHi_gWX",
    "outputId": "1fa3f80e-3a11-4008-dba7-b61953ecc936"
   },
   "outputs": [
    {
     "name": "stdout",
     "output_type": "stream",
     "text": [
      "Description \n",
      "\n",
      "count             5110\n",
      "unique               4\n",
      "top       never smoked\n",
      "freq              1892\n",
      "Name: smoking_status, dtype: object \n",
      "\n",
      "======================================================\n",
      " \n",
      "Value Count \n",
      "\n",
      "never smoked       1892\n",
      "Unknown            1544\n",
      "formerly smoked     885\n",
      "smokes              789\n",
      "Name: smoking_status, dtype: int64 \n",
      "\n",
      "======================================================\n",
      " \n",
      "Missing Values \n",
      "\n",
      "0 \n",
      "\n",
      "======================================================\n",
      " \n"
     ]
    },
    {
     "data": {
      "image/png": "[encoded data removed]",
      "text/plain": [
       "<Figure size 432x288 with 1 Axes>"
      ]
     },
     "metadata": {
      "needs_background": "light"
     },
     "output_type": "display_data"
    }
   ],
   "source": [
    "cat_des(data, 'smoking_status' )\n"
   ]
  },
  {
   "cell_type": "markdown",
   "metadata": {
    "id": "Nmx3MzlT_xe9"
   },
   "source": [
    "**Observations**\n",
    "\n",
    "  - This variable contains no missing values.\n",
    "  - There are 4 unique classes in this variable.\n",
    "  - The data points are fairly balanced."
   ]
  },
  {
   "cell_type": "markdown",
   "metadata": {
    "id": "RQxO--pR__yd"
   },
   "source": [
    "### Checking the Relationship Among the Categorical Variables"
   ]
  },
  {
   "cell_type": "code",
   "execution_count": 23,
   "metadata": {
    "executionInfo": {
     "elapsed": 41,
     "status": "ok",
     "timestamp": 1638818322724,
     "user": {
      "displayName": "Henrietta Kadi Tettey-Tawiah",
      "photoUrl": "https://lh3.googleusercontent.com/a/default-user=s64",
      "userId": "08888930326766866324"
     },
     "user_tz": 0
    },
    "id": "cLS00s0G_uCb"
   },
   "outputs": [],
   "source": [
    "# Writing a function to test the association between the categorical variables.\n",
    "\n",
    "def association_test(df,x,y):\n",
    "  tb = pd.crosstab(df[x],df[y])\n",
    "  test = stat()\n",
    "  test.chisq(df=tb)\n",
    "\n",
    "\n",
    "  print(\"Null Hypothesis: {} and {} are independent\".format(x,y))\n",
    "  print(\"Alternate Hypothesis: {} and {} are not independent\\n\".format(x,y))\n",
    "\n",
    "  print(test.summary)"
   ]
  },
  {
   "cell_type": "markdown",
   "metadata": {
    "id": "ukxYzBCpC0_v"
   },
   "source": [
    "#### Stroke and Gender"
   ]
  },
  {
   "cell_type": "code",
   "execution_count": 24,
   "metadata": {
    "colab": {
     "base_uri": "https://localhost:8080/"
    },
    "executionInfo": {
     "elapsed": 634,
     "status": "ok",
     "timestamp": 1638818323318,
     "user": {
      "displayName": "Henrietta Kadi Tettey-Tawiah",
      "photoUrl": "https://lh3.googleusercontent.com/a/default-user=s64",
      "userId": "08888930326766866324"
     },
     "user_tz": 0
    },
    "id": "c7QDuO7CAyq2",
    "outputId": "691c31be-7a3b-45f8-962a-54081295a6c2"
   },
   "outputs": [
    {
     "name": "stdout",
     "output_type": "stream",
     "text": [
      "Null Hypothesis: stroke and gender are independent\n",
      "Alternate Hypothesis: stroke and gender are not independent\n",
      "\n",
      "\n",
      "Chi-squared test for independence\n",
      "\n",
      "Test              Df    Chi-square    P-value\n",
      "--------------  ----  ------------  ---------\n",
      "Pearson            2      0.472587   0.789549\n",
      "Log-likelihood     2      0.519447   0.771265\n",
      "\n"
     ]
    }
   ],
   "source": [
    "association_test(data,\"stroke\",\"gender\")"
   ]
  },
  {
   "cell_type": "markdown",
   "metadata": {
    "id": "9ro1TlPa5hQR"
   },
   "source": [
    "Given a p-value of 0.789549 we fail to reject the null hypothesis and conclude that stroke and gender are independent. This variable will not be dropped because it might be related to other variables."
   ]
  },
  {
   "cell_type": "markdown",
   "metadata": {
    "id": "uYm_ECPc6aNf"
   },
   "source": [
    "#### Stroke and Hypertension"
   ]
  },
  {
   "cell_type": "code",
   "execution_count": 25,
   "metadata": {
    "colab": {
     "base_uri": "https://localhost:8080/"
    },
    "executionInfo": {
     "elapsed": 33,
     "status": "ok",
     "timestamp": 1638818323319,
     "user": {
      "displayName": "Henrietta Kadi Tettey-Tawiah",
      "photoUrl": "https://lh3.googleusercontent.com/a/default-user=s64",
      "userId": "08888930326766866324"
     },
     "user_tz": 0
    },
    "id": "gHA-BDM5DEfX",
    "outputId": "2eb31243-a830-400f-b2e4-9bcc5102aad1"
   },
   "outputs": [
    {
     "name": "stdout",
     "output_type": "stream",
     "text": [
      "Null Hypothesis: stroke and hypertension are independent\n",
      "Alternate Hypothesis: stroke and hypertension are not independent\n",
      "\n",
      "\n",
      "Chi-squared test for independence\n",
      "\n",
      "Test              Df    Chi-square      P-value\n",
      "--------------  ----  ------------  -----------\n",
      "Pearson            1       81.6054  1.66162e-19\n",
      "Log-likelihood     1       59.7698  1.06627e-14\n",
      "\n"
     ]
    }
   ],
   "source": [
    "association_test(data, \"stroke\", \"hypertension\")"
   ]
  },
  {
   "cell_type": "markdown",
   "metadata": {
    "id": "hIT4RV_j6qep"
   },
   "source": [
    "With a p-value of 1.66162e-19 which is less than 0.05 at 5% significance level, there is enough evidence to reject the null hypothesis. This means that there is a relationship between stroke and hypertension."
   ]
  },
  {
   "cell_type": "markdown",
   "metadata": {
    "id": "N3SftOpj7QeN"
   },
   "source": [
    "#### Stroke and Heart Disease"
   ]
  },
  {
   "cell_type": "code",
   "execution_count": 26,
   "metadata": {
    "colab": {
     "base_uri": "https://localhost:8080/"
    },
    "executionInfo": {
     "elapsed": 32,
     "status": "ok",
     "timestamp": 1638818323319,
     "user": {
      "displayName": "Henrietta Kadi Tettey-Tawiah",
      "photoUrl": "https://lh3.googleusercontent.com/a/default-user=s64",
      "userId": "08888930326766866324"
     },
     "user_tz": 0
    },
    "id": "uypW7tMb7dOT",
    "outputId": "b61cd11c-ade5-433b-e52b-3e7b223f8ea0"
   },
   "outputs": [
    {
     "name": "stdout",
     "output_type": "stream",
     "text": [
      "Null Hypothesis: stroke and heart_disease are independent\n",
      "Alternate Hypothesis: stroke and heart_disease are not independent\n",
      "\n",
      "\n",
      "Chi-squared test for independence\n",
      "\n",
      "Test              Df    Chi-square      P-value\n",
      "--------------  ----  ------------  -----------\n",
      "Pearson            1       90.2596  2.08878e-21\n",
      "Log-likelihood     1       58.7244  1.81375e-14\n",
      "\n"
     ]
    }
   ],
   "source": [
    "association_test(data, \"stroke\", \"heart_disease\")"
   ]
  },
  {
   "cell_type": "markdown",
   "metadata": {
    "id": "vGcQvNJT7wZf"
   },
   "source": [
    "Given a p-value of 2.08878e-21 at 5% significance level, there is enough evidence to reject the null hypothesis and conclude that stroke and heart_disease are not independent."
   ]
  },
  {
   "cell_type": "markdown",
   "metadata": {
    "id": "NwD6LIcI8OrW"
   },
   "source": [
    "#### Stroke and Ever Married"
   ]
  },
  {
   "cell_type": "code",
   "execution_count": 27,
   "metadata": {
    "colab": {
     "base_uri": "https://localhost:8080/"
    },
    "executionInfo": {
     "elapsed": 31,
     "status": "ok",
     "timestamp": 1638818323320,
     "user": {
      "displayName": "Henrietta Kadi Tettey-Tawiah",
      "photoUrl": "https://lh3.googleusercontent.com/a/default-user=s64",
      "userId": "08888930326766866324"
     },
     "user_tz": 0
    },
    "id": "-TzOqaHa7vQy",
    "outputId": "61de8b53-49ac-4b04-9939-2f66a3607ef3"
   },
   "outputs": [
    {
     "name": "stdout",
     "output_type": "stream",
     "text": [
      "Null Hypothesis: stroke and ever_married are independent\n",
      "Alternate Hypothesis: stroke and ever_married are not independent\n",
      "\n",
      "\n",
      "Chi-squared test for independence\n",
      "\n",
      "Test              Df    Chi-square      P-value\n",
      "--------------  ----  ------------  -----------\n",
      "Pearson            1       58.9239  1.6389e-14\n",
      "Log-likelihood     1       69.6054  7.24401e-17\n",
      "\n"
     ]
    }
   ],
   "source": [
    "association_test(data, \"stroke\" , \"ever_married\")"
   ]
  },
  {
   "cell_type": "markdown",
   "metadata": {
    "id": "VHQKcsIx8lNq"
   },
   "source": [
    "With a p-value of 1.6389e-14 at 5% significance level, there is enough evidence to reject the null hypothesis and conclude that stroke and ever_married are not independent."
   ]
  },
  {
   "cell_type": "markdown",
   "metadata": {
    "id": "3nn0krag871U"
   },
   "source": [
    "#### Stroke and Work Type"
   ]
  },
  {
   "cell_type": "code",
   "execution_count": 28,
   "metadata": {
    "colab": {
     "base_uri": "https://localhost:8080/"
    },
    "executionInfo": {
     "elapsed": 30,
     "status": "ok",
     "timestamp": 1638818323321,
     "user": {
      "displayName": "Henrietta Kadi Tettey-Tawiah",
      "photoUrl": "https://lh3.googleusercontent.com/a/default-user=s64",
      "userId": "08888930326766866324"
     },
     "user_tz": 0
    },
    "id": "YEEQDvNq6olX",
    "outputId": "ebfdf180-8347-4f25-ecc2-52da0d5c43ef"
   },
   "outputs": [
    {
     "name": "stdout",
     "output_type": "stream",
     "text": [
      "Null Hypothesis: stroke and work_type are independent\n",
      "Alternate Hypothesis: stroke and work_type are not independent\n",
      "\n",
      "\n",
      "Chi-squared test for independence\n",
      "\n",
      "Test              Df    Chi-square      P-value\n",
      "--------------  ----  ------------  -----------\n",
      "Pearson            3       49.1596  1.20628e-10\n",
      "Log-likelihood     3       69.6296  5.12353e-15\n",
      "\n"
     ]
    }
   ],
   "source": [
    "association_test(data, \"stroke\", \"work_type\")"
   ]
  },
  {
   "cell_type": "markdown",
   "metadata": {
    "id": "WRRMG6eY9Fv1"
   },
   "source": [
    "At 5% significance level with a p-value of 1.20628e-10, there is enough evidence to reject the null hypothesis and conclude that stroke and work_type are not independent."
   ]
  },
  {
   "cell_type": "markdown",
   "metadata": {
    "id": "5u66QKND9ekM"
   },
   "source": [
    "#### Stroke and Residence Type"
   ]
  },
  {
   "cell_type": "code",
   "execution_count": 29,
   "metadata": {
    "colab": {
     "base_uri": "https://localhost:8080/"
    },
    "executionInfo": {
     "elapsed": 28,
     "status": "ok",
     "timestamp": 1638818323321,
     "user": {
      "displayName": "Henrietta Kadi Tettey-Tawiah",
      "photoUrl": "https://lh3.googleusercontent.com/a/default-user=s64",
      "userId": "08888930326766866324"
     },
     "user_tz": 0
    },
    "id": "fnPlTKuN9EUO",
    "outputId": "b4594106-0536-48ca-9586-93f8b41a1915"
   },
   "outputs": [
    {
     "name": "stdout",
     "output_type": "stream",
     "text": [
      "Null Hypothesis: stroke and Residence_type are independent\n",
      "Alternate Hypothesis: stroke and Residence_type are not independent\n",
      "\n",
      "\n",
      "Chi-squared test for independence\n",
      "\n",
      "Test              Df    Chi-square    P-value\n",
      "--------------  ----  ------------  ---------\n",
      "Pearson            1       1.08164   0.298332\n",
      "Log-likelihood     1       1.08305   0.298015\n",
      "\n"
     ]
    }
   ],
   "source": [
    "association_test(data, \"stroke\", \"Residence_type\")"
   ]
  },
  {
   "cell_type": "markdown",
   "metadata": {
    "id": "tCdI9MHS92nw"
   },
   "source": [
    "With a p-value of 0.298332 and at 5% significance level, there is not enogh evidencet to reject the null hypothesis. This implies that stroke and Residence_type are independent. "
   ]
  },
  {
   "cell_type": "markdown",
   "metadata": {
    "id": "F53Ebnlg_q2g"
   },
   "source": [
    "#### Stroke and Smoking Status"
   ]
  },
  {
   "cell_type": "code",
   "execution_count": 30,
   "metadata": {
    "colab": {
     "base_uri": "https://localhost:8080/"
    },
    "executionInfo": {
     "elapsed": 26,
     "status": "ok",
     "timestamp": 1638818323321,
     "user": {
      "displayName": "Henrietta Kadi Tettey-Tawiah",
      "photoUrl": "https://lh3.googleusercontent.com/a/default-user=s64",
      "userId": "08888930326766866324"
     },
     "user_tz": 0
    },
    "id": "EzALacxi9op2",
    "outputId": "c5569aa9-1d61-48bb-d9b0-75660e4581af"
   },
   "outputs": [
    {
     "name": "stdout",
     "output_type": "stream",
     "text": [
      "Null Hypothesis: stroke and smoking_status are independent\n",
      "Alternate Hypothesis: stroke and smoking_status are not independent\n",
      "\n",
      "\n",
      "Chi-squared test for independence\n",
      "\n",
      "Test              Df    Chi-square      P-value\n",
      "--------------  ----  ------------  -----------\n",
      "Pearson            3       29.1473  2.0854e-06\n",
      "Log-likelihood     3       28.1101  3.44389e-06\n",
      "\n"
     ]
    }
   ],
   "source": [
    "association_test(data, \"stroke\", \"smoking_status\")"
   ]
  },
  {
   "cell_type": "markdown",
   "metadata": {
    "id": "7PCnmcaT_5pk"
   },
   "source": [
    "Given a p-value of 2.0854e-06 at 5% significance level, there is enogh evidence to reject the null hypothesis. This means that stroke and smoking_status are not independent.\n",
    "\n",
    " "
   ]
  },
  {
   "cell_type": "markdown",
   "metadata": {
    "id": "irEsu1cVCo4J"
   },
   "source": [
    "## Exploring Numerical Variables"
   ]
  },
  {
   "cell_type": "code",
   "execution_count": 31,
   "metadata": {
    "colab": {
     "base_uri": "https://localhost:8080/"
    },
    "executionInfo": {
     "elapsed": 27,
     "status": "ok",
     "timestamp": 1638818323322,
     "user": {
      "displayName": "Henrietta Kadi Tettey-Tawiah",
      "photoUrl": "https://lh3.googleusercontent.com/a/default-user=s64",
      "userId": "08888930326766866324"
     },
     "user_tz": 0
    },
    "id": "rqHMtOGtCu9Z",
    "outputId": "a4f04b46-57dc-40e0-eba1-e6e4bfcaed1a"
   },
   "outputs": [
    {
     "name": "stdout",
     "output_type": "stream",
     "text": [
      "id\n",
      "age\n",
      "avg_glucose_level\n",
      "bmi\n"
     ]
    }
   ],
   "source": [
    "for i in num_var.columns:\n",
    "  print(i)"
   ]
  },
  {
   "cell_type": "markdown",
   "metadata": {
    "id": "pFGz0E4FEPWB"
   },
   "source": [
    "### Visualization of Numerical Variables"
   ]
  },
  {
   "cell_type": "code",
   "execution_count": 32,
   "metadata": {
    "executionInfo": {
     "elapsed": 26,
     "status": "ok",
     "timestamp": 1638818323322,
     "user": {
      "displayName": "Henrietta Kadi Tettey-Tawiah",
      "photoUrl": "https://lh3.googleusercontent.com/a/default-user=s64",
      "userId": "08888930326766866324"
     },
     "user_tz": 0
    },
    "id": "AgzmucLTDkLB"
   },
   "outputs": [],
   "source": [
    "# Writing a function to explore categorical variables\n",
    "\n",
    "def num_var_exp(df,x):\n",
    "  print(\"Summary Statistics \\n\")\n",
    "  print(df[x].apply([len, min, max, np.mean, np.median, np.std], \"\\n\"))\n",
    "  print(\"======================================================\")\n",
    "  print(\" \")\n",
    "  print(\"Missing Values \\n\")\n",
    "  print(df[x].isnull().sum(), \"\\n\")\n",
    "  print(\"======================================================\")\n",
    "  print(\" \")\n",
    "  plt.figure(figsize = (8, 4))\n",
    "  # plotting a boxplot\n",
    "  mnpp = dict(marker =  \"D\", markeredgecolor = \"black\", markerfacecolor = \"red\")\n",
    "  mdp = dict(linestyle = \"-\", linewidth = 3, color = \"gold\")\n",
    "  plt.subplot(1,2,1)\n",
    "  plt.boxplot(df[x],vert = True, patch_artist = True, notch = True,\n",
    "              showmeans =  True, medianprops = mdp, meanprops = mnpp)\n",
    "  plt.xlabel(df[x].name)\n",
    "  plt.title(\"Boxplot\")\n",
    "\n",
    "  # plotting a histogram\n",
    "  plt.subplot(1,2,2)\n",
    "  plt.hist(df[x])\n",
    "  plt.title(\"Histogram\")\n",
    "  plt.tight_layout()\n",
    "  plt.show()\n"
   ]
  },
  {
   "cell_type": "markdown",
   "metadata": {
    "id": "QCQdI0NCNYJs"
   },
   "source": [
    "#### Age"
   ]
  },
  {
   "cell_type": "code",
   "execution_count": 33,
   "metadata": {
    "colab": {
     "base_uri": "https://localhost:8080/",
     "height": 615
    },
    "executionInfo": {
     "elapsed": 26,
     "status": "ok",
     "timestamp": 1638818323323,
     "user": {
      "displayName": "Henrietta Kadi Tettey-Tawiah",
      "photoUrl": "https://lh3.googleusercontent.com/a/default-user=s64",
      "userId": "08888930326766866324"
     },
     "user_tz": 0
    },
    "id": "LRg4C9guNdrY",
    "outputId": "d65d97e1-73ee-43f7-a4f2-e0c71aec7cdc"
   },
   "outputs": [
    {
     "name": "stdout",
     "output_type": "stream",
     "text": [
      "Summary Statistics \n",
      "\n",
      "len       5110.000000\n",
      "min          0.080000\n",
      "max         82.000000\n",
      "mean        43.226614\n",
      "median      45.000000\n",
      "std         22.612647\n",
      "Name: age, dtype: float64\n",
      "======================================================\n",
      " \n",
      "Missing Values \n",
      "\n",
      "0 \n",
      "\n",
      "======================================================\n",
      " \n"
     ]
    },
    {
     "data": {
      "image/png": "[encoded data removed]",
      "text/plain": [
       "<Figure size 576x288 with 2 Axes>"
      ]
     },
     "metadata": {
      "needs_background": "light"
     },
     "output_type": "display_data"
    }
   ],
   "source": [
    "num_var_exp(data, \"age\")"
   ]
  },
  {
   "cell_type": "markdown",
   "metadata": {
    "id": "qgiApxZRQiyb"
   },
   "source": [
    "**Observations**\n",
    "\n",
    "  - There are no missing observations in this variable.\n",
    "  - There are no outliers in this variable. Howerver, the variable will be scaled during modelling. This is because the minimum and maximum values are quite far from the mean and median even though they are not considered  as outliers.\n",
    "  - The variable is approximately normally distributed."
   ]
  },
  {
   "cell_type": "markdown",
   "metadata": {
    "id": "pn0MIDTvSE27"
   },
   "source": [
    "#### Average Glucose Level"
   ]
  },
  {
   "cell_type": "code",
   "execution_count": 34,
   "metadata": {
    "colab": {
     "base_uri": "https://localhost:8080/",
     "height": 615
    },
    "executionInfo": {
     "elapsed": 21,
     "status": "ok",
     "timestamp": 1638818323323,
     "user": {
      "displayName": "Henrietta Kadi Tettey-Tawiah",
      "photoUrl": "https://lh3.googleusercontent.com/a/default-user=s64",
      "userId": "08888930326766866324"
     },
     "user_tz": 0
    },
    "id": "dABPKnzrN4tF",
    "outputId": "2631c916-606a-4985-dbf9-a08046a1ecdf"
   },
   "outputs": [
    {
     "name": "stdout",
     "output_type": "stream",
     "text": [
      "Summary Statistics \n",
      "\n",
      "len       5110.000000\n",
      "min         55.120000\n",
      "max        271.740000\n",
      "mean       106.147677\n",
      "median      91.885000\n",
      "std         45.283560\n",
      "Name: avg_glucose_level, dtype: float64\n",
      "======================================================\n",
      " \n",
      "Missing Values \n",
      "\n",
      "0 \n",
      "\n",
      "======================================================\n",
      " \n"
     ]
    },
    {
     "data": {
      "image/png": "[encoded data removed]",
      "text/plain": [
       "<Figure size 576x288 with 2 Axes>"
      ]
     },
     "metadata": {
      "needs_background": "light"
     },
     "output_type": "display_data"
    }
   ],
   "source": [
    "num_var_exp(data,\"avg_glucose_level\")"
   ]
  },
  {
   "cell_type": "markdown",
   "metadata": {
    "id": "f1PCfSjSUS3q"
   },
   "source": [
    "**Observations**\n",
    "\n",
    "  - There are no missing observations in this variable.\n",
    "  - This variable contains a lot of outliers.\n",
    "  - The variable is skewed to the right. Scaling will be done during modelling."
   ]
  },
  {
   "cell_type": "markdown",
   "metadata": {
    "id": "HW0PVErpU9FZ"
   },
   "source": [
    "#### BMI"
   ]
  },
  {
   "cell_type": "code",
   "execution_count": 35,
   "metadata": {
    "colab": {
     "base_uri": "https://localhost:8080/",
     "height": 615
    },
    "executionInfo": {
     "elapsed": 960,
     "status": "ok",
     "timestamp": 1638818324266,
     "user": {
      "displayName": "Henrietta Kadi Tettey-Tawiah",
      "photoUrl": "https://lh3.googleusercontent.com/a/default-user=s64",
      "userId": "08888930326766866324"
     },
     "user_tz": 0
    },
    "id": "DhgIxuukSRAh",
    "outputId": "369219eb-fdc1-4a5e-e209-29ddba685d8c"
   },
   "outputs": [
    {
     "name": "stdout",
     "output_type": "stream",
     "text": [
      "Summary Statistics \n",
      "\n",
      "len       5110.000000\n",
      "min         10.300000\n",
      "max         97.600000\n",
      "mean        28.893237\n",
      "median      28.100000\n",
      "std          7.854067\n",
      "Name: bmi, dtype: float64\n",
      "======================================================\n",
      " \n",
      "Missing Values \n",
      "\n",
      "201 \n",
      "\n",
      "======================================================\n",
      " \n"
     ]
    },
    {
     "data": {
      "image/png": "[encoded data removed]",
      "text/plain": [
       "<Figure size 576x288 with 2 Axes>"
      ]
     },
     "metadata": {
      "needs_background": "light"
     },
     "output_type": "display_data"
    }
   ],
   "source": [
    "num_var_exp(data, \"bmi\")"
   ]
  },
  {
   "cell_type": "markdown",
   "metadata": {
    "id": "eggzl_PCVK9D"
   },
   "source": [
    "**Observations**\n",
    "\n",
    "  - This variable contains missing values which will be imputed. Since the mean and median are not so far apart, it means the mean is not influenced by outliers. As such the mean will be used for the imputation.\n",
    "  - This variable is not normally distributed.\n",
    "  - This variable may contain outliers."
   ]
  },
  {
   "cell_type": "markdown",
   "metadata": {
    "id": "_HrxlFRtW3n_"
   },
   "source": [
    "### Correlation Analysis on Numerical Variables"
   ]
  },
  {
   "cell_type": "code",
   "execution_count": 36,
   "metadata": {
    "colab": {
     "base_uri": "https://localhost:8080/",
     "height": 488
    },
    "executionInfo": {
     "elapsed": 42,
     "status": "ok",
     "timestamp": 1638818324267,
     "user": {
      "displayName": "Henrietta Kadi Tettey-Tawiah",
      "photoUrl": "https://lh3.googleusercontent.com/a/default-user=s64",
      "userId": "08888930326766866324"
     },
     "user_tz": 0
    },
    "id": "ONRy10ryVIBQ",
    "outputId": "4f132fb9-b258-4d97-e69d-a50a10188404"
   },
   "outputs": [
    {
     "data": {
      "image/png": "[encoded data removed]",
      "text/plain": [
       "<Figure size 864x576 with 2 Axes>"
      ]
     },
     "metadata": {
      "needs_background": "light"
     },
     "output_type": "display_data"
    }
   ],
   "source": [
    "plt.figure(figsize=(12,8))\n",
    "sns.heatmap(num_var.corr(), cmap='coolwarm', annot=True, fmt='.1f', linewidths=.1)\n",
    "plt.show()"
   ]
  },
  {
   "cell_type": "markdown",
   "metadata": {
    "id": "YiTZF1WhXdj6"
   },
   "source": [
    "There seems not to be correlation amongst the numerical variables. Thus no multicolinearity."
   ]
  },
  {
   "cell_type": "markdown",
   "metadata": {
    "id": "IhWlRlU2YrMJ"
   },
   "source": [
    "## Data Preprocessing"
   ]
  },
  {
   "cell_type": "markdown",
   "metadata": {
    "id": "a_UZMgMfYCv_"
   },
   "source": [
    "### Dealing with Irrelevant Features"
   ]
  },
  {
   "cell_type": "code",
   "execution_count": 37,
   "metadata": {
    "colab": {
     "base_uri": "https://localhost:8080/",
     "height": 112
    },
    "executionInfo": {
     "elapsed": 37,
     "status": "ok",
     "timestamp": 1638818324267,
     "user": {
      "displayName": "Henrietta Kadi Tettey-Tawiah",
      "photoUrl": "https://lh3.googleusercontent.com/a/default-user=s64",
      "userId": "08888930326766866324"
     },
     "user_tz": 0
    },
    "id": "a6tXRMz4XlRO",
    "outputId": "fb2346af-5f48-42f7-f61a-a6d6ac026d60"
   },
   "outputs": [
    {
     "data": {
      "text/html": [
       "<div>\n",
       "<style scoped>\n",
       "    .dataframe tbody tr th:only-of-type {\n",
       "        vertical-align: middle;\n",
       "    }\n",
       "\n",
       "    .dataframe tbody tr th {\n",
       "        vertical-align: top;\n",
       "    }\n",
       "\n",
       "    .dataframe thead th {\n",
       "        text-align: right;\n",
       "    }\n",
       "</style>\n",
       "<table border=\"1\" class=\"dataframe\">\n",
       "  <thead>\n",
       "    <tr style=\"text-align: right;\">\n",
       "      <th></th>\n",
       "      <th>gender</th>\n",
       "      <th>age</th>\n",
       "      <th>hypertension</th>\n",
       "      <th>heart_disease</th>\n",
       "      <th>ever_married</th>\n",
       "      <th>work_type</th>\n",
       "      <th>Residence_type</th>\n",
       "      <th>avg_glucose_level</th>\n",
       "      <th>bmi</th>\n",
       "      <th>smoking_status</th>\n",
       "      <th>stroke</th>\n",
       "    </tr>\n",
       "  </thead>\n",
       "  <tbody>\n",
       "    <tr>\n",
       "      <th>0</th>\n",
       "      <td>Male</td>\n",
       "      <td>67.0</td>\n",
       "      <td>0</td>\n",
       "      <td>1</td>\n",
       "      <td>Yes</td>\n",
       "      <td>Private</td>\n",
       "      <td>Urban</td>\n",
       "      <td>228.69</td>\n",
       "      <td>36.6</td>\n",
       "      <td>formerly smoked</td>\n",
       "      <td>1</td>\n",
       "    </tr>\n",
       "    <tr>\n",
       "      <th>1</th>\n",
       "      <td>Female</td>\n",
       "      <td>61.0</td>\n",
       "      <td>0</td>\n",
       "      <td>0</td>\n",
       "      <td>Yes</td>\n",
       "      <td>Self-employed</td>\n",
       "      <td>Rural</td>\n",
       "      <td>202.21</td>\n",
       "      <td>NaN</td>\n",
       "      <td>never smoked</td>\n",
       "      <td>1</td>\n",
       "    </tr>\n",
       "  </tbody>\n",
       "</table>\n",
       "</div>"
      ],
      "text/plain": [
       "   gender   age hypertension heart_disease ever_married      work_type  \\\n",
       "0    Male  67.0            0             1          Yes        Private   \n",
       "1  Female  61.0            0             0          Yes  Self-employed   \n",
       "\n",
       "  Residence_type  avg_glucose_level   bmi   smoking_status stroke  \n",
       "0          Urban             228.69  36.6  formerly smoked      1  \n",
       "1          Rural             202.21   NaN     never smoked      1  "
      ]
     },
     "execution_count": 37,
     "metadata": {},
     "output_type": "execute_result"
    }
   ],
   "source": [
    "# Dropping irrelevant columns\n",
    "\n",
    "df = data.drop(columns=[\"id\"], axis = 1)\n",
    "df.head(2)"
   ]
  },
  {
   "cell_type": "markdown",
   "metadata": {
    "id": "LE7GqYRiY72b"
   },
   "source": [
    "### Dealing with Missing Values"
   ]
  },
  {
   "cell_type": "code",
   "execution_count": 38,
   "metadata": {
    "colab": {
     "base_uri": "https://localhost:8080/",
     "height": 206
    },
    "executionInfo": {
     "elapsed": 35,
     "status": "ok",
     "timestamp": 1638818324268,
     "user": {
      "displayName": "Henrietta Kadi Tettey-Tawiah",
      "photoUrl": "https://lh3.googleusercontent.com/a/default-user=s64",
      "userId": "08888930326766866324"
     },
     "user_tz": 0
    },
    "id": "OhGehW5pYURc",
    "outputId": "4a8cb343-02e4-4f38-9d21-c26adba0ba85"
   },
   "outputs": [
    {
     "data": {
      "text/html": [
       "<div>\n",
       "<style scoped>\n",
       "    .dataframe tbody tr th:only-of-type {\n",
       "        vertical-align: middle;\n",
       "    }\n",
       "\n",
       "    .dataframe tbody tr th {\n",
       "        vertical-align: top;\n",
       "    }\n",
       "\n",
       "    .dataframe thead th {\n",
       "        text-align: right;\n",
       "    }\n",
       "</style>\n",
       "<table border=\"1\" class=\"dataframe\">\n",
       "  <thead>\n",
       "    <tr style=\"text-align: right;\">\n",
       "      <th></th>\n",
       "      <th>gender</th>\n",
       "      <th>age</th>\n",
       "      <th>hypertension</th>\n",
       "      <th>heart_disease</th>\n",
       "      <th>ever_married</th>\n",
       "      <th>work_type</th>\n",
       "      <th>Residence_type</th>\n",
       "      <th>avg_glucose_level</th>\n",
       "      <th>bmi</th>\n",
       "      <th>smoking_status</th>\n",
       "      <th>stroke</th>\n",
       "    </tr>\n",
       "  </thead>\n",
       "  <tbody>\n",
       "    <tr>\n",
       "      <th>0</th>\n",
       "      <td>Male</td>\n",
       "      <td>67.0</td>\n",
       "      <td>0</td>\n",
       "      <td>1</td>\n",
       "      <td>Yes</td>\n",
       "      <td>Private</td>\n",
       "      <td>Urban</td>\n",
       "      <td>228.69</td>\n",
       "      <td>36.6</td>\n",
       "      <td>formerly smoked</td>\n",
       "      <td>1</td>\n",
       "    </tr>\n",
       "    <tr>\n",
       "      <th>1</th>\n",
       "      <td>Female</td>\n",
       "      <td>61.0</td>\n",
       "      <td>0</td>\n",
       "      <td>0</td>\n",
       "      <td>Yes</td>\n",
       "      <td>Self-employed</td>\n",
       "      <td>Rural</td>\n",
       "      <td>202.21</td>\n",
       "      <td>28.9</td>\n",
       "      <td>never smoked</td>\n",
       "      <td>1</td>\n",
       "    </tr>\n",
       "    <tr>\n",
       "      <th>2</th>\n",
       "      <td>Male</td>\n",
       "      <td>80.0</td>\n",
       "      <td>0</td>\n",
       "      <td>1</td>\n",
       "      <td>Yes</td>\n",
       "      <td>Private</td>\n",
       "      <td>Rural</td>\n",
       "      <td>105.92</td>\n",
       "      <td>32.5</td>\n",
       "      <td>never smoked</td>\n",
       "      <td>1</td>\n",
       "    </tr>\n",
       "    <tr>\n",
       "      <th>3</th>\n",
       "      <td>Female</td>\n",
       "      <td>49.0</td>\n",
       "      <td>0</td>\n",
       "      <td>0</td>\n",
       "      <td>Yes</td>\n",
       "      <td>Private</td>\n",
       "      <td>Urban</td>\n",
       "      <td>171.23</td>\n",
       "      <td>34.4</td>\n",
       "      <td>smokes</td>\n",
       "      <td>1</td>\n",
       "    </tr>\n",
       "    <tr>\n",
       "      <th>4</th>\n",
       "      <td>Female</td>\n",
       "      <td>79.0</td>\n",
       "      <td>1</td>\n",
       "      <td>0</td>\n",
       "      <td>Yes</td>\n",
       "      <td>Self-employed</td>\n",
       "      <td>Rural</td>\n",
       "      <td>174.12</td>\n",
       "      <td>24.0</td>\n",
       "      <td>never smoked</td>\n",
       "      <td>1</td>\n",
       "    </tr>\n",
       "  </tbody>\n",
       "</table>\n",
       "</div>"
      ],
      "text/plain": [
       "   gender   age hypertension heart_disease ever_married      work_type  \\\n",
       "0    Male  67.0            0             1          Yes        Private   \n",
       "1  Female  61.0            0             0          Yes  Self-employed   \n",
       "2    Male  80.0            0             1          Yes        Private   \n",
       "3  Female  49.0            0             0          Yes        Private   \n",
       "4  Female  79.0            1             0          Yes  Self-employed   \n",
       "\n",
       "  Residence_type  avg_glucose_level   bmi   smoking_status stroke  \n",
       "0          Urban             228.69  36.6  formerly smoked      1  \n",
       "1          Rural             202.21  28.9     never smoked      1  \n",
       "2          Rural             105.92  32.5     never smoked      1  \n",
       "3          Urban             171.23  34.4           smokes      1  \n",
       "4          Rural             174.12  24.0     never smoked      1  "
      ]
     },
     "execution_count": 38,
     "metadata": {},
     "output_type": "execute_result"
    }
   ],
   "source": [
    "mean_age = round(df['bmi'].mean(),1)\n",
    "df[\"bmi\"] = df[\"bmi\"].fillna(mean_age)\n",
    "df.head()"
   ]
  },
  {
   "cell_type": "markdown",
   "metadata": {
    "id": "28EjD_5KbQbh"
   },
   "source": [
    "### Converting Categorical Variables to Dummies"
   ]
  },
  {
   "cell_type": "code",
   "execution_count": 39,
   "metadata": {
    "colab": {
     "base_uri": "https://localhost:8080/",
     "height": 243
    },
    "executionInfo": {
     "elapsed": 33,
     "status": "ok",
     "timestamp": 1638818324268,
     "user": {
      "displayName": "Henrietta Kadi Tettey-Tawiah",
      "photoUrl": "https://lh3.googleusercontent.com/a/default-user=s64",
      "userId": "08888930326766866324"
     },
     "user_tz": 0
    },
    "id": "PHfSViJRbnLR",
    "outputId": "48f14bb4-d3d8-4418-dc19-3987980baba7"
   },
   "outputs": [
    {
     "data": {
      "text/html": [
       "<div>\n",
       "<style scoped>\n",
       "    .dataframe tbody tr th:only-of-type {\n",
       "        vertical-align: middle;\n",
       "    }\n",
       "\n",
       "    .dataframe tbody tr th {\n",
       "        vertical-align: top;\n",
       "    }\n",
       "\n",
       "    .dataframe thead th {\n",
       "        text-align: right;\n",
       "    }\n",
       "</style>\n",
       "<table border=\"1\" class=\"dataframe\">\n",
       "  <thead>\n",
       "    <tr style=\"text-align: right;\">\n",
       "      <th></th>\n",
       "      <th>age</th>\n",
       "      <th>hypertension</th>\n",
       "      <th>heart_disease</th>\n",
       "      <th>avg_glucose_level</th>\n",
       "      <th>bmi</th>\n",
       "      <th>stroke</th>\n",
       "      <th>gender_Male</th>\n",
       "      <th>gender_Other</th>\n",
       "      <th>ever_married_Yes</th>\n",
       "      <th>work_type_Other</th>\n",
       "      <th>work_type_Private</th>\n",
       "      <th>work_type_Self-employed</th>\n",
       "      <th>Residence_type_Urban</th>\n",
       "      <th>smoking_status_formerly smoked</th>\n",
       "      <th>smoking_status_never smoked</th>\n",
       "      <th>smoking_status_smokes</th>\n",
       "    </tr>\n",
       "  </thead>\n",
       "  <tbody>\n",
       "    <tr>\n",
       "      <th>0</th>\n",
       "      <td>67.0</td>\n",
       "      <td>0</td>\n",
       "      <td>1</td>\n",
       "      <td>228.69</td>\n",
       "      <td>36.6</td>\n",
       "      <td>1</td>\n",
       "      <td>1</td>\n",
       "      <td>0</td>\n",
       "      <td>1</td>\n",
       "      <td>0</td>\n",
       "      <td>1</td>\n",
       "      <td>0</td>\n",
       "      <td>1</td>\n",
       "      <td>1</td>\n",
       "      <td>0</td>\n",
       "      <td>0</td>\n",
       "    </tr>\n",
       "    <tr>\n",
       "      <th>1</th>\n",
       "      <td>61.0</td>\n",
       "      <td>0</td>\n",
       "      <td>0</td>\n",
       "      <td>202.21</td>\n",
       "      <td>28.9</td>\n",
       "      <td>1</td>\n",
       "      <td>0</td>\n",
       "      <td>0</td>\n",
       "      <td>1</td>\n",
       "      <td>0</td>\n",
       "      <td>0</td>\n",
       "      <td>1</td>\n",
       "      <td>0</td>\n",
       "      <td>0</td>\n",
       "      <td>1</td>\n",
       "      <td>0</td>\n",
       "    </tr>\n",
       "    <tr>\n",
       "      <th>2</th>\n",
       "      <td>80.0</td>\n",
       "      <td>0</td>\n",
       "      <td>1</td>\n",
       "      <td>105.92</td>\n",
       "      <td>32.5</td>\n",
       "      <td>1</td>\n",
       "      <td>1</td>\n",
       "      <td>0</td>\n",
       "      <td>1</td>\n",
       "      <td>0</td>\n",
       "      <td>1</td>\n",
       "      <td>0</td>\n",
       "      <td>0</td>\n",
       "      <td>0</td>\n",
       "      <td>1</td>\n",
       "      <td>0</td>\n",
       "    </tr>\n",
       "    <tr>\n",
       "      <th>3</th>\n",
       "      <td>49.0</td>\n",
       "      <td>0</td>\n",
       "      <td>0</td>\n",
       "      <td>171.23</td>\n",
       "      <td>34.4</td>\n",
       "      <td>1</td>\n",
       "      <td>0</td>\n",
       "      <td>0</td>\n",
       "      <td>1</td>\n",
       "      <td>0</td>\n",
       "      <td>1</td>\n",
       "      <td>0</td>\n",
       "      <td>1</td>\n",
       "      <td>0</td>\n",
       "      <td>0</td>\n",
       "      <td>1</td>\n",
       "    </tr>\n",
       "    <tr>\n",
       "      <th>4</th>\n",
       "      <td>79.0</td>\n",
       "      <td>1</td>\n",
       "      <td>0</td>\n",
       "      <td>174.12</td>\n",
       "      <td>24.0</td>\n",
       "      <td>1</td>\n",
       "      <td>0</td>\n",
       "      <td>0</td>\n",
       "      <td>1</td>\n",
       "      <td>0</td>\n",
       "      <td>0</td>\n",
       "      <td>1</td>\n",
       "      <td>0</td>\n",
       "      <td>0</td>\n",
       "      <td>1</td>\n",
       "      <td>0</td>\n",
       "    </tr>\n",
       "  </tbody>\n",
       "</table>\n",
       "</div>"
      ],
      "text/plain": [
       "    age hypertension heart_disease  avg_glucose_level   bmi stroke  \\\n",
       "0  67.0            0             1             228.69  36.6      1   \n",
       "1  61.0            0             0             202.21  28.9      1   \n",
       "2  80.0            0             1             105.92  32.5      1   \n",
       "3  49.0            0             0             171.23  34.4      1   \n",
       "4  79.0            1             0             174.12  24.0      1   \n",
       "\n",
       "   gender_Male  gender_Other  ever_married_Yes  work_type_Other  \\\n",
       "0            1             0                 1                0   \n",
       "1            0             0                 1                0   \n",
       "2            1             0                 1                0   \n",
       "3            0             0                 1                0   \n",
       "4            0             0                 1                0   \n",
       "\n",
       "   work_type_Private  work_type_Self-employed  Residence_type_Urban  \\\n",
       "0                  1                        0                     1   \n",
       "1                  0                        1                     0   \n",
       "2                  1                        0                     0   \n",
       "3                  1                        0                     1   \n",
       "4                  0                        1                     0   \n",
       "\n",
       "   smoking_status_formerly smoked  smoking_status_never smoked  \\\n",
       "0                               1                            0   \n",
       "1                               0                            1   \n",
       "2                               0                            1   \n",
       "3                               0                            0   \n",
       "4                               0                            1   \n",
       "\n",
       "   smoking_status_smokes  \n",
       "0                      0  \n",
       "1                      0  \n",
       "2                      0  \n",
       "3                      1  \n",
       "4                      0  "
      ]
     },
     "execution_count": 39,
     "metadata": {},
     "output_type": "execute_result"
    }
   ],
   "source": [
    "# Encoding Categorical Variables\n",
    "\n",
    "df = pd.get_dummies(df, columns = [\"gender\", \"ever_married\", \"work_type\", \"Residence_type\", \"smoking_status\"], drop_first = True)\n",
    "df.head()"
   ]
  },
  {
   "cell_type": "code",
   "execution_count": 40,
   "metadata": {
    "executionInfo": {
     "elapsed": 32,
     "status": "ok",
     "timestamp": 1638818324269,
     "user": {
      "displayName": "Henrietta Kadi Tettey-Tawiah",
      "photoUrl": "https://lh3.googleusercontent.com/a/default-user=s64",
      "userId": "08888930326766866324"
     },
     "user_tz": 0
    },
    "id": "VGZ7vh36aK_H"
   },
   "outputs": [],
   "source": [
    "# Conerting hypertension, heart disease and stroke back to integer\n",
    "\n",
    "df[\"hypertension\"]=df[\"hypertension\"].astype(int)\n",
    "df[\"heart_disease\"] = df[\"heart_disease\"].astype(int)\n",
    "df[\"stroke\"] = df[\"stroke\"].astype(int)"
   ]
  },
  {
   "cell_type": "markdown",
   "metadata": {
    "id": "Y9vrrxszdbk8"
   },
   "source": [
    "## Exploring Cleaned Data"
   ]
  },
  {
   "cell_type": "code",
   "execution_count": 41,
   "metadata": {
    "colab": {
     "base_uri": "https://localhost:8080/"
    },
    "executionInfo": {
     "elapsed": 32,
     "status": "ok",
     "timestamp": 1638818324270,
     "user": {
      "displayName": "Henrietta Kadi Tettey-Tawiah",
      "photoUrl": "https://lh3.googleusercontent.com/a/default-user=s64",
      "userId": "08888930326766866324"
     },
     "user_tz": 0
    },
    "id": "24B5CW2dbC1h",
    "outputId": "895ef4b9-4e04-4a8e-9861-ac13ecf3d491"
   },
   "outputs": [
    {
     "name": "stdout",
     "output_type": "stream",
     "text": [
      "<class 'pandas.core.frame.DataFrame'>\n",
      "RangeIndex: 5110 entries, 0 to 5109\n",
      "Data columns (total 16 columns):\n",
      " #   Column                          Non-Null Count  Dtype  \n",
      "---  ------                          --------------  -----  \n",
      " 0   age                             5110 non-null   float64\n",
      " 1   hypertension                    5110 non-null   int64  \n",
      " 2   heart_disease                   5110 non-null   int64  \n",
      " 3   avg_glucose_level               5110 non-null   float64\n",
      " 4   bmi                             5110 non-null   float64\n",
      " 5   stroke                          5110 non-null   int64  \n",
      " 6   gender_Male                     5110 non-null   uint8  \n",
      " 7   gender_Other                    5110 non-null   uint8  \n",
      " 8   ever_married_Yes                5110 non-null   uint8  \n",
      " 9   work_type_Other                 5110 non-null   uint8  \n",
      " 10  work_type_Private               5110 non-null   uint8  \n",
      " 11  work_type_Self-employed         5110 non-null   uint8  \n",
      " 12  Residence_type_Urban            5110 non-null   uint8  \n",
      " 13  smoking_status_formerly smoked  5110 non-null   uint8  \n",
      " 14  smoking_status_never smoked     5110 non-null   uint8  \n",
      " 15  smoking_status_smokes           5110 non-null   uint8  \n",
      "dtypes: float64(3), int64(3), uint8(10)\n",
      "memory usage: 289.6 KB\n"
     ]
    }
   ],
   "source": [
    "df.info()"
   ]
  },
  {
   "cell_type": "markdown",
   "metadata": {
    "id": "JzMAGKHbdp1s"
   },
   "source": [
    "**Observations**\n",
    "\n",
    "  - There are now 15 predictor variables and the target variable.\n",
    "  - There are no missing values in the dataset.\n",
    "  - Encoding was also successful."
   ]
  },
  {
   "cell_type": "code",
   "execution_count": 42,
   "metadata": {
    "colab": {
     "base_uri": "https://localhost:8080/",
     "height": 243
    },
    "executionInfo": {
     "elapsed": 784,
     "status": "ok",
     "timestamp": 1638818325026,
     "user": {
      "displayName": "Henrietta Kadi Tettey-Tawiah",
      "photoUrl": "https://lh3.googleusercontent.com/a/default-user=s64",
      "userId": "08888930326766866324"
     },
     "user_tz": 0
    },
    "id": "W-YBtyTkcEXO",
    "outputId": "91fbbb27-2468-4f96-f129-2842436cd1bf"
   },
   "outputs": [
    {
     "data": {
      "text/html": [
       "<div>\n",
       "<style scoped>\n",
       "    .dataframe tbody tr th:only-of-type {\n",
       "        vertical-align: middle;\n",
       "    }\n",
       "\n",
       "    .dataframe tbody tr th {\n",
       "        vertical-align: top;\n",
       "    }\n",
       "\n",
       "    .dataframe thead th {\n",
       "        text-align: right;\n",
       "    }\n",
       "</style>\n",
       "<table border=\"1\" class=\"dataframe\">\n",
       "  <thead>\n",
       "    <tr style=\"text-align: right;\">\n",
       "      <th></th>\n",
       "      <th>age</th>\n",
       "      <th>hypertension</th>\n",
       "      <th>heart_disease</th>\n",
       "      <th>avg_glucose_level</th>\n",
       "      <th>bmi</th>\n",
       "      <th>stroke</th>\n",
       "      <th>gender_Male</th>\n",
       "      <th>gender_Other</th>\n",
       "      <th>ever_married_Yes</th>\n",
       "      <th>work_type_Other</th>\n",
       "      <th>work_type_Private</th>\n",
       "      <th>work_type_Self-employed</th>\n",
       "      <th>Residence_type_Urban</th>\n",
       "      <th>smoking_status_formerly smoked</th>\n",
       "      <th>smoking_status_never smoked</th>\n",
       "      <th>smoking_status_smokes</th>\n",
       "    </tr>\n",
       "  </thead>\n",
       "  <tbody>\n",
       "    <tr>\n",
       "      <th>0</th>\n",
       "      <td>67.0</td>\n",
       "      <td>0</td>\n",
       "      <td>1</td>\n",
       "      <td>228.69</td>\n",
       "      <td>36.6</td>\n",
       "      <td>1</td>\n",
       "      <td>1</td>\n",
       "      <td>0</td>\n",
       "      <td>1</td>\n",
       "      <td>0</td>\n",
       "      <td>1</td>\n",
       "      <td>0</td>\n",
       "      <td>1</td>\n",
       "      <td>1</td>\n",
       "      <td>0</td>\n",
       "      <td>0</td>\n",
       "    </tr>\n",
       "    <tr>\n",
       "      <th>1</th>\n",
       "      <td>61.0</td>\n",
       "      <td>0</td>\n",
       "      <td>0</td>\n",
       "      <td>202.21</td>\n",
       "      <td>28.9</td>\n",
       "      <td>1</td>\n",
       "      <td>0</td>\n",
       "      <td>0</td>\n",
       "      <td>1</td>\n",
       "      <td>0</td>\n",
       "      <td>0</td>\n",
       "      <td>1</td>\n",
       "      <td>0</td>\n",
       "      <td>0</td>\n",
       "      <td>1</td>\n",
       "      <td>0</td>\n",
       "    </tr>\n",
       "    <tr>\n",
       "      <th>2</th>\n",
       "      <td>80.0</td>\n",
       "      <td>0</td>\n",
       "      <td>1</td>\n",
       "      <td>105.92</td>\n",
       "      <td>32.5</td>\n",
       "      <td>1</td>\n",
       "      <td>1</td>\n",
       "      <td>0</td>\n",
       "      <td>1</td>\n",
       "      <td>0</td>\n",
       "      <td>1</td>\n",
       "      <td>0</td>\n",
       "      <td>0</td>\n",
       "      <td>0</td>\n",
       "      <td>1</td>\n",
       "      <td>0</td>\n",
       "    </tr>\n",
       "    <tr>\n",
       "      <th>3</th>\n",
       "      <td>49.0</td>\n",
       "      <td>0</td>\n",
       "      <td>0</td>\n",
       "      <td>171.23</td>\n",
       "      <td>34.4</td>\n",
       "      <td>1</td>\n",
       "      <td>0</td>\n",
       "      <td>0</td>\n",
       "      <td>1</td>\n",
       "      <td>0</td>\n",
       "      <td>1</td>\n",
       "      <td>0</td>\n",
       "      <td>1</td>\n",
       "      <td>0</td>\n",
       "      <td>0</td>\n",
       "      <td>1</td>\n",
       "    </tr>\n",
       "    <tr>\n",
       "      <th>4</th>\n",
       "      <td>79.0</td>\n",
       "      <td>1</td>\n",
       "      <td>0</td>\n",
       "      <td>174.12</td>\n",
       "      <td>24.0</td>\n",
       "      <td>1</td>\n",
       "      <td>0</td>\n",
       "      <td>0</td>\n",
       "      <td>1</td>\n",
       "      <td>0</td>\n",
       "      <td>0</td>\n",
       "      <td>1</td>\n",
       "      <td>0</td>\n",
       "      <td>0</td>\n",
       "      <td>1</td>\n",
       "      <td>0</td>\n",
       "    </tr>\n",
       "  </tbody>\n",
       "</table>\n",
       "</div>"
      ],
      "text/plain": [
       "    age  hypertension  heart_disease  avg_glucose_level   bmi  stroke  \\\n",
       "0  67.0             0              1             228.69  36.6       1   \n",
       "1  61.0             0              0             202.21  28.9       1   \n",
       "2  80.0             0              1             105.92  32.5       1   \n",
       "3  49.0             0              0             171.23  34.4       1   \n",
       "4  79.0             1              0             174.12  24.0       1   \n",
       "\n",
       "   gender_Male  gender_Other  ever_married_Yes  work_type_Other  \\\n",
       "0            1             0                 1                0   \n",
       "1            0             0                 1                0   \n",
       "2            1             0                 1                0   \n",
       "3            0             0                 1                0   \n",
       "4            0             0                 1                0   \n",
       "\n",
       "   work_type_Private  work_type_Self-employed  Residence_type_Urban  \\\n",
       "0                  1                        0                     1   \n",
       "1                  0                        1                     0   \n",
       "2                  1                        0                     0   \n",
       "3                  1                        0                     1   \n",
       "4                  0                        1                     0   \n",
       "\n",
       "   smoking_status_formerly smoked  smoking_status_never smoked  \\\n",
       "0                               1                            0   \n",
       "1                               0                            1   \n",
       "2                               0                            1   \n",
       "3                               0                            0   \n",
       "4                               0                            1   \n",
       "\n",
       "   smoking_status_smokes  \n",
       "0                      0  \n",
       "1                      0  \n",
       "2                      0  \n",
       "3                      1  \n",
       "4                      0  "
      ]
     },
     "execution_count": 42,
     "metadata": {},
     "output_type": "execute_result"
    }
   ],
   "source": [
    "df.head()"
   ]
  },
  {
   "cell_type": "markdown",
   "metadata": {
    "id": "rSTTqEmIeLRl"
   },
   "source": [
    "The variables  age, bmi and avg_glucose_level, contain values relatively larger compared to the other variables. To prevent the model to be built from being biased towards those varibles, a scalar will be applied later."
   ]
  },
  {
   "cell_type": "markdown",
   "metadata": {
    "id": "YiPCc_H-fPO6"
   },
   "source": [
    "## Splitting the Target Varible from the Other Features"
   ]
  },
  {
   "cell_type": "code",
   "execution_count": 43,
   "metadata": {
    "executionInfo": {
     "elapsed": 23,
     "status": "ok",
     "timestamp": 1638818325028,
     "user": {
      "displayName": "Henrietta Kadi Tettey-Tawiah",
      "photoUrl": "https://lh3.googleusercontent.com/a/default-user=s64",
      "userId": "08888930326766866324"
     },
     "user_tz": 0
    },
    "id": "sIyLTNkVeFx-"
   },
   "outputs": [],
   "source": [
    "X = df.drop([\"stroke\"], axis = 1)\n",
    "y = df[\"stroke\"]"
   ]
  },
  {
   "cell_type": "markdown",
   "metadata": {
    "id": "x-TiVLkhfxbX"
   },
   "source": [
    "## Splitting Dataset into Train and Test Sets"
   ]
  },
  {
   "cell_type": "code",
   "execution_count": 44,
   "metadata": {
    "colab": {
     "base_uri": "https://localhost:8080/"
    },
    "executionInfo": {
     "elapsed": 5,
     "status": "ok",
     "timestamp": 1638819115650,
     "user": {
      "displayName": "Henrietta Kadi Tettey-Tawiah",
      "photoUrl": "https://lh3.googleusercontent.com/a/default-user=s64",
      "userId": "08888930326766866324"
     },
     "user_tz": 0
    },
    "id": "GTKy6Wk_fsBX",
    "outputId": "10c857e7-894e-4e44-f549-63998c0a4320"
   },
   "outputs": [
    {
     "name": "stdout",
     "output_type": "stream",
     "text": [
      "(3577, 15) (3577,)\n",
      "(1533, 15) (1533,)\n"
     ]
    }
   ],
   "source": [
    "X_train, X_test, y_train, y_test = train_test_split(X, y, test_size =0.30, stratify=y,random_state=42)\n",
    "print(X_train.shape, y_train.shape)\n",
    "print(X_test.shape, y_test.shape)"
   ]
  },
  {
   "cell_type": "markdown",
   "metadata": {
    "id": "t9nTNWBFf7Fb"
   },
   "source": [
    "## Balancing the Training Dataset"
   ]
  },
  {
   "cell_type": "code",
   "execution_count": 45,
   "metadata": {
    "colab": {
     "base_uri": "https://localhost:8080/"
    },
    "executionInfo": {
     "elapsed": 515,
     "status": "ok",
     "timestamp": 1638819131943,
     "user": {
      "displayName": "Henrietta Kadi Tettey-Tawiah",
      "photoUrl": "https://lh3.googleusercontent.com/a/default-user=s64",
      "userId": "08888930326766866324"
     },
     "user_tz": 0
    },
    "id": "Y-1PLKN4gEyr",
    "outputId": "ce7905ee-3a76-4cd8-a3c9-42d91f0affc8"
   },
   "outputs": [
    {
     "name": "stdout",
     "output_type": "stream",
     "text": [
      "(6806, 15) (6806,)\n"
     ]
    }
   ],
   "source": [
    "over = SMOTE()\n",
    "under = RandomUnderSampler()\n",
    "steps = [(\"over\", over), (\"under\",under)]\n",
    "X_train,y_train = over.fit_resample(X_train,y_train)\n",
    "X_train,y_train = under.fit_resample(X_train,y_train)\n",
    "\n",
    "print(X_train.shape, y_train.shape)"
   ]
  },
  {
   "cell_type": "code",
   "execution_count": 46,
   "metadata": {
    "colab": {
     "base_uri": "https://localhost:8080/",
     "height": 295
    },
    "executionInfo": {
     "elapsed": 500,
     "status": "ok",
     "timestamp": 1638831014035,
     "user": {
      "displayName": "Henrietta Kadi Tettey-Tawiah",
      "photoUrl": "https://lh3.googleusercontent.com/a/default-user=s64",
      "userId": "08888930326766866324"
     },
     "user_tz": 0
    },
    "id": "mcjUcF_p5jXN",
    "outputId": "65173302-180d-422e-be23-db55deeabb03"
   },
   "outputs": [
    {
     "data": {
      "image/png": "[encoded data removed]",
      "text/plain": [
       "<Figure size 432x288 with 1 Axes>"
      ]
     },
     "metadata": {
      "needs_background": "light"
     },
     "output_type": "display_data"
    }
   ],
   "source": [
    "# Visualizing Target Variable after Balancing\n",
    "\n",
    "sns.countplot(y_train)\n",
    "plt.title(\"Count Plot of Target Variable After Balancing\")\n",
    "plt.show()"
   ]
  },
  {
   "cell_type": "markdown",
   "metadata": {
    "id": "6ZSR7_idPDbw"
   },
   "source": [
    "## Model Training"
   ]
  },
  {
   "cell_type": "markdown",
   "metadata": {
    "id": "XhZFYy6kUjYb"
   },
   "source": [
    "### Logistic Regression"
   ]
  },
  {
   "cell_type": "markdown",
   "metadata": {
    "id": "0CUfh1GLUnzD"
   },
   "source": [
    "#### Base Model"
   ]
  },
  {
   "cell_type": "code",
   "execution_count": 47,
   "metadata": {
    "colab": {
     "base_uri": "https://localhost:8080/"
    },
    "executionInfo": {
     "elapsed": 448,
     "status": "ok",
     "timestamp": 1638821027963,
     "user": {
      "displayName": "Henrietta Kadi Tettey-Tawiah",
      "photoUrl": "https://lh3.googleusercontent.com/a/default-user=s64",
      "userId": "08888930326766866324"
     },
     "user_tz": 0
    },
    "id": "s-4D42h2Ng62",
    "outputId": "b8755415-3336-44cd-bbe5-ee1003c33bfa"
   },
   "outputs": [
    {
     "name": "stdout",
     "output_type": "stream",
     "text": [
      "Train score: 0.8502791654422568\n",
      "Test score: 0.7879973907371167\n"
     ]
    }
   ],
   "source": [
    "lrb = LogisticRegression(solver='sag',random_state=42)\n",
    "lrb.fit(X_train,y_train)\n",
    "\n",
    "print(\"Train score: {}\".format(lrb.score(X_train,y_train)))\n",
    "print(\"Test score: {}\".format(lrb.score(X_test,y_test)))"
   ]
  },
  {
   "cell_type": "markdown",
   "metadata": {
    "id": "qjiWUuHjWWQc"
   },
   "source": [
    "#### Hyperparmeter Tuning on Logistic Regression"
   ]
  },
  {
   "cell_type": "code",
   "execution_count": 48,
   "metadata": {
    "colab": {
     "base_uri": "https://localhost:8080/"
    },
    "executionInfo": {
     "elapsed": 16392,
     "status": "ok",
     "timestamp": 1638821130456,
     "user": {
      "displayName": "Henrietta Kadi Tettey-Tawiah",
      "photoUrl": "https://lh3.googleusercontent.com/a/default-user=s64",
      "userId": "08888930326766866324"
     },
     "user_tz": 0
    },
    "id": "jkwD2tCtVXC1",
    "outputId": "5e3f4cbd-a727-4c33-e2da-046882052561"
   },
   "outputs": [
    {
     "name": "stdout",
     "output_type": "stream",
     "text": [
      "Best parameters: {'C': 1, 'penalty': 'l2', 'solver': 'liblinear'}\n",
      "Best Train score: 0.8699676755803702\n",
      "Best Test score: 0.8330071754729289\n",
      "Best Cross-Validation Accuracy: 0.8690856360476069\n"
     ]
    }
   ],
   "source": [
    "# hyperparameter tuning using gridsearch and cross validation\n",
    "\n",
    "# Instantiating the model\n",
    "lr = LogisticRegression(random_state=42)\n",
    "\n",
    "param_grid_lr = [{'solver':['saga'],'C':[0.1,1,10],'penalty':['elasticnet','l1','l2']},\n",
    "               {'solver':['lbfgs'],'C':[0.1,1,10],'penalty':['l2']},\n",
    "               {'solver':['sag'],'C':[0.1,1,10], 'penalty':['l2']},\n",
    "               {'solver':['newton-cg'],'C':[0.1,1,10], 'penalty':['l2']},\n",
    "               {'solver':['liblinear'],'C':[0.1,1,10], 'penalty':['l1','l2']}]\n",
    "\n",
    "gs_lr = GridSearchCV( lr, param_grid= param_grid_lr, cv=5)\n",
    "\n",
    "gs_lr.fit(X_train, y_train)\n",
    "print(\"Best parameters: {}\".format(gs_lr.best_params_))\n",
    "print(\"Best Train score:\",gs_lr.score(X_train,y_train) )\n",
    "print(\"Best Test score: {}\".format(gs_lr.score(X_test,y_test)))\n",
    "print(\"Best Cross-Validation Accuracy: {}\".format(gs_lr.best_score_))"
   ]
  },
  {
   "cell_type": "markdown",
   "metadata": {
    "id": "GGQ9y5p-Wc1c"
   },
   "source": [
    "#### Logistic Regression with Best Hyperparameters"
   ]
  },
  {
   "cell_type": "code",
   "execution_count": 49,
   "metadata": {
    "colab": {
     "base_uri": "https://localhost:8080/"
    },
    "executionInfo": {
     "elapsed": 1137,
     "status": "ok",
     "timestamp": 1638821223054,
     "user": {
      "displayName": "Henrietta Kadi Tettey-Tawiah",
      "photoUrl": "https://lh3.googleusercontent.com/a/default-user=s64",
      "userId": "08888930326766866324"
     },
     "user_tz": 0
    },
    "id": "ikDfcl04WjCO",
    "outputId": "ce759b81-6b95-4b3b-be30-5893f45fd97e"
   },
   "outputs": [
    {
     "data": {
      "text/plain": [
       "LogisticRegression(C=10, random_state=42)"
      ]
     },
     "execution_count": 49,
     "metadata": {},
     "output_type": "execute_result"
    }
   ],
   "source": [
    "hp_lr = LogisticRegression(C= 10, solver= 'lbfgs', random_state=42, penalty= 'l2' )\n",
    "hp_lr.fit(X_train, y_train)"
   ]
  },
  {
   "cell_type": "markdown",
   "metadata": {
    "id": "8ZyG3L-WW6gA"
   },
   "source": [
    "### Support Vector Classifier"
   ]
  },
  {
   "cell_type": "markdown",
   "metadata": {
    "id": "i1Jlnb6YXNOm"
   },
   "source": [
    "#### Base Model"
   ]
  },
  {
   "cell_type": "code",
   "execution_count": 50,
   "metadata": {
    "colab": {
     "base_uri": "https://localhost:8080/"
    },
    "executionInfo": {
     "elapsed": 15909,
     "status": "ok",
     "timestamp": 1638821510024,
     "user": {
      "displayName": "Henrietta Kadi Tettey-Tawiah",
      "photoUrl": "https://lh3.googleusercontent.com/a/default-user=s64",
      "userId": "08888930326766866324"
     },
     "user_tz": 0
    },
    "id": "g3_BautEW1B_",
    "outputId": "2a495553-82be-4b9f-9fe5-92932200c182"
   },
   "outputs": [
    {
     "name": "stdout",
     "output_type": "stream",
     "text": [
      "Train score: 0.8657067293564502\n",
      "Test score: 0.8349641226353555\n"
     ]
    }
   ],
   "source": [
    "bm_svc = SVC(kernel='linear',random_state=42)\n",
    "bm_svc.fit(X_train,y_train)\n",
    "\n",
    "print(\"Train score:\",bm_svc.score(X_train,y_train) )\n",
    "print(\"Test score: {}\".format(bm_svc.score(X_test,y_test)))"
   ]
  },
  {
   "cell_type": "markdown",
   "metadata": {
    "id": "N8PH2_4WeGKi"
   },
   "source": [
    "#### Hyperparameter Tuning on SVC"
   ]
  },
  {
   "cell_type": "code",
   "execution_count": 51,
   "metadata": {
    "colab": {
     "base_uri": "https://localhost:8080/"
    },
    "executionInfo": {
     "elapsed": 1554673,
     "status": "ok",
     "timestamp": 1638825983888,
     "user": {
      "displayName": "Henrietta Kadi Tettey-Tawiah",
      "photoUrl": "https://lh3.googleusercontent.com/a/default-user=s64",
      "userId": "08888930326766866324"
     },
     "user_tz": 0
    },
    "id": "9rjOR1wVXViO",
    "outputId": "fbff7af2-0483-4cfd-8128-efe2849366e9"
   },
   "outputs": [
    {
     "name": "stdout",
     "output_type": "stream",
     "text": [
      "Best parameters: {'svc__C': 10, 'svc__gamma': 10}\n",
      "Best Train score: 0.9985307081986482\n",
      "Best Test score: 0.923679060665362\n",
      "Best Cross-Validation Accuracy: 0.9535702455976807\n"
     ]
    }
   ],
   "source": [
    "# Hyperparameter tuning using gridsearch and cross validation\n",
    "\n",
    "# Instantiating the model\n",
    "\n",
    "Svc = Pipeline([(\"scaler\", StandardScaler()), (\"svc\", SVC(probability= True))])\n",
    "param_svc = [{\n",
    "'svc__C': [0.001, 0.01, 0.1, 1, 10, 100],\n",
    "'svc__gamma': [0.001, 0.01, 0.1, 1, 10, 100]}]\n",
    "\n",
    "\n",
    "gd_svc = GridSearchCV(Svc, param_grid=param_svc, cv=5)\n",
    "gd_svc.fit(X_train,y_train)\n",
    "\n",
    "print(\"Best parameters: {}\".format(gd_svc.best_params_))\n",
    "print(\"Best Train score:\",gd_svc.score(X_train,y_train) )\n",
    "print(\"Best Test score: {}\".format(gd_svc.score(X_test,y_test)))\n",
    "print(\"Best Cross-Validation Accuracy: {}\".format(gd_svc.best_score_))"
   ]
  },
  {
   "cell_type": "markdown",
   "metadata": {
    "id": "HLxcSv9kh6iB"
   },
   "source": [
    "#### SVC with Best Hyperparameters"
   ]
  },
  {
   "cell_type": "code",
   "execution_count": 52,
   "metadata": {
    "colab": {
     "base_uri": "https://localhost:8080/"
    },
    "executionInfo": {
     "elapsed": 17603,
     "status": "ok",
     "timestamp": 1638826212055,
     "user": {
      "displayName": "Henrietta Kadi Tettey-Tawiah",
      "photoUrl": "https://lh3.googleusercontent.com/a/default-user=s64",
      "userId": "08888930326766866324"
     },
     "user_tz": 0
    },
    "id": "Q0FCRWI6iCvM",
    "outputId": "c4f3adb4-aa88-4771-ee30-b57e986a33df"
   },
   "outputs": [
    {
     "data": {
      "text/plain": [
       "SVC(C=100, gamma=10, probability=True)"
      ]
     },
     "execution_count": 52,
     "metadata": {},
     "output_type": "execute_result"
    }
   ],
   "source": [
    "hp_svc = SVC(C= 100,gamma=10 , probability= True)\n",
    "hp_svc.fit(X_train,y_train)"
   ]
  },
  {
   "cell_type": "markdown",
   "metadata": {
    "id": "I5SGj9_yjInq"
   },
   "source": [
    "### Stochastic Gradient Descent"
   ]
  },
  {
   "cell_type": "markdown",
   "metadata": {
    "id": "kFOu3qsajPIe"
   },
   "source": [
    "#### Base Model"
   ]
  },
  {
   "cell_type": "code",
   "execution_count": 53,
   "metadata": {
    "colab": {
     "base_uri": "https://localhost:8080/"
    },
    "executionInfo": {
     "elapsed": 798,
     "status": "ok",
     "timestamp": 1638826242388,
     "user": {
      "displayName": "Henrietta Kadi Tettey-Tawiah",
      "photoUrl": "https://lh3.googleusercontent.com/a/default-user=s64",
      "userId": "08888930326766866324"
     },
     "user_tz": 0
    },
    "id": "8Ag7Ws4ijOAU",
    "outputId": "0bd4c1fe-e805-4a07-ea26-87faf88f2aa6"
   },
   "outputs": [
    {
     "name": "stdout",
     "output_type": "stream",
     "text": [
      "Train score: 0.6356156332647663\n",
      "Test score: 0.9367253750815394\n"
     ]
    }
   ],
   "source": [
    "bm_sgd = SGDClassifier(random_state=42)\n",
    "bm_sgd.fit(X_train,y_train)\n",
    "\n",
    "print(\"Train score:\",bm_sgd.score(X_train,y_train) )\n",
    "print(\"Test score: {}\".format(bm_sgd.score(X_test,y_test)))"
   ]
  },
  {
   "cell_type": "markdown",
   "metadata": {
    "id": "06arN5K9jfJn"
   },
   "source": [
    "#### Hyperparameter Tuning on SGD"
   ]
  },
  {
   "cell_type": "code",
   "execution_count": 54,
   "metadata": {
    "colab": {
     "base_uri": "https://localhost:8080/"
    },
    "executionInfo": {
     "elapsed": 10663,
     "status": "ok",
     "timestamp": 1638826260493,
     "user": {
      "displayName": "Henrietta Kadi Tettey-Tawiah",
      "photoUrl": "https://lh3.googleusercontent.com/a/default-user=s64",
      "userId": "08888930326766866324"
     },
     "user_tz": 0
    },
    "id": "Cv4Crc8Hjjcj",
    "outputId": "d6438c53-8b47-42bc-a199-64e904c5e201"
   },
   "outputs": [
    {
     "name": "stdout",
     "output_type": "stream",
     "text": [
      "Best Cross-Validation Accuracy:  0.868204255098771\n",
      "Best Train score: 0.8717308257419923\n",
      "Best Test score: 0.8303979125896934\n",
      "Best Paramameters:  {'sgd__alpha': 0.01, 'sgd__loss': 'log', 'sgd__penalty': 'l2'}\n"
     ]
    }
   ],
   "source": [
    "# Hyperparameter tuning using gridsearch and cross validation\n",
    "\n",
    "# Instantiating the model\n",
    "\n",
    "params_sgd = {\n",
    "    \"sgd__loss\" : [\"hinge\", \"log\", \"squared_hinge\", \"modified_huber\"],\n",
    "    \"sgd__alpha\" : [0.0001, 0.001, 0.01, 0.1],\n",
    "    \"sgd__penalty\" : [\"l2\", \"l1\", \"none\"]}\n",
    "\n",
    "#sdg = SGDClassifier(max_iter=100,random_state = 42)\n",
    "sgd = Pipeline([(\"scaler\", StandardScaler()), (\"sgd\", SGDClassifier(max_iter=100,random_state = 42))])\n",
    "gs_sgd = GridSearchCV(estimator=sgd, param_grid=params_sgd, n_jobs=-1) \n",
    "gs_sgd.fit(X_train, y_train) \n",
    "print('Best Cross-Validation Accuracy: ', gs_sgd.best_score_) \n",
    "print(\"Best Train score:\",gs_sgd.score(X_train,y_train) )\n",
    "print(\"Best Test score: {}\".format(gs_sgd.score(X_test,y_test)))\n",
    "print('Best Paramameters: ', gs_sgd.best_params_)"
   ]
  },
  {
   "cell_type": "markdown",
   "metadata": {
    "id": "Z-oJJDr0j65H"
   },
   "source": [
    "#### SGD with Best Hyperparameters"
   ]
  },
  {
   "cell_type": "code",
   "execution_count": 55,
   "metadata": {
    "colab": {
     "base_uri": "https://localhost:8080/"
    },
    "executionInfo": {
     "elapsed": 461,
     "status": "ok",
     "timestamp": 1638826331355,
     "user": {
      "displayName": "Henrietta Kadi Tettey-Tawiah",
      "photoUrl": "https://lh3.googleusercontent.com/a/default-user=s64",
      "userId": "08888930326766866324"
     },
     "user_tz": 0
    },
    "id": "pxb8r6G6kA6A",
    "outputId": "76949168-1a18-4fb6-eb04-eeccc178e53f"
   },
   "outputs": [
    {
     "data": {
      "text/plain": [
       "SGDClassifier(alpha=0.01, loss='log', max_iter=100, random_state=42)"
      ]
     },
     "execution_count": 55,
     "metadata": {},
     "output_type": "execute_result"
    }
   ],
   "source": [
    "hp_sgd = SGDClassifier(alpha= 0.01,loss= 'log' ,penalty='l2' ,max_iter=100,random_state = 42)\n",
    "hp_sgd.fit(X_train,y_train)"
   ]
  },
  {
   "cell_type": "markdown",
   "metadata": {
    "id": "ki9ZMRpYkCTX"
   },
   "source": [
    "### Decision Tree"
   ]
  },
  {
   "cell_type": "markdown",
   "metadata": {
    "id": "HtzadESollur"
   },
   "source": [
    "#### Base Model"
   ]
  },
  {
   "cell_type": "code",
   "execution_count": 56,
   "metadata": {
    "colab": {
     "base_uri": "https://localhost:8080/"
    },
    "executionInfo": {
     "elapsed": 750,
     "status": "ok",
     "timestamp": 1638826842422,
     "user": {
      "displayName": "Henrietta Kadi Tettey-Tawiah",
      "photoUrl": "https://lh3.googleusercontent.com/a/default-user=s64",
      "userId": "08888930326766866324"
     },
     "user_tz": 0
    },
    "id": "nikVrfY0lks1",
    "outputId": "53351a77-6fce-47c7-d10d-62211d8be711"
   },
   "outputs": [
    {
     "name": "stdout",
     "output_type": "stream",
     "text": [
      "Train Score: 1.0\n",
      "Test Score: 0.8760600130463144 \n"
     ]
    }
   ],
   "source": [
    "bm_dtr = DecisionTreeClassifier(random_state=42)\n",
    "bm_dtr.fit(X_train,y_train)\n",
    "\n",
    "print(\"Train Score: {}\".format(bm_dtr.score(X_train,y_train)))\n",
    "print(\"Test Score: {} \".format(bm_dtr.score(X_test,y_test)))"
   ]
  },
  {
   "cell_type": "markdown",
   "metadata": {
    "id": "Q_Ew1akMsWmn"
   },
   "source": [
    "#### Hyperparameter Tuning on Decision Tree"
   ]
  },
  {
   "cell_type": "code",
   "execution_count": 57,
   "metadata": {
    "colab": {
     "base_uri": "https://localhost:8080/"
    },
    "executionInfo": {
     "elapsed": 7975,
     "status": "ok",
     "timestamp": 1638826868601,
     "user": {
      "displayName": "Henrietta Kadi Tettey-Tawiah",
      "photoUrl": "https://lh3.googleusercontent.com/a/default-user=s64",
      "userId": "08888930326766866324"
     },
     "user_tz": 0
    },
    "id": "GC5TBiinsQs6",
    "outputId": "7b595ae8-ad88-4ee2-a91c-bd0191091288"
   },
   "outputs": [
    {
     "name": "stdout",
     "output_type": "stream",
     "text": [
      "Best Cross-Validation Accuracy:  0.924919916145272\n",
      "Best Test score: 0.878016960208741\n",
      "Best Train score: 0.9988245665589186\n",
      "Best Paramameters:  {'criterion': 'entropy', 'max_depth': 20, 'splitter': 'best'}\n"
     ]
    }
   ],
   "source": [
    "# Hyperparameter tuning using gridsearch and cross validation\n",
    "\n",
    "# Instantiating the model\n",
    "\n",
    "params_dtr = {'criterion':['gini','entropy'],\n",
    "          'max_depth':[4,5,6,7,8,9,10,11,12,15,20,30,40,50,70,90,120,150],\n",
    "          'splitter':['best','random']\n",
    "          }\n",
    "\n",
    "dtr = DecisionTreeClassifier(random_state=42)\n",
    "\n",
    "gs_dtr = GridSearchCV(dtr, params_dtr, n_jobs=-1,cv=5)\n",
    "gs_dtr.fit(X_train,y_train)\n",
    "\n",
    "print('Best Cross-Validation Accuracy: ', gs_dtr.best_score_) \n",
    "print(\"Best Test score: {}\".format(gs_dtr.score(X_test,y_test)))\n",
    "print(\"Best Train score: {}\".format(gs_dtr.score(X_train,y_train)))\n",
    "print('Best Paramameters: ', gs_dtr.best_params_)"
   ]
  },
  {
   "cell_type": "markdown",
   "metadata": {
    "id": "Z2LSBGnCsced"
   },
   "source": [
    "#### Decision Tree with Best Hyperparameters"
   ]
  },
  {
   "cell_type": "code",
   "execution_count": 58,
   "metadata": {
    "colab": {
     "base_uri": "https://localhost:8080/"
    },
    "executionInfo": {
     "elapsed": 417,
     "status": "ok",
     "timestamp": 1638826929785,
     "user": {
      "displayName": "Henrietta Kadi Tettey-Tawiah",
      "photoUrl": "https://lh3.googleusercontent.com/a/default-user=s64",
      "userId": "08888930326766866324"
     },
     "user_tz": 0
    },
    "id": "aLgKFGaLsVwk",
    "outputId": "913b3776-5565-473d-be05-79e1120c568b"
   },
   "outputs": [
    {
     "data": {
      "text/plain": [
       "DecisionTreeClassifier(criterion='entropy', max_depth=15, random_state=42,\n",
       "                       splitter='random')"
      ]
     },
     "execution_count": 58,
     "metadata": {},
     "output_type": "execute_result"
    }
   ],
   "source": [
    "hp_dtr = DecisionTreeClassifier(criterion= \"entropy\" , max_depth = 15, splitter=\"random\", random_state=42)\n",
    "hp_dtr.fit(X_train,y_train)"
   ]
  },
  {
   "cell_type": "markdown",
   "metadata": {
    "id": "hMxFiwe2swto"
   },
   "source": [
    "### Random Forest Classifier"
   ]
  },
  {
   "cell_type": "markdown",
   "metadata": {
    "id": "cJ2DFPyduHRp"
   },
   "source": [
    "#### Base Model"
   ]
  },
  {
   "cell_type": "code",
   "execution_count": 59,
   "metadata": {
    "colab": {
     "base_uri": "https://localhost:8080/"
    },
    "executionInfo": {
     "elapsed": 501,
     "status": "ok",
     "timestamp": 1638827399254,
     "user": {
      "displayName": "Henrietta Kadi Tettey-Tawiah",
      "photoUrl": "https://lh3.googleusercontent.com/a/default-user=s64",
      "userId": "08888930326766866324"
     },
     "user_tz": 0
    },
    "id": "DTH-Kd_7smo-",
    "outputId": "da1d3caf-96be-4db7-c22e-ce1f8fcf6633"
   },
   "outputs": [
    {
     "name": "stdout",
     "output_type": "stream",
     "text": [
      "Train Score: 1.0\n",
      "Test Score: 0.9041095890410958 \n"
     ]
    }
   ],
   "source": [
    "bm_rfc = RandomForestClassifier(random_state=42)\n",
    "bm_rfc.fit(X_train,y_train)\n",
    "\n",
    "print(\"Train Score: {}\".format(bm_rfc.score(X_train,y_train)))\n",
    "print(\"Test Score: {} \".format(bm_rfc.score(X_test,y_test)))"
   ]
  },
  {
   "cell_type": "markdown",
   "metadata": {
    "id": "fCEi6jCYyy40"
   },
   "source": [
    "#### Hyperparameter Tuning on Random Forest"
   ]
  },
  {
   "cell_type": "code",
   "execution_count": 60,
   "metadata": {
    "colab": {
     "base_uri": "https://localhost:8080/"
    },
    "executionInfo": {
     "elapsed": 4230017,
     "status": "ok",
     "timestamp": 1638837915886,
     "user": {
      "displayName": "Henrietta Kadi Tettey-Tawiah",
      "photoUrl": "https://lh3.googleusercontent.com/a/default-user=s64",
      "userId": "08888930326766866324"
     },
     "user_tz": 0
    },
    "id": "xKEQFDVDuY_l",
    "outputId": "8ca5a112-9633-45fe-8f24-fa519b796d0f"
   },
   "outputs": [
    {
     "name": "stdout",
     "output_type": "stream",
     "text": [
      "Best Cross-Validation Accuracy:  0.9490155269350407\n",
      "Best Test score: 0.9021526418786693\n",
      "Best Train score: 0.9867763737878342\n",
      "Best Paramameters:  {'bootstrap': False, 'max_depth': 80, 'max_features': 3, 'min_samples_leaf': 3, 'min_samples_split': 8, 'n_estimators': 50}\n"
     ]
    }
   ],
   "source": [
    "# Hyperparameter tuning using gridsearch and cross validation\n",
    "\n",
    "# Instantiating the model\n",
    "\n",
    "params_rfc =  {'bootstrap': [True, False],\n",
    "    'max_depth': [80, 90, 100, 110, None],\n",
    "    'max_features': [2, 3,\"auto\", \"sqrt\", \"log2\"],\n",
    "    'min_samples_leaf': [3, 4, 5],\n",
    "    'min_samples_split': [8, 10, 12],\n",
    "    'n_estimators': [10, 50, 80, 100, 200]}\n",
    "\n",
    "rfc = RandomForestClassifier(random_state=42)\n",
    "\n",
    "gs_rfc = GridSearchCV(rfc, params_rfc, n_jobs=-1,cv=5)\n",
    "gs_rfc.fit(X_train, y_train)\n",
    "\n",
    "print('Best Cross-Validation Accuracy: ', gs_rfc.best_score_) \n",
    "print(\"Best Test score: {}\".format(gs_rfc.score(X_test,y_test)))\n",
    "print(\"Best Train score: {}\".format(gs_rfc.score(X_train,y_train)))\n",
    "print('Best Paramameters: ', gs_rfc.best_params_)"
   ]
  },
  {
   "cell_type": "markdown",
   "metadata": {
    "id": "szQ9XjHvy5-H"
   },
   "source": [
    "#### Random Forest With Best Hyperparameters"
   ]
  },
  {
   "cell_type": "code",
   "execution_count": 61,
   "metadata": {
    "colab": {
     "base_uri": "https://localhost:8080/"
    },
    "executionInfo": {
     "elapsed": 988,
     "status": "ok",
     "timestamp": 1638839517497,
     "user": {
      "displayName": "Henrietta Kadi Tettey-Tawiah",
      "photoUrl": "https://lh3.googleusercontent.com/a/default-user=s64",
      "userId": "08888930326766866324"
     },
     "user_tz": 0
    },
    "id": "Hotv6mX7yxtL",
    "outputId": "8c342131-973f-41bb-fd5c-b5ace68be70f"
   },
   "outputs": [
    {
     "data": {
      "text/plain": [
       "RandomForestClassifier(bootstrap=False, max_depth=80, max_features=3,\n",
       "                       min_samples_leaf=3, min_samples_split=8,\n",
       "                       random_state=42)"
      ]
     },
     "execution_count": 61,
     "metadata": {},
     "output_type": "execute_result"
    }
   ],
   "source": [
    "hp_rfc = RandomForestClassifier(bootstrap= False, max_depth= 80, max_features=3, min_samples_leaf=3, min_samples_split=8, n_estimators=100, random_state=42)\n",
    "hp_rfc.fit(X_train,y_train)"
   ]
  },
  {
   "cell_type": "markdown",
   "metadata": {
    "id": "_R_WTR0rzK1k"
   },
   "source": [
    "## Model Evaluation"
   ]
  },
  {
   "cell_type": "markdown",
   "metadata": {
    "id": "MNHAJbOqe0xb"
   },
   "source": [
    "The evaluation metrics to be used are:\n",
    "  * F1 score\n",
    "  * Precision\n",
    "  * ROC\n",
    "  * Training Score\n",
    "  * Test Score\n",
    "  * Confusion Matrix\n",
    "  * Accuracy\n",
    "  * ROC Curve"
   ]
  },
  {
   "cell_type": "code",
   "execution_count": 62,
   "metadata": {
    "colab": {
     "background_save": true
    },
    "executionInfo": {
     "elapsed": 5021,
     "status": "ok",
     "timestamp": 1638840844071,
     "user": {
      "displayName": "Henrietta Kadi Tettey-Tawiah",
      "photoUrl": "https://lh3.googleusercontent.com/a/default-user=s64",
      "userId": "08888930326766866324"
     },
     "user_tz": 0
    },
    "id": "xlSSZbnLen80"
   },
   "outputs": [],
   "source": [
    "# For Logistic Regression\n",
    "lr_ypred = hp_lr.predict(X_test)\n",
    "tn_lr = hp_lr.score(X_train,y_train)\n",
    "tt_lr = hp_lr.score(X_test, y_test)\n",
    "f1_lr = f1_score(y_test, lr_ypred)\n",
    "pre_lr = precision_score(y_test, lr_ypred)\n",
    "acc_lr = accuracy_score(y_test, lr_ypred)\n",
    "\n",
    "\n",
    "\n",
    "# For SVC\n",
    "svc_pred = hp_svc.predict(X_test)\n",
    "tn_svc = hp_svc.score(X_train,y_train)\n",
    "tt_svc = hp_svc.score(X_test, y_test)\n",
    "f1_svc = f1_score(y_test, svc_pred)\n",
    "pre_svc = precision_score(y_test, svc_pred)\n",
    "acc_svc = accuracy_score(y_test, svc_pred)\n",
    "\n",
    "\n",
    "# For SDG \n",
    "sgd_pred = hp_sgd.predict(X_test)\n",
    "tn_sgd = hp_sgd.score(X_train,y_train)\n",
    "tt_sgd = hp_sgd.score(X_test,y_test)\n",
    "f1_sgd = f1_score(y_test, sgd_pred)\n",
    "pre_sgd = precision_score(y_test, sgd_pred)\n",
    "acc_sgd = accuracy_score(y_test, sgd_pred)\n",
    "\n",
    "\n",
    "# For Decision Tree\n",
    "dtr_pred = hp_dtr.predict(X_test)\n",
    "tn_dtr = hp_dtr.score(X_train,y_train)\n",
    "tt_dtr = hp_dtr.score(X_test,y_test)\n",
    "f1_dtr = f1_score(y_test, dtr_pred)\n",
    "pre_dtr = precision_score(y_test, dtr_pred)\n",
    "acc_dtr = accuracy_score(y_test, dtr_pred)\n",
    "\n",
    "\n",
    "# For Random Forest\n",
    "rfc_pred = hp_rfc.predict(X_test)\n",
    "tn_rfc = hp_rfc.score(X_train,y_train)\n",
    "tt_rfc = hp_rfc.score(X_test,y_test)\n",
    "f1_rfc = f1_score(y_test, rfc_pred)\n",
    "pre_rfc = precision_score(y_test, rfc_pred)\n",
    "acc_rfc = accuracy_score(y_test, rfc_pred)"
   ]
  },
  {
   "cell_type": "code",
   "execution_count": 63,
   "metadata": {
    "colab": {
     "background_save": true
    },
    "executionInfo": {
     "elapsed": 672,
     "status": "ok",
     "timestamp": 1638840883967,
     "user": {
      "displayName": "Henrietta Kadi Tettey-Tawiah",
      "photoUrl": "https://lh3.googleusercontent.com/a/default-user=s64",
      "userId": "08888930326766866324"
     },
     "user_tz": 0
    },
    "id": "d9tv-dpAgeLW"
   },
   "outputs": [],
   "source": [
    "model = [\"Logistic Regression\",\"Random Forest\", \"SVC\", \"SDG\", \"Decision Tree\"]\n",
    "tn = [tn_lr,tn_rfc,tn_svc,tn_sgd,tn_dtr]\n",
    "tt = [tt_lr,tt_rfc,tt_svc,tt_sgd,tt_dtr]\n",
    "f1 = [f1_lr,f1_rfc,f1_svc,f1_sgd,f1_dtr]\n",
    "pre = [pre_lr,pre_rfc,pre_svc,pre_sgd,pre_dtr]\n",
    "acc = [acc_lr,acc_rfc,acc_svc,acc_sgd,acc_dtr]"
   ]
  },
  {
   "cell_type": "code",
   "execution_count": 64,
   "metadata": {
    "colab": {
     "background_save": true,
     "base_uri": "https://localhost:8080/",
     "height": 206
    },
    "executionInfo": {
     "elapsed": 462,
     "status": "ok",
     "timestamp": 1638840888108,
     "user": {
      "displayName": "Henrietta Kadi Tettey-Tawiah",
      "photoUrl": "https://lh3.googleusercontent.com/a/default-user=s64",
      "userId": "08888930326766866324"
     },
     "user_tz": 0
    },
    "id": "1ilIZ49ng8GI"
   },
   "outputs": [
    {
     "data": {
      "text/html": [
       "<div>\n",
       "<style scoped>\n",
       "    .dataframe tbody tr th:only-of-type {\n",
       "        vertical-align: middle;\n",
       "    }\n",
       "\n",
       "    .dataframe tbody tr th {\n",
       "        vertical-align: top;\n",
       "    }\n",
       "\n",
       "    .dataframe thead th {\n",
       "        text-align: right;\n",
       "    }\n",
       "</style>\n",
       "<table border=\"1\" class=\"dataframe\">\n",
       "  <thead>\n",
       "    <tr style=\"text-align: right;\">\n",
       "      <th></th>\n",
       "      <th>Model</th>\n",
       "      <th>Train Score</th>\n",
       "      <th>Test Score</th>\n",
       "      <th>F1 Score</th>\n",
       "      <th>Precision</th>\n",
       "      <th>Accuracy</th>\n",
       "    </tr>\n",
       "  </thead>\n",
       "  <tbody>\n",
       "    <tr>\n",
       "      <th>0</th>\n",
       "      <td>Logistic Regression</td>\n",
       "      <td>0.867911</td>\n",
       "      <td>0.835616</td>\n",
       "      <td>0.217391</td>\n",
       "      <td>0.141700</td>\n",
       "      <td>0.835616</td>\n",
       "    </tr>\n",
       "    <tr>\n",
       "      <th>1</th>\n",
       "      <td>Random Forest</td>\n",
       "      <td>0.986923</td>\n",
       "      <td>0.904110</td>\n",
       "      <td>0.098160</td>\n",
       "      <td>0.090909</td>\n",
       "      <td>0.904110</td>\n",
       "    </tr>\n",
       "    <tr>\n",
       "      <th>2</th>\n",
       "      <td>SVC</td>\n",
       "      <td>1.000000</td>\n",
       "      <td>0.951076</td>\n",
       "      <td>0.000000</td>\n",
       "      <td>0.000000</td>\n",
       "      <td>0.951076</td>\n",
       "    </tr>\n",
       "    <tr>\n",
       "      <th>3</th>\n",
       "      <td>SDG</td>\n",
       "      <td>0.752130</td>\n",
       "      <td>0.899543</td>\n",
       "      <td>0.245098</td>\n",
       "      <td>0.193798</td>\n",
       "      <td>0.899543</td>\n",
       "    </tr>\n",
       "    <tr>\n",
       "      <th>4</th>\n",
       "      <td>Decision Tree</td>\n",
       "      <td>0.984866</td>\n",
       "      <td>0.862361</td>\n",
       "      <td>0.152610</td>\n",
       "      <td>0.109195</td>\n",
       "      <td>0.862361</td>\n",
       "    </tr>\n",
       "  </tbody>\n",
       "</table>\n",
       "</div>"
      ],
      "text/plain": [
       "                 Model  Train Score  Test Score  F1 Score  Precision  Accuracy\n",
       "0  Logistic Regression     0.867911    0.835616  0.217391   0.141700  0.835616\n",
       "1        Random Forest     0.986923    0.904110  0.098160   0.090909  0.904110\n",
       "2                  SVC     1.000000    0.951076  0.000000   0.000000  0.951076\n",
       "3                  SDG     0.752130    0.899543  0.245098   0.193798  0.899543\n",
       "4        Decision Tree     0.984866    0.862361  0.152610   0.109195  0.862361"
      ]
     },
     "execution_count": 64,
     "metadata": {},
     "output_type": "execute_result"
    }
   ],
   "source": [
    "metrics = {\"Model\" : model, \"Train Score\": tn, \"Test Score\" : tt, \"F1 Score\": f1, \"Precision\": pre, \"Accuracy\": acc}\n",
    "pdf = pd.DataFrame(metrics)\n",
    "pdf"
   ]
  },
  {
   "cell_type": "code",
   "execution_count": 65,
   "metadata": {
    "colab": {
     "background_save": true,
     "base_uri": "https://localhost:8080/"
    },
    "executionInfo": {
     "elapsed": 680,
     "status": "ok",
     "timestamp": 1638840981220,
     "user": {
      "displayName": "Henrietta Kadi Tettey-Tawiah",
      "photoUrl": "https://lh3.googleusercontent.com/a/default-user=s64",
      "userId": "08888930326766866324"
     },
     "user_tz": 0
    },
    "id": "nRPkGepTiDDl"
   },
   "outputs": [
    {
     "name": "stdout",
     "output_type": "stream",
     "text": [
      "\n",
      "Logistic Regression Model:\n",
      "[[1246  212]\n",
      " [  40   35]]\n",
      "\n",
      "XGBoost Model:\n",
      "[[1378   80]\n",
      " [  67    8]]\n",
      "\n",
      "SVC Model\n",
      "[[1458    0]\n",
      " [  75    0]]\n",
      "\n",
      "SDG Model:\n",
      "[[1354  104]\n",
      " [  50   25]]\n",
      "\n",
      "Decision Tree Model\n",
      "[[1303  155]\n",
      " [  56   19]]\n"
     ]
    },
    {
     "name": "stderr",
     "output_type": "stream",
     "text": [
      "/opt/anaconda3/envs/tensors/lib/python3.7/site-packages/sklearn/linear_model/_stochastic_gradient.py:577: ConvergenceWarning: Maximum number of iteration reached before convergence. Consider increasing max_iter to improve the fit.\n",
      "  ConvergenceWarning)\n",
      "/opt/anaconda3/envs/tensors/lib/python3.7/site-packages/sklearn/linear_model/_stochastic_gradient.py:577: ConvergenceWarning: Maximum number of iteration reached before convergence. Consider increasing max_iter to improve the fit.\n",
      "  ConvergenceWarning)\n",
      "/opt/anaconda3/envs/tensors/lib/python3.7/site-packages/sklearn/linear_model/_stochastic_gradient.py:577: ConvergenceWarning: Maximum number of iteration reached before convergence. Consider increasing max_iter to improve the fit.\n",
      "  ConvergenceWarning)\n",
      "/opt/anaconda3/envs/tensors/lib/python3.7/site-packages/sklearn/linear_model/_stochastic_gradient.py:577: ConvergenceWarning: Maximum number of iteration reached before convergence. Consider increasing max_iter to improve the fit.\n",
      "  ConvergenceWarning)\n",
      "/opt/anaconda3/envs/tensors/lib/python3.7/site-packages/sklearn/linear_model/_stochastic_gradient.py:577: ConvergenceWarning: Maximum number of iteration reached before convergence. Consider increasing max_iter to improve the fit.\n",
      "  ConvergenceWarning)\n",
      "/opt/anaconda3/envs/tensors/lib/python3.7/site-packages/sklearn/linear_model/_stochastic_gradient.py:577: ConvergenceWarning: Maximum number of iteration reached before convergence. Consider increasing max_iter to improve the fit.\n",
      "  ConvergenceWarning)\n",
      "/opt/anaconda3/envs/tensors/lib/python3.7/site-packages/sklearn/linear_model/_stochastic_gradient.py:577: ConvergenceWarning: Maximum number of iteration reached before convergence. Consider increasing max_iter to improve the fit.\n",
      "  ConvergenceWarning)\n",
      "/opt/anaconda3/envs/tensors/lib/python3.7/site-packages/sklearn/linear_model/_stochastic_gradient.py:577: ConvergenceWarning: Maximum number of iteration reached before convergence. Consider increasing max_iter to improve the fit.\n",
      "  ConvergenceWarning)\n",
      "/opt/anaconda3/envs/tensors/lib/python3.7/site-packages/sklearn/linear_model/_stochastic_gradient.py:577: ConvergenceWarning: Maximum number of iteration reached before convergence. Consider increasing max_iter to improve the fit.\n",
      "  ConvergenceWarning)\n",
      "/opt/anaconda3/envs/tensors/lib/python3.7/site-packages/sklearn/linear_model/_stochastic_gradient.py:577: ConvergenceWarning: Maximum number of iteration reached before convergence. Consider increasing max_iter to improve the fit.\n",
      "  ConvergenceWarning)\n",
      "/opt/anaconda3/envs/tensors/lib/python3.7/site-packages/sklearn/linear_model/_stochastic_gradient.py:577: ConvergenceWarning: Maximum number of iteration reached before convergence. Consider increasing max_iter to improve the fit.\n",
      "  ConvergenceWarning)\n",
      "/opt/anaconda3/envs/tensors/lib/python3.7/site-packages/sklearn/linear_model/_stochastic_gradient.py:577: ConvergenceWarning: Maximum number of iteration reached before convergence. Consider increasing max_iter to improve the fit.\n",
      "  ConvergenceWarning)\n",
      "/opt/anaconda3/envs/tensors/lib/python3.7/site-packages/sklearn/linear_model/_stochastic_gradient.py:577: ConvergenceWarning: Maximum number of iteration reached before convergence. Consider increasing max_iter to improve the fit.\n",
      "  ConvergenceWarning)\n",
      "/opt/anaconda3/envs/tensors/lib/python3.7/site-packages/sklearn/linear_model/_stochastic_gradient.py:577: ConvergenceWarning: Maximum number of iteration reached before convergence. Consider increasing max_iter to improve the fit.\n",
      "  ConvergenceWarning)\n",
      "/opt/anaconda3/envs/tensors/lib/python3.7/site-packages/sklearn/linear_model/_stochastic_gradient.py:577: ConvergenceWarning: Maximum number of iteration reached before convergence. Consider increasing max_iter to improve the fit.\n",
      "  ConvergenceWarning)\n",
      "/opt/anaconda3/envs/tensors/lib/python3.7/site-packages/sklearn/linear_model/_stochastic_gradient.py:577: ConvergenceWarning: Maximum number of iteration reached before convergence. Consider increasing max_iter to improve the fit.\n",
      "  ConvergenceWarning)\n",
      "/opt/anaconda3/envs/tensors/lib/python3.7/site-packages/sklearn/linear_model/_stochastic_gradient.py:577: ConvergenceWarning: Maximum number of iteration reached before convergence. Consider increasing max_iter to improve the fit.\n",
      "  ConvergenceWarning)\n",
      "/opt/anaconda3/envs/tensors/lib/python3.7/site-packages/sklearn/linear_model/_stochastic_gradient.py:577: ConvergenceWarning: Maximum number of iteration reached before convergence. Consider increasing max_iter to improve the fit.\n",
      "  ConvergenceWarning)\n",
      "/opt/anaconda3/envs/tensors/lib/python3.7/site-packages/sklearn/linear_model/_stochastic_gradient.py:577: ConvergenceWarning: Maximum number of iteration reached before convergence. Consider increasing max_iter to improve the fit.\n",
      "  ConvergenceWarning)\n",
      "/opt/anaconda3/envs/tensors/lib/python3.7/site-packages/sklearn/linear_model/_stochastic_gradient.py:577: ConvergenceWarning: Maximum number of iteration reached before convergence. Consider increasing max_iter to improve the fit.\n",
      "  ConvergenceWarning)\n",
      "/opt/anaconda3/envs/tensors/lib/python3.7/site-packages/sklearn/linear_model/_stochastic_gradient.py:577: ConvergenceWarning: Maximum number of iteration reached before convergence. Consider increasing max_iter to improve the fit.\n",
      "  ConvergenceWarning)\n",
      "/opt/anaconda3/envs/tensors/lib/python3.7/site-packages/sklearn/linear_model/_stochastic_gradient.py:577: ConvergenceWarning: Maximum number of iteration reached before convergence. Consider increasing max_iter to improve the fit.\n",
      "  ConvergenceWarning)\n",
      "/opt/anaconda3/envs/tensors/lib/python3.7/site-packages/sklearn/linear_model/_stochastic_gradient.py:577: ConvergenceWarning: Maximum number of iteration reached before convergence. Consider increasing max_iter to improve the fit.\n",
      "  ConvergenceWarning)\n",
      "/opt/anaconda3/envs/tensors/lib/python3.7/site-packages/sklearn/linear_model/_stochastic_gradient.py:577: ConvergenceWarning: Maximum number of iteration reached before convergence. Consider increasing max_iter to improve the fit.\n",
      "  ConvergenceWarning)\n",
      "/opt/anaconda3/envs/tensors/lib/python3.7/site-packages/sklearn/linear_model/_stochastic_gradient.py:577: ConvergenceWarning: Maximum number of iteration reached before convergence. Consider increasing max_iter to improve the fit.\n",
      "  ConvergenceWarning)\n",
      "/opt/anaconda3/envs/tensors/lib/python3.7/site-packages/sklearn/linear_model/_stochastic_gradient.py:577: ConvergenceWarning: Maximum number of iteration reached before convergence. Consider increasing max_iter to improve the fit.\n",
      "  ConvergenceWarning)\n",
      "/opt/anaconda3/envs/tensors/lib/python3.7/site-packages/sklearn/linear_model/_stochastic_gradient.py:577: ConvergenceWarning: Maximum number of iteration reached before convergence. Consider increasing max_iter to improve the fit.\n",
      "  ConvergenceWarning)\n",
      "/opt/anaconda3/envs/tensors/lib/python3.7/site-packages/sklearn/linear_model/_stochastic_gradient.py:577: ConvergenceWarning: Maximum number of iteration reached before convergence. Consider increasing max_iter to improve the fit.\n",
      "  ConvergenceWarning)\n",
      "/opt/anaconda3/envs/tensors/lib/python3.7/site-packages/sklearn/linear_model/_stochastic_gradient.py:577: ConvergenceWarning: Maximum number of iteration reached before convergence. Consider increasing max_iter to improve the fit.\n",
      "  ConvergenceWarning)\n",
      "/opt/anaconda3/envs/tensors/lib/python3.7/site-packages/sklearn/linear_model/_stochastic_gradient.py:577: ConvergenceWarning: Maximum number of iteration reached before convergence. Consider increasing max_iter to improve the fit.\n",
      "  ConvergenceWarning)\n",
      "/opt/anaconda3/envs/tensors/lib/python3.7/site-packages/sklearn/linear_model/_stochastic_gradient.py:577: ConvergenceWarning: Maximum number of iteration reached before convergence. Consider increasing max_iter to improve the fit.\n",
      "  ConvergenceWarning)\n",
      "/opt/anaconda3/envs/tensors/lib/python3.7/site-packages/sklearn/linear_model/_stochastic_gradient.py:577: ConvergenceWarning: Maximum number of iteration reached before convergence. Consider increasing max_iter to improve the fit.\n",
      "  ConvergenceWarning)\n",
      "/opt/anaconda3/envs/tensors/lib/python3.7/site-packages/sklearn/linear_model/_stochastic_gradient.py:577: ConvergenceWarning: Maximum number of iteration reached before convergence. Consider increasing max_iter to improve the fit.\n",
      "  ConvergenceWarning)\n",
      "/opt/anaconda3/envs/tensors/lib/python3.7/site-packages/sklearn/linear_model/_stochastic_gradient.py:577: ConvergenceWarning: Maximum number of iteration reached before convergence. Consider increasing max_iter to improve the fit.\n",
      "  ConvergenceWarning)\n",
      "/opt/anaconda3/envs/tensors/lib/python3.7/site-packages/sklearn/linear_model/_stochastic_gradient.py:577: ConvergenceWarning: Maximum number of iteration reached before convergence. Consider increasing max_iter to improve the fit.\n",
      "  ConvergenceWarning)\n"
     ]
    },
    {
     "name": "stderr",
     "output_type": "stream",
     "text": [
      "/opt/anaconda3/envs/tensors/lib/python3.7/site-packages/sklearn/linear_model/_stochastic_gradient.py:577: ConvergenceWarning: Maximum number of iteration reached before convergence. Consider increasing max_iter to improve the fit.\n",
      "  ConvergenceWarning)\n",
      "/opt/anaconda3/envs/tensors/lib/python3.7/site-packages/sklearn/linear_model/_stochastic_gradient.py:577: ConvergenceWarning: Maximum number of iteration reached before convergence. Consider increasing max_iter to improve the fit.\n",
      "  ConvergenceWarning)\n",
      "/opt/anaconda3/envs/tensors/lib/python3.7/site-packages/sklearn/linear_model/_stochastic_gradient.py:577: ConvergenceWarning: Maximum number of iteration reached before convergence. Consider increasing max_iter to improve the fit.\n",
      "  ConvergenceWarning)\n",
      "/opt/anaconda3/envs/tensors/lib/python3.7/site-packages/sklearn/linear_model/_stochastic_gradient.py:577: ConvergenceWarning: Maximum number of iteration reached before convergence. Consider increasing max_iter to improve the fit.\n",
      "  ConvergenceWarning)\n",
      "/opt/anaconda3/envs/tensors/lib/python3.7/site-packages/sklearn/linear_model/_stochastic_gradient.py:577: ConvergenceWarning: Maximum number of iteration reached before convergence. Consider increasing max_iter to improve the fit.\n",
      "  ConvergenceWarning)\n",
      "/opt/anaconda3/envs/tensors/lib/python3.7/site-packages/sklearn/linear_model/_stochastic_gradient.py:577: ConvergenceWarning: Maximum number of iteration reached before convergence. Consider increasing max_iter to improve the fit.\n",
      "  ConvergenceWarning)\n",
      "/opt/anaconda3/envs/tensors/lib/python3.7/site-packages/sklearn/linear_model/_stochastic_gradient.py:577: ConvergenceWarning: Maximum number of iteration reached before convergence. Consider increasing max_iter to improve the fit.\n",
      "  ConvergenceWarning)\n",
      "/opt/anaconda3/envs/tensors/lib/python3.7/site-packages/sklearn/linear_model/_stochastic_gradient.py:577: ConvergenceWarning: Maximum number of iteration reached before convergence. Consider increasing max_iter to improve the fit.\n",
      "  ConvergenceWarning)\n",
      "/opt/anaconda3/envs/tensors/lib/python3.7/site-packages/sklearn/linear_model/_stochastic_gradient.py:577: ConvergenceWarning: Maximum number of iteration reached before convergence. Consider increasing max_iter to improve the fit.\n",
      "  ConvergenceWarning)\n",
      "/opt/anaconda3/envs/tensors/lib/python3.7/site-packages/sklearn/linear_model/_stochastic_gradient.py:577: ConvergenceWarning: Maximum number of iteration reached before convergence. Consider increasing max_iter to improve the fit.\n",
      "  ConvergenceWarning)\n",
      "/opt/anaconda3/envs/tensors/lib/python3.7/site-packages/sklearn/linear_model/_stochastic_gradient.py:577: ConvergenceWarning: Maximum number of iteration reached before convergence. Consider increasing max_iter to improve the fit.\n",
      "  ConvergenceWarning)\n",
      "/opt/anaconda3/envs/tensors/lib/python3.7/site-packages/sklearn/linear_model/_stochastic_gradient.py:577: ConvergenceWarning: Maximum number of iteration reached before convergence. Consider increasing max_iter to improve the fit.\n",
      "  ConvergenceWarning)\n",
      "/opt/anaconda3/envs/tensors/lib/python3.7/site-packages/sklearn/linear_model/_stochastic_gradient.py:577: ConvergenceWarning: Maximum number of iteration reached before convergence. Consider increasing max_iter to improve the fit.\n",
      "  ConvergenceWarning)\n",
      "/opt/anaconda3/envs/tensors/lib/python3.7/site-packages/sklearn/linear_model/_stochastic_gradient.py:577: ConvergenceWarning: Maximum number of iteration reached before convergence. Consider increasing max_iter to improve the fit.\n",
      "  ConvergenceWarning)\n",
      "/opt/anaconda3/envs/tensors/lib/python3.7/site-packages/sklearn/linear_model/_stochastic_gradient.py:577: ConvergenceWarning: Maximum number of iteration reached before convergence. Consider increasing max_iter to improve the fit.\n",
      "  ConvergenceWarning)\n",
      "/opt/anaconda3/envs/tensors/lib/python3.7/site-packages/sklearn/linear_model/_stochastic_gradient.py:577: ConvergenceWarning: Maximum number of iteration reached before convergence. Consider increasing max_iter to improve the fit.\n",
      "  ConvergenceWarning)\n",
      "/opt/anaconda3/envs/tensors/lib/python3.7/site-packages/sklearn/linear_model/_stochastic_gradient.py:577: ConvergenceWarning: Maximum number of iteration reached before convergence. Consider increasing max_iter to improve the fit.\n",
      "  ConvergenceWarning)\n",
      "/opt/anaconda3/envs/tensors/lib/python3.7/site-packages/sklearn/linear_model/_stochastic_gradient.py:577: ConvergenceWarning: Maximum number of iteration reached before convergence. Consider increasing max_iter to improve the fit.\n",
      "  ConvergenceWarning)\n",
      "/opt/anaconda3/envs/tensors/lib/python3.7/site-packages/sklearn/linear_model/_stochastic_gradient.py:577: ConvergenceWarning: Maximum number of iteration reached before convergence. Consider increasing max_iter to improve the fit.\n",
      "  ConvergenceWarning)\n",
      "/opt/anaconda3/envs/tensors/lib/python3.7/site-packages/sklearn/linear_model/_stochastic_gradient.py:577: ConvergenceWarning: Maximum number of iteration reached before convergence. Consider increasing max_iter to improve the fit.\n",
      "  ConvergenceWarning)\n",
      "/opt/anaconda3/envs/tensors/lib/python3.7/site-packages/sklearn/linear_model/_stochastic_gradient.py:577: ConvergenceWarning: Maximum number of iteration reached before convergence. Consider increasing max_iter to improve the fit.\n",
      "  ConvergenceWarning)\n",
      "/opt/anaconda3/envs/tensors/lib/python3.7/site-packages/sklearn/linear_model/_stochastic_gradient.py:577: ConvergenceWarning: Maximum number of iteration reached before convergence. Consider increasing max_iter to improve the fit.\n",
      "  ConvergenceWarning)\n",
      "/opt/anaconda3/envs/tensors/lib/python3.7/site-packages/sklearn/linear_model/_stochastic_gradient.py:577: ConvergenceWarning: Maximum number of iteration reached before convergence. Consider increasing max_iter to improve the fit.\n",
      "  ConvergenceWarning)\n",
      "/opt/anaconda3/envs/tensors/lib/python3.7/site-packages/sklearn/linear_model/_stochastic_gradient.py:577: ConvergenceWarning: Maximum number of iteration reached before convergence. Consider increasing max_iter to improve the fit.\n",
      "  ConvergenceWarning)\n",
      "/opt/anaconda3/envs/tensors/lib/python3.7/site-packages/sklearn/linear_model/_stochastic_gradient.py:577: ConvergenceWarning: Maximum number of iteration reached before convergence. Consider increasing max_iter to improve the fit.\n",
      "  ConvergenceWarning)\n",
      "/opt/anaconda3/envs/tensors/lib/python3.7/site-packages/sklearn/linear_model/_stochastic_gradient.py:577: ConvergenceWarning: Maximum number of iteration reached before convergence. Consider increasing max_iter to improve the fit.\n",
      "  ConvergenceWarning)\n"
     ]
    }
   ],
   "source": [
    "print(\"\\nLogistic Regression Model:\")\n",
    "print(confusion_matrix(y_test, lr_ypred))\n",
    "print(\"\\nXGBoost Model:\")\n",
    "print(confusion_matrix(y_test, rfc_pred))\n",
    "print(\"\\nSVC Model\")\n",
    "print(confusion_matrix(y_test, svc_pred))\n",
    "print(\"\\nSDG Model:\")\n",
    "print(confusion_matrix(y_test, sgd_pred))\n",
    "print(\"\\nDecision Tree Model\")\n",
    "print(confusion_matrix(y_test, dtr_pred))"
   ]
  },
  {
   "cell_type": "markdown",
   "metadata": {
    "id": "K5g7iJr0iCS9"
   },
   "source": []
  }
 ],
 "metadata": {
  "colab": {
   "authorship_tag": "ABX9TyPizQnHfCt1awr9IzCKMqHs",
   "collapsed_sections": [
    "5YLtAQgJH3xw",
    "NxLMJUjMIfNZ",
    "YkF2p08eIyOe",
    "LoM_MFBLya9f",
    "iicP8xhNyjoD",
    "GmmBmdQBK0E5",
    "oblo3h1SyBRO",
    "jQX8x4ad3b5I",
    "3P4kMB7i2YAA",
    "UEFygwbS3pts",
    "pYZR42tW560q",
    "OB516vo67410",
    "2TGxKFgZ8ehu",
    "NNxpecoh88uq",
    "RnWMWbaM_ePr",
    "RQxO--pR__yd",
    "ukxYzBCpC0_v",
    "uYm_ECPc6aNf",
    "NwD6LIcI8OrW",
    "3nn0krag871U",
    "5u66QKND9ekM"
   ],
   "name": "Copy of Stroke Prediction Project.ipynb",
   "provenance": [
    {
     "file_id": "1j2XIC98G8aOMioG-ACo7lUamvRDfwi5N",
     "timestamp": 1638818246265
    }
   ],
   "toc_visible": true,
   "version": ""
  },
  "kernelspec": {
   "display_name": "Python 3 (ipykernel)",
   "language": "python",
   "name": "python3"
  },
  "language_info": {
   "codemirror_mode": {
    "name": "ipython",
    "version": 3
   },
   "file_extension": ".py",
   "mimetype": "text/x-python",
   "name": "python",
   "nbconvert_exporter": "python",
   "pygments_lexer": "ipython3",
   "version": "3.7.0"
  }
 },
 "nbformat": 4,
 "nbformat_minor": 1
}
