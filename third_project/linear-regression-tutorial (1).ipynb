{
 "cells": [
  {
   "cell_type": "markdown",
   "metadata": {},
   "source": [
    "We will build a Linear regression model for Medical cost dataset. The dataset consists of age, sex, BMI(body mass index), children, smoker and region feature, which are independent and charge as a dependent feature. We will predict individual medical costs billed by health insurance."
   ]
  },
  {
   "cell_type": "markdown",
   "metadata": {},
   "source": [
    "# Definition & Working principle\n",
    "Let's build model using **Linear regression**.\n",
    "\n",
    "Linear regression is a **supervised learining** algorithm used when target / dependent variable  **continues** real number. It establishes relationship between dependent variable $y$ and one or more independent variable $x$ using best fit line.   It work on the principle of ordinary least square $(OLS)$ / Mean square errror $(MSE)$. In statistics ols is method to estimated unkown parameter of linear regression function, it's goal is to minimize sum of square difference between observed dependent variable in the given data set and those predicted by linear regression fuction. \n",
    "\n",
    "## Hypothesis representation\n",
    "\n",
    "We will use $\\mathbf{x_i}$ to denote the independent variable and $\\mathbf{y_i}$ to denote dependent variable. A pair of $\\mathbf{(x_i,y_i)}$ is called training example. The subscripe $\\mathbf{i}$ in the notation is simply index into the training set. We have $\\mathbf{m}$ training example then $\\mathbf{i = 1,2,3,...m}$.\n",
    "\n",
    "The goal of supervised learning is to learn a *hypothesis function $\\mathbf{h}$*, for a given training set that can used to estimate $\\mathbf{y}$ based on $\\mathbf{x}$. So hypothesis fuction represented as \n",
    "\n",
    "$$\\mathbf{ h_\\theta(x_{i}) = \\theta_0 + \\theta_1x_i }$$   \n",
    "$\\mathbf{\\theta_0,\\theta_1}$ are parameter of hypothesis.This is equation for **Simple / Univariate Linear regression**. \n",
    "\n",
    "For **Multiple Linear regression** more than one independent variable exit then we will use $\\mathbf{x_{ij}}$ to denote indepedent variable and $\\mathbf{y_{i}}$ to denote dependent variable. We have $\\mathbf{n}$ independent variable then $\\mathbf{j=1,2,3 ..... n}$. The hypothesis function represented as\n",
    "\n",
    "$$\\mathbf{h_\\theta(x_{i}) = \\theta_0 + \\theta_1x_{i1} + \\theta_2 x_{i2} + ..... \\theta_j x_{ij} ...... \\theta_n  x_{mn} }$$\n",
    "$\\mathbf{\\theta_0,\\theta_1,....\\theta_j....\\theta_n }$ are parameter of hypothesis,\n",
    "$\\mathbf{m}$ Number of training exaples,\n",
    "$\\mathbf{n}$ Number of independent variable,\n",
    "$\\mathbf{x_{ij}}$ is $\\mathbf{i^{th}}$ training exaple of $\\mathbf{j^{th}}$ feature.\n"
   ]
  },
  {
   "cell_type": "markdown",
   "metadata": {},
   "source": [
    "## Import Library and Dataset\n",
    "Now we will import couple of python library required for our analysis and import dataset "
   ]
  },
  {
   "cell_type": "code",
   "execution_count": 1,
   "metadata": {},
   "outputs": [],
   "source": [
    "# Import library\n",
    "import pandas  as pd #Data manipulation\n",
    "import numpy as np #Data manipulation\n",
    "import matplotlib.pyplot as plt # Visualization\n",
    "import seaborn as sns #Visualization\n",
    "plt.rcParams['figure.figsize'] = [8,5]\n",
    "plt.rcParams['font.size'] =14\n",
    "plt.rcParams['font.weight']= 'bold'\n",
    "plt.style.use('seaborn-whitegrid')"
   ]
  },
  {
   "cell_type": "code",
   "execution_count": 2,
   "metadata": {},
   "outputs": [
    {
     "name": "stdout",
     "output_type": "stream",
     "text": [
      "\n",
      "Number of rows and columns in the data set:  (7, 3)\n",
      "\n"
     ]
    },
    {
     "data": {
      "text/html": [
       "<div>\n",
       "<style scoped>\n",
       "    .dataframe tbody tr th:only-of-type {\n",
       "        vertical-align: middle;\n",
       "    }\n",
       "\n",
       "    .dataframe tbody tr th {\n",
       "        vertical-align: top;\n",
       "    }\n",
       "\n",
       "    .dataframe thead th {\n",
       "        text-align: right;\n",
       "    }\n",
       "</style>\n",
       "<table border=\"1\" class=\"dataframe\">\n",
       "  <thead>\n",
       "    <tr style=\"text-align: right;\">\n",
       "      <th></th>\n",
       "      <th>Income_Range</th>\n",
       "      <th>Before_FBS</th>\n",
       "      <th>After_FBS</th>\n",
       "    </tr>\n",
       "  </thead>\n",
       "  <tbody>\n",
       "    <tr>\n",
       "      <th>0</th>\n",
       "      <td>1-1000GHC</td>\n",
       "      <td>38</td>\n",
       "      <td>18</td>\n",
       "    </tr>\n",
       "    <tr>\n",
       "      <th>1</th>\n",
       "      <td>1000-2000GHC</td>\n",
       "      <td>41</td>\n",
       "      <td>14</td>\n",
       "    </tr>\n",
       "    <tr>\n",
       "      <th>2</th>\n",
       "      <td>2000-3000GHC</td>\n",
       "      <td>25</td>\n",
       "      <td>31</td>\n",
       "    </tr>\n",
       "    <tr>\n",
       "      <th>3</th>\n",
       "      <td>3000-4000GHC</td>\n",
       "      <td>26</td>\n",
       "      <td>29</td>\n",
       "    </tr>\n",
       "    <tr>\n",
       "      <th>4</th>\n",
       "      <td>4000-5000GHC</td>\n",
       "      <td>9</td>\n",
       "      <td>18</td>\n",
       "    </tr>\n",
       "  </tbody>\n",
       "</table>\n",
       "</div>"
      ],
      "text/plain": [
       "   Income_Range  Before_FBS  After_FBS\n",
       "0     1-1000GHC          38         18\n",
       "1  1000-2000GHC          41         14\n",
       "2  2000-3000GHC          25         31\n",
       "3  3000-4000GHC          26         29\n",
       "4  4000-5000GHC           9         18"
      ]
     },
     "execution_count": 2,
     "metadata": {},
     "output_type": "execute_result"
    }
   ],
   "source": [
    "# Import dataset\n",
    "#path ='dataset/'\n",
    "df = pd.read_csv('Parker.csv')\n",
    "print('\\nNumber of rows and columns in the data set: ',df.shape)\n",
    "print('')\n",
    "\n",
    "#Lets look into top few rows and columns in the dataset\n",
    "df.head()"
   ]
  },
  {
   "cell_type": "markdown",
   "metadata": {},
   "source": [
    "Now we have import dataset. When we look at the shape of dataset it has return as (1338,7).So there are $\\mathbf{m=1338}$ training exaple and $\\mathbf{n=7}$ independent variable. The target variable here is charges and remaining six variables such as age, sex, bmi, children, smoker, region are independent variable. There are multiple independent variable, so we need to fit Multiple linear regression. Then the hypothesis function looks like\n",
    "\n",
    "$$\\mathbf{ h_\\theta(x_{i}) = \\theta_0+\\theta_1 age + \\theta_2 sex + \\theta_3 bmi + \\theta_4 children + \\theta_5 smoker + \\theta_6 region }$$\n",
    "\n",
    "This multiple linear regression equation for given dataset.  \n",
    "If $\\mathbf{i=1}$ then \n",
    "$$\\mathbf{h_\\theta(x_{1}) = \\theta_0+\\theta_1 19 + \\theta_2 female + \\theta_3 27.900 + \\theta_4 1 + \\theta_5 yes + \\theta_6 southwest}$$ \n",
    "$$\\mathbf{y_1 = 16884.92400}$$\n",
    "If $\\mathbf{i=3}$ then $$\\mathbf{h_\\theta(x_{3}) = \\theta_0+\\theta_1 28 + \\theta_2 male + \\theta_3 33.000 + \\theta_4 3 + \\theta_5 no + \\theta_6 northwest}$$ \n",
    "$$\\mathbf{y_3 = 4449.46200}$$\n",
    "*Note*: In python index starts from 0.\n",
    "$$\\mathbf{x_1 = \\left(\\begin{matrix} x_{11} & x_{12} & x_{13} & x_{14} & x_{15} & x_{16}\\end{matrix}\\right) = \\left(\\begin{matrix} 19 & female & 27.900 & 1 & no & northwest\\end{matrix}\\right) }$$"
   ]
  },
  {
   "cell_type": "markdown",
   "metadata": {},
   "source": [
    "## Matrix Formulation\n",
    "\n",
    "In general we can write above vector as $$ \\mathbf{ x_{ij}} = \\left( \\begin{smallmatrix} \\mathbf{x_{i1}} & \\mathbf{x_{i2}} &.&.&.& \\mathbf{x_{in}} \\end{smallmatrix} \\right)$$\n",
    "\n",
    "Now we combine all aviable individual vector into single input matrix of size $(m,n)$ and denoted it by $\\mathbf{X}$ input matrix, which consist of all training exaples,\n",
    "$$\\mathbf{X} = \\left( \\begin{smallmatrix} x_{11} & x_{12} &.&.&.&.& x_{1n}\\\\\n",
    "                                x_{21} & x_{22} &.&.&.&.& x_{2n}\\\\\n",
    "                                x_{31} & x_{32} &.&.&.&.& x_{3n}\\\\\n",
    "                                .&.&.&. &.&.&.& \\\\\n",
    "                                .&.&.&. &.&.&.& \\\\\n",
    "                                x_{m1} & x_{m2} &.&.&.&.&. x_{mn}\\\\\n",
    "                                \\end{smallmatrix} \\right)_{(m,n)}$$\n",
    "\n",
    "We represent parameter of function and dependent variable in vactor form as  \n",
    "$$\\theta = \\left (\\begin{matrix} \\theta_0 \\\\ \\theta_1 \\\\ .\\\\.\\\\ \\theta_j\\\\.\\\\.\\\\ \\theta_n \\end {matrix}\\right)_{(n+1,1)} \n",
    "\\mathbf{ y } = \\left (\\begin{matrix} y_1\\\\ y_2\\\\. \\\\. \\\\ y_i \\\\. \\\\. \\\\ y_m \\end{matrix} \\right)_{(m,1)}$$\n",
    "\n",
    "So we represent hypothesis function in vectorize form $$\\mathbf{ h_\\theta{(x)} = X\\theta}$$.\n",
    "\n"
   ]
  },
  {
   "cell_type": "code",
   "execution_count": 3,
   "metadata": {},
   "outputs": [
    {
     "ename": "UFuncTypeError",
     "evalue": "ufunc 'multiply' did not contain a loop with signature matching types (dtype('<U32'), dtype('<U32')) -> dtype('<U32')",
     "output_type": "error",
     "traceback": [
      "\u001b[0;31m---------------------------------------------------------------------------\u001b[0m",
      "\u001b[0;31mUFuncTypeError\u001b[0m                            Traceback (most recent call last)",
      "\u001b[0;32m/var/folders/v9/nv1t6g591m18kqp9zx75tqcc0000gn/T/ipykernel_57175/2946916620.py\u001b[0m in \u001b[0;36m<module>\u001b[0;34m\u001b[0m\n\u001b[1;32m      2\u001b[0m and charges as dependent variable\"\"\"\n\u001b[1;32m      3\u001b[0m \u001b[0;34m\u001b[0m\u001b[0m\n\u001b[0;32m----> 4\u001b[0;31m \u001b[0msns\u001b[0m\u001b[0;34m.\u001b[0m\u001b[0mlmplot\u001b[0m\u001b[0;34m(\u001b[0m\u001b[0mx\u001b[0m\u001b[0;34m=\u001b[0m\u001b[0;34m'Income_Range'\u001b[0m\u001b[0;34m,\u001b[0m\u001b[0my\u001b[0m\u001b[0;34m=\u001b[0m\u001b[0;34m'After_FBS'\u001b[0m\u001b[0;34m,\u001b[0m\u001b[0mdata\u001b[0m\u001b[0;34m=\u001b[0m\u001b[0mdf\u001b[0m\u001b[0;34m,\u001b[0m\u001b[0maspect\u001b[0m\u001b[0;34m=\u001b[0m\u001b[0;36m2\u001b[0m\u001b[0;34m,\u001b[0m\u001b[0mheight\u001b[0m\u001b[0;34m=\u001b[0m\u001b[0;36m6\u001b[0m\u001b[0;34m)\u001b[0m\u001b[0;34m\u001b[0m\u001b[0m\n\u001b[0m\u001b[1;32m      5\u001b[0m \u001b[0mplt\u001b[0m\u001b[0;34m.\u001b[0m\u001b[0mxlabel\u001b[0m\u001b[0;34m(\u001b[0m\u001b[0;34m'Boby Mass Index$(kg/m^2)$: as Independent variable'\u001b[0m\u001b[0;34m)\u001b[0m\u001b[0;34m\u001b[0m\u001b[0m\n\u001b[1;32m      6\u001b[0m \u001b[0mplt\u001b[0m\u001b[0;34m.\u001b[0m\u001b[0mylabel\u001b[0m\u001b[0;34m(\u001b[0m\u001b[0;34m'Insurance Charges: as Dependent variable'\u001b[0m\u001b[0;34m)\u001b[0m\u001b[0;34m\u001b[0m\u001b[0m\n",
      "\u001b[0;32m/opt/anaconda3/envs/tensors/lib/python3.7/site-packages/seaborn/_decorators.py\u001b[0m in \u001b[0;36minner_f\u001b[0;34m(*args, **kwargs)\u001b[0m\n\u001b[1;32m     44\u001b[0m             )\n\u001b[1;32m     45\u001b[0m         \u001b[0mkwargs\u001b[0m\u001b[0;34m.\u001b[0m\u001b[0mupdate\u001b[0m\u001b[0;34m(\u001b[0m\u001b[0;34m{\u001b[0m\u001b[0mk\u001b[0m\u001b[0;34m:\u001b[0m \u001b[0marg\u001b[0m \u001b[0;32mfor\u001b[0m \u001b[0mk\u001b[0m\u001b[0;34m,\u001b[0m \u001b[0marg\u001b[0m \u001b[0;32min\u001b[0m \u001b[0mzip\u001b[0m\u001b[0;34m(\u001b[0m\u001b[0msig\u001b[0m\u001b[0;34m.\u001b[0m\u001b[0mparameters\u001b[0m\u001b[0;34m,\u001b[0m \u001b[0margs\u001b[0m\u001b[0;34m)\u001b[0m\u001b[0;34m}\u001b[0m\u001b[0;34m)\u001b[0m\u001b[0;34m\u001b[0m\u001b[0m\n\u001b[0;32m---> 46\u001b[0;31m         \u001b[0;32mreturn\u001b[0m \u001b[0mf\u001b[0m\u001b[0;34m(\u001b[0m\u001b[0;34m**\u001b[0m\u001b[0mkwargs\u001b[0m\u001b[0;34m)\u001b[0m\u001b[0;34m\u001b[0m\u001b[0m\n\u001b[0m\u001b[1;32m     47\u001b[0m     \u001b[0;32mreturn\u001b[0m \u001b[0minner_f\u001b[0m\u001b[0;34m\u001b[0m\u001b[0m\n\u001b[1;32m     48\u001b[0m \u001b[0;34m\u001b[0m\u001b[0m\n",
      "\u001b[0;32m/opt/anaconda3/envs/tensors/lib/python3.7/site-packages/seaborn/regression.py\u001b[0m in \u001b[0;36mlmplot\u001b[0;34m(x, y, data, hue, col, row, palette, col_wrap, height, aspect, markers, sharex, sharey, hue_order, col_order, row_order, legend, legend_out, x_estimator, x_bins, x_ci, scatter, fit_reg, ci, n_boot, units, seed, order, logistic, lowess, robust, logx, x_partial, y_partial, truncate, x_jitter, y_jitter, scatter_kws, line_kws, size)\u001b[0m\n\u001b[1;32m    626\u001b[0m         \u001b[0mscatter_kws\u001b[0m\u001b[0;34m=\u001b[0m\u001b[0mscatter_kws\u001b[0m\u001b[0;34m,\u001b[0m \u001b[0mline_kws\u001b[0m\u001b[0;34m=\u001b[0m\u001b[0mline_kws\u001b[0m\u001b[0;34m,\u001b[0m\u001b[0;34m\u001b[0m\u001b[0m\n\u001b[1;32m    627\u001b[0m     )\n\u001b[0;32m--> 628\u001b[0;31m     \u001b[0mfacets\u001b[0m\u001b[0;34m.\u001b[0m\u001b[0mmap_dataframe\u001b[0m\u001b[0;34m(\u001b[0m\u001b[0mregplot\u001b[0m\u001b[0;34m,\u001b[0m \u001b[0mx\u001b[0m\u001b[0;34m=\u001b[0m\u001b[0mx\u001b[0m\u001b[0;34m,\u001b[0m \u001b[0my\u001b[0m\u001b[0;34m=\u001b[0m\u001b[0my\u001b[0m\u001b[0;34m,\u001b[0m \u001b[0;34m**\u001b[0m\u001b[0mregplot_kws\u001b[0m\u001b[0;34m)\u001b[0m\u001b[0;34m\u001b[0m\u001b[0m\n\u001b[0m\u001b[1;32m    629\u001b[0m \u001b[0;34m\u001b[0m\u001b[0m\n\u001b[1;32m    630\u001b[0m     \u001b[0;31m# TODO this will need to change when we relax string requirement\u001b[0m\u001b[0;34m\u001b[0m\u001b[0;34m\u001b[0m\u001b[0m\n",
      "\u001b[0;32m/opt/anaconda3/envs/tensors/lib/python3.7/site-packages/seaborn/axisgrid.py\u001b[0m in \u001b[0;36mmap_dataframe\u001b[0;34m(self, func, *args, **kwargs)\u001b[0m\n\u001b[1;32m    748\u001b[0m \u001b[0;34m\u001b[0m\u001b[0m\n\u001b[1;32m    749\u001b[0m             \u001b[0;31m# Draw the plot\u001b[0m\u001b[0;34m\u001b[0m\u001b[0;34m\u001b[0m\u001b[0m\n\u001b[0;32m--> 750\u001b[0;31m             \u001b[0mself\u001b[0m\u001b[0;34m.\u001b[0m\u001b[0m_facet_plot\u001b[0m\u001b[0;34m(\u001b[0m\u001b[0mfunc\u001b[0m\u001b[0;34m,\u001b[0m \u001b[0max\u001b[0m\u001b[0;34m,\u001b[0m \u001b[0margs\u001b[0m\u001b[0;34m,\u001b[0m \u001b[0mkwargs\u001b[0m\u001b[0;34m)\u001b[0m\u001b[0;34m\u001b[0m\u001b[0m\n\u001b[0m\u001b[1;32m    751\u001b[0m \u001b[0;34m\u001b[0m\u001b[0m\n\u001b[1;32m    752\u001b[0m         \u001b[0;31m# Finalize the annotations and layout\u001b[0m\u001b[0;34m\u001b[0m\u001b[0;34m\u001b[0m\u001b[0m\n",
      "\u001b[0;32m/opt/anaconda3/envs/tensors/lib/python3.7/site-packages/seaborn/axisgrid.py\u001b[0m in \u001b[0;36m_facet_plot\u001b[0;34m(self, func, ax, plot_args, plot_kwargs)\u001b[0m\n\u001b[1;32m    773\u001b[0m             \u001b[0mplot_args\u001b[0m \u001b[0;34m=\u001b[0m \u001b[0;34m[\u001b[0m\u001b[0;34m]\u001b[0m\u001b[0;34m\u001b[0m\u001b[0m\n\u001b[1;32m    774\u001b[0m             \u001b[0mplot_kwargs\u001b[0m\u001b[0;34m[\u001b[0m\u001b[0;34m\"ax\"\u001b[0m\u001b[0;34m]\u001b[0m \u001b[0;34m=\u001b[0m \u001b[0max\u001b[0m\u001b[0;34m\u001b[0m\u001b[0m\n\u001b[0;32m--> 775\u001b[0;31m         \u001b[0mfunc\u001b[0m\u001b[0;34m(\u001b[0m\u001b[0;34m*\u001b[0m\u001b[0mplot_args\u001b[0m\u001b[0;34m,\u001b[0m \u001b[0;34m**\u001b[0m\u001b[0mplot_kwargs\u001b[0m\u001b[0;34m)\u001b[0m\u001b[0;34m\u001b[0m\u001b[0m\n\u001b[0m\u001b[1;32m    776\u001b[0m \u001b[0;34m\u001b[0m\u001b[0m\n\u001b[1;32m    777\u001b[0m         \u001b[0;31m# Sort out the supporting information\u001b[0m\u001b[0;34m\u001b[0m\u001b[0;34m\u001b[0m\u001b[0m\n",
      "\u001b[0;32m/opt/anaconda3/envs/tensors/lib/python3.7/site-packages/seaborn/_decorators.py\u001b[0m in \u001b[0;36minner_f\u001b[0;34m(*args, **kwargs)\u001b[0m\n\u001b[1;32m     44\u001b[0m             )\n\u001b[1;32m     45\u001b[0m         \u001b[0mkwargs\u001b[0m\u001b[0;34m.\u001b[0m\u001b[0mupdate\u001b[0m\u001b[0;34m(\u001b[0m\u001b[0;34m{\u001b[0m\u001b[0mk\u001b[0m\u001b[0;34m:\u001b[0m \u001b[0marg\u001b[0m \u001b[0;32mfor\u001b[0m \u001b[0mk\u001b[0m\u001b[0;34m,\u001b[0m \u001b[0marg\u001b[0m \u001b[0;32min\u001b[0m \u001b[0mzip\u001b[0m\u001b[0;34m(\u001b[0m\u001b[0msig\u001b[0m\u001b[0;34m.\u001b[0m\u001b[0mparameters\u001b[0m\u001b[0;34m,\u001b[0m \u001b[0margs\u001b[0m\u001b[0;34m)\u001b[0m\u001b[0;34m}\u001b[0m\u001b[0;34m)\u001b[0m\u001b[0;34m\u001b[0m\u001b[0m\n\u001b[0;32m---> 46\u001b[0;31m         \u001b[0;32mreturn\u001b[0m \u001b[0mf\u001b[0m\u001b[0;34m(\u001b[0m\u001b[0;34m**\u001b[0m\u001b[0mkwargs\u001b[0m\u001b[0;34m)\u001b[0m\u001b[0;34m\u001b[0m\u001b[0m\n\u001b[0m\u001b[1;32m     47\u001b[0m     \u001b[0;32mreturn\u001b[0m \u001b[0minner_f\u001b[0m\u001b[0;34m\u001b[0m\u001b[0m\n\u001b[1;32m     48\u001b[0m \u001b[0;34m\u001b[0m\u001b[0m\n",
      "\u001b[0;32m/opt/anaconda3/envs/tensors/lib/python3.7/site-packages/seaborn/regression.py\u001b[0m in \u001b[0;36mregplot\u001b[0;34m(x, y, data, x_estimator, x_bins, x_ci, scatter, fit_reg, ci, n_boot, units, seed, order, logistic, lowess, robust, logx, x_partial, y_partial, truncate, dropna, x_jitter, y_jitter, label, color, marker, scatter_kws, line_kws, ax)\u001b[0m\n\u001b[1;32m    836\u001b[0m     \u001b[0mscatter_kws\u001b[0m\u001b[0;34m[\u001b[0m\u001b[0;34m\"marker\"\u001b[0m\u001b[0;34m]\u001b[0m \u001b[0;34m=\u001b[0m \u001b[0mmarker\u001b[0m\u001b[0;34m\u001b[0m\u001b[0m\n\u001b[1;32m    837\u001b[0m     \u001b[0mline_kws\u001b[0m \u001b[0;34m=\u001b[0m \u001b[0;34m{\u001b[0m\u001b[0;34m}\u001b[0m \u001b[0;32mif\u001b[0m \u001b[0mline_kws\u001b[0m \u001b[0;32mis\u001b[0m \u001b[0;32mNone\u001b[0m \u001b[0;32melse\u001b[0m \u001b[0mcopy\u001b[0m\u001b[0;34m.\u001b[0m\u001b[0mcopy\u001b[0m\u001b[0;34m(\u001b[0m\u001b[0mline_kws\u001b[0m\u001b[0;34m)\u001b[0m\u001b[0;34m\u001b[0m\u001b[0m\n\u001b[0;32m--> 838\u001b[0;31m     \u001b[0mplotter\u001b[0m\u001b[0;34m.\u001b[0m\u001b[0mplot\u001b[0m\u001b[0;34m(\u001b[0m\u001b[0max\u001b[0m\u001b[0;34m,\u001b[0m \u001b[0mscatter_kws\u001b[0m\u001b[0;34m,\u001b[0m \u001b[0mline_kws\u001b[0m\u001b[0;34m)\u001b[0m\u001b[0;34m\u001b[0m\u001b[0m\n\u001b[0m\u001b[1;32m    839\u001b[0m     \u001b[0;32mreturn\u001b[0m \u001b[0max\u001b[0m\u001b[0;34m\u001b[0m\u001b[0m\n\u001b[1;32m    840\u001b[0m \u001b[0;34m\u001b[0m\u001b[0m\n",
      "\u001b[0;32m/opt/anaconda3/envs/tensors/lib/python3.7/site-packages/seaborn/regression.py\u001b[0m in \u001b[0;36mplot\u001b[0;34m(self, ax, scatter_kws, line_kws)\u001b[0m\n\u001b[1;32m    368\u001b[0m \u001b[0;34m\u001b[0m\u001b[0m\n\u001b[1;32m    369\u001b[0m         \u001b[0;32mif\u001b[0m \u001b[0mself\u001b[0m\u001b[0;34m.\u001b[0m\u001b[0mfit_reg\u001b[0m\u001b[0;34m:\u001b[0m\u001b[0;34m\u001b[0m\u001b[0m\n\u001b[0;32m--> 370\u001b[0;31m             \u001b[0mself\u001b[0m\u001b[0;34m.\u001b[0m\u001b[0mlineplot\u001b[0m\u001b[0;34m(\u001b[0m\u001b[0max\u001b[0m\u001b[0;34m,\u001b[0m \u001b[0mline_kws\u001b[0m\u001b[0;34m)\u001b[0m\u001b[0;34m\u001b[0m\u001b[0m\n\u001b[0m\u001b[1;32m    371\u001b[0m \u001b[0;34m\u001b[0m\u001b[0m\n\u001b[1;32m    372\u001b[0m         \u001b[0;31m# Label the axes\u001b[0m\u001b[0;34m\u001b[0m\u001b[0;34m\u001b[0m\u001b[0m\n",
      "\u001b[0;32m/opt/anaconda3/envs/tensors/lib/python3.7/site-packages/seaborn/regression.py\u001b[0m in \u001b[0;36mlineplot\u001b[0;34m(self, ax, kws)\u001b[0m\n\u001b[1;32m    411\u001b[0m         \u001b[0;34m\"\"\"Draw the model.\"\"\"\u001b[0m\u001b[0;34m\u001b[0m\u001b[0m\n\u001b[1;32m    412\u001b[0m         \u001b[0;31m# Fit the regression model\u001b[0m\u001b[0;34m\u001b[0m\u001b[0;34m\u001b[0m\u001b[0m\n\u001b[0;32m--> 413\u001b[0;31m         \u001b[0mgrid\u001b[0m\u001b[0;34m,\u001b[0m \u001b[0myhat\u001b[0m\u001b[0;34m,\u001b[0m \u001b[0merr_bands\u001b[0m \u001b[0;34m=\u001b[0m \u001b[0mself\u001b[0m\u001b[0;34m.\u001b[0m\u001b[0mfit_regression\u001b[0m\u001b[0;34m(\u001b[0m\u001b[0max\u001b[0m\u001b[0;34m)\u001b[0m\u001b[0;34m\u001b[0m\u001b[0m\n\u001b[0m\u001b[1;32m    414\u001b[0m         \u001b[0medges\u001b[0m \u001b[0;34m=\u001b[0m \u001b[0mgrid\u001b[0m\u001b[0;34m[\u001b[0m\u001b[0;36m0\u001b[0m\u001b[0;34m]\u001b[0m\u001b[0;34m,\u001b[0m \u001b[0mgrid\u001b[0m\u001b[0;34m[\u001b[0m\u001b[0;34m-\u001b[0m\u001b[0;36m1\u001b[0m\u001b[0;34m]\u001b[0m\u001b[0;34m\u001b[0m\u001b[0m\n\u001b[1;32m    415\u001b[0m \u001b[0;34m\u001b[0m\u001b[0m\n",
      "\u001b[0;32m/opt/anaconda3/envs/tensors/lib/python3.7/site-packages/seaborn/regression.py\u001b[0m in \u001b[0;36mfit_regression\u001b[0;34m(self, ax, x_range, grid)\u001b[0m\n\u001b[1;32m    199\u001b[0m                 \u001b[0;32melse\u001b[0m\u001b[0;34m:\u001b[0m\u001b[0;34m\u001b[0m\u001b[0m\n\u001b[1;32m    200\u001b[0m                     \u001b[0mx_min\u001b[0m\u001b[0;34m,\u001b[0m \u001b[0mx_max\u001b[0m \u001b[0;34m=\u001b[0m \u001b[0max\u001b[0m\u001b[0;34m.\u001b[0m\u001b[0mget_xlim\u001b[0m\u001b[0;34m(\u001b[0m\u001b[0;34m)\u001b[0m\u001b[0;34m\u001b[0m\u001b[0m\n\u001b[0;32m--> 201\u001b[0;31m             \u001b[0mgrid\u001b[0m \u001b[0;34m=\u001b[0m \u001b[0mnp\u001b[0m\u001b[0;34m.\u001b[0m\u001b[0mlinspace\u001b[0m\u001b[0;34m(\u001b[0m\u001b[0mx_min\u001b[0m\u001b[0;34m,\u001b[0m \u001b[0mx_max\u001b[0m\u001b[0;34m,\u001b[0m \u001b[0;36m100\u001b[0m\u001b[0;34m)\u001b[0m\u001b[0;34m\u001b[0m\u001b[0m\n\u001b[0m\u001b[1;32m    202\u001b[0m         \u001b[0mci\u001b[0m \u001b[0;34m=\u001b[0m \u001b[0mself\u001b[0m\u001b[0;34m.\u001b[0m\u001b[0mci\u001b[0m\u001b[0;34m\u001b[0m\u001b[0m\n\u001b[1;32m    203\u001b[0m \u001b[0;34m\u001b[0m\u001b[0m\n",
      "\u001b[0;32m<__array_function__ internals>\u001b[0m in \u001b[0;36mlinspace\u001b[0;34m(*args, **kwargs)\u001b[0m\n",
      "\u001b[0;32m/opt/anaconda3/envs/tensors/lib/python3.7/site-packages/numpy/core/function_base.py\u001b[0m in \u001b[0;36mlinspace\u001b[0;34m(start, stop, num, endpoint, retstep, dtype, axis)\u001b[0m\n\u001b[1;32m    118\u001b[0m     \u001b[0;31m# Convert float/complex array scalars to float, gh-3504\u001b[0m\u001b[0;34m\u001b[0m\u001b[0;34m\u001b[0m\u001b[0m\n\u001b[1;32m    119\u001b[0m     \u001b[0;31m# and make sure one can use variables that have an __array_interface__, gh-6634\u001b[0m\u001b[0;34m\u001b[0m\u001b[0;34m\u001b[0m\u001b[0m\n\u001b[0;32m--> 120\u001b[0;31m     \u001b[0mstart\u001b[0m \u001b[0;34m=\u001b[0m \u001b[0masanyarray\u001b[0m\u001b[0;34m(\u001b[0m\u001b[0mstart\u001b[0m\u001b[0;34m)\u001b[0m \u001b[0;34m*\u001b[0m \u001b[0;36m1.0\u001b[0m\u001b[0;34m\u001b[0m\u001b[0m\n\u001b[0m\u001b[1;32m    121\u001b[0m     \u001b[0mstop\u001b[0m  \u001b[0;34m=\u001b[0m \u001b[0masanyarray\u001b[0m\u001b[0;34m(\u001b[0m\u001b[0mstop\u001b[0m\u001b[0;34m)\u001b[0m  \u001b[0;34m*\u001b[0m \u001b[0;36m1.0\u001b[0m\u001b[0;34m\u001b[0m\u001b[0m\n\u001b[1;32m    122\u001b[0m \u001b[0;34m\u001b[0m\u001b[0m\n",
      "\u001b[0;31mUFuncTypeError\u001b[0m: ufunc 'multiply' did not contain a loop with signature matching types (dtype('<U32'), dtype('<U32')) -> dtype('<U32')"
     ]
    },
    {
     "data": {
      "image/png": "[encoded data removed]",
      "text/plain": [
       "<Figure size 864x432 with 1 Axes>"
      ]
     },
     "metadata": {},
     "output_type": "display_data"
    }
   ],
   "source": [
    "\"\"\" for our visualization purpose will fit line using seaborn library only for bmi as independent variable \n",
    "and charges as dependent variable\"\"\"\n",
    "\n",
    "sns.lmplot(x='Income_Range',y='After_FBS',data=df,aspect=2,height=6)\n",
    "plt.xlabel('Boby Mass Index$(kg/m^2)$: as Independent variable')\n",
    "plt.ylabel('Insurance Charges: as Dependent variable')\n",
    "plt.title('Charge Vs BMI');"
   ]
  },
  {
   "cell_type": "markdown",
   "metadata": {},
   "source": [
    "In above plot we fit regression line into the variables."
   ]
  },
  {
   "cell_type": "markdown",
   "metadata": {},
   "source": [
    "## Cost function\n",
    "\n",
    "  A cost function measures how much error in the model is in terms of ability to estimate the relationship between $x$ and $y$. \n",
    "  We can measure the accuracy of our hypothesis function by using a cost function. This takes an average difference of observed dependent variable in the given the dataset and those predicted by the hypothesis function.\n",
    "  \n",
    "$$\\mathbf{ J(\\theta) = \\frac{1}{m} \\sum_{i=1}^{m}(\\hat{y}_i - y_i)^2}$$\n",
    "$$\\mathbf{J(\\theta) =  \\frac{1}{m} \\sum_{i=1}^{m}(h_\\theta(x_i) - y_i)^2}$$\n",
    "To implement the linear regression, take training example add an extra column that is $x_0$ feature, where $\\mathbf{x_0=1}$. $\\mathbf{x_{o}} = \\left( \\begin{smallmatrix} x_{i0} & x_{i1} & x_{i2} &.&.&.& x_{mi} \\end{smallmatrix} \\right)$,where $\\mathbf{x_{i0} =0}$ and input matrix will become as\n",
    "\n",
    "$$\\mathbf{X} = \\left( \\begin{smallmatrix} x_{10} & x_{11} & x_{12} &.&.&.&.& x_{1n}\\\\\n",
    "                                x_{20} & x_{21} & x_{22} &.&.&.&.& x_{2n}\\\\\n",
    "                                x_{30} & x_{31} & x_{32} &.&.&.&.& x_{3n}\\\\\n",
    "                                 .&.&.&.&. &.&.&.& \\\\\n",
    "                                 .&.&.&.&. &.&.&.& \\\\\n",
    "                                x_{m0} & x_{m1} & x_{m2} &.&.&.&.&. x_{mn}\\\\\n",
    "                                \\end{smallmatrix} \\right)_{(m,n+1)}$$  \n",
    "Each of the m input samples is similarly a column vector with n+1 rows $x_0$ being 1 for our convenience, that is $\\mathbf{x_{10},x_{20},x_{30} .... x_{m0} =1}$. Now we rewrite the ordinary least square cost function in matrix form as\n",
    "$$\\mathbf{J(\\theta) = \\frac{1}{m} (X\\theta - y)^T(X\\theta - y)}$$\n",
    "\n",
    "Let's look at the matrix multiplication concept,the multiplication of two matrix happens only if number of column of firt matrix is equal to number of row of second matrix. Here input matrix $\\mathbf{X}$ of size $\\mathbf{(m,n+1)}$, parameter of function is of size $(n+1,1)$ and dependent variable vector of size $\\mathbf{(m,1)}$. The product of matrix $\\mathbf{X_{(m,n+1)}\\theta_{(n+1,1)}}$ will return a vector of size $\\mathbf{(m,1)}$, then product of $\\mathbf{(X\\theta - y)^T_{(1,m})(X\\theta - y)_{(m,1)}}$ will return size of unit vector. "
   ]
  },
  {
   "cell_type": "markdown",
   "metadata": {},
   "source": [
    "## Normal Equation\n",
    "The normal equation is an analytical solution to the linear regression problem with a ordinary least square cost function. To minimize our cost function, take partial derivative of $\\mathbf{J(\\theta)}$ with respect to $\\theta$ and equate to $0$. The derivative of function is nothing but if a small change in input what would be the change in output of function.\n",
    " $$\\mathbf{min_{\\theta_0,\\theta_1..\\theta_n} J({\\theta_0,\\theta_1..\\theta_n})}$$\n",
    " $$\\mathbf{\\frac{\\partial J(\\theta_j)}{\\partial\\theta_j} =0}$$ \n",
    " where $\\mathbf{j = 0,1,2,....n}$\n",
    " \n",
    " Now we will apply partial derivative of our cost function,\n",
    " $$\\mathbf{\\frac{\\partial J(\\theta_j)}{\\partial\\theta_j} = \\frac{\\partial }{\\partial \\theta} \\frac{1}{m}(X\\theta - y)^T(X\\theta - y) }$$\n",
    " I will throw $\\mathbf{\\frac {1}{m}}$ part away since we are going to compare a derivative to $0$. And solve $\\mathbf{J(\\theta)}$,  \n",
    " \n",
    " $$\\mathbf{J(\\theta) = (X\\theta -y)^T(X\\theta - y)}$$\n",
    " $$\\mathbf{= (X\\theta)^T - y^T)(X\\theta -y)}$$   \n",
    " $$\\mathbf{= (\\theta^T X^T - y^T)(X\\theta - y)}$$\n",
    " $$\\mathbf{= \\theta^T X^T X \\theta - y^T X \\theta - \\theta^T X^T y + y^T y}$$\n",
    " $$\\mathbf{ = \\theta^T X^T X \\theta  - 2\\theta^T X^T y + y^T y}$$\n",
    "\n",
    "Here $\\mathbf{y^T_{(1,m)} X_{(m,n+1)} \\theta_{(n+1,1)} = \\theta^T_{(1,n+1)} X^T_{(n+1,m)} y_{(m,1)}}$ because unit vector.\n",
    "\n",
    "$$\\mathbf{\\frac{\\partial J(\\theta)}{\\partial \\theta} = \\frac{\\partial}{\\partial \\theta} (\\theta^T X^T X \\theta  - 2\\theta^T X^T y + y^T y )}$$\n",
    "$$\\mathbf{ = X^T X \\frac {\\partial \\theta^T \\theta}{\\partial\\theta} - 2 X^T y \\frac{\\partial \\theta^T}{\\partial\\theta} + \\frac {\\partial y^T y}{\\partial\\theta}}$$\n",
    "Partial derivative $\\mathbf{\\frac {\\partial x^2}{\\partial x} = 2x}$, $\\mathbf{\\frac {\\partial kx^2}{\\partial x} = kx}$,\n",
    "$\\mathbf{\\frac {\\partial Constact}{\\partial x} = 0}$\n",
    "\n",
    "$$\\mathbf{\\frac{\\partial J(\\theta)}{\\partial\\theta} = X^T X 2\\theta - 2X^T y +0}$$\n",
    "$$\\mathbf{ 0 = 2X^T X \\theta - 2X^T y}$$\n",
    "$$\\mathbf{ X^T X \\theta = X^T }$$\n",
    "$$\\mathbf{ \\theta = (X^TX)^{-1} X^Ty }$$\n",
    "this the normal equation for linear regression"
   ]
  },
  {
   "cell_type": "markdown",
   "metadata": {},
   "source": [
    "## Exploratory data analysis"
   ]
  },
  {
   "cell_type": "code",
   "execution_count": 4,
   "metadata": {},
   "outputs": [
    {
     "data": {
      "text/html": [
       "<div>\n",
       "<style scoped>\n",
       "    .dataframe tbody tr th:only-of-type {\n",
       "        vertical-align: middle;\n",
       "    }\n",
       "\n",
       "    .dataframe tbody tr th {\n",
       "        vertical-align: top;\n",
       "    }\n",
       "\n",
       "    .dataframe thead th {\n",
       "        text-align: right;\n",
       "    }\n",
       "</style>\n",
       "<table border=\"1\" class=\"dataframe\">\n",
       "  <thead>\n",
       "    <tr style=\"text-align: right;\">\n",
       "      <th></th>\n",
       "      <th>Before_FBS</th>\n",
       "      <th>After_FBS</th>\n",
       "    </tr>\n",
       "  </thead>\n",
       "  <tbody>\n",
       "    <tr>\n",
       "      <th>count</th>\n",
       "      <td>7.000000</td>\n",
       "      <td>7.000000</td>\n",
       "    </tr>\n",
       "    <tr>\n",
       "      <th>mean</th>\n",
       "      <td>42.857143</td>\n",
       "      <td>42.857143</td>\n",
       "    </tr>\n",
       "    <tr>\n",
       "      <th>std</th>\n",
       "      <td>48.769624</td>\n",
       "      <td>48.112467</td>\n",
       "    </tr>\n",
       "    <tr>\n",
       "      <th>min</th>\n",
       "      <td>9.000000</td>\n",
       "      <td>14.000000</td>\n",
       "    </tr>\n",
       "    <tr>\n",
       "      <th>25%</th>\n",
       "      <td>18.000000</td>\n",
       "      <td>18.000000</td>\n",
       "    </tr>\n",
       "    <tr>\n",
       "      <th>50%</th>\n",
       "      <td>26.000000</td>\n",
       "      <td>29.000000</td>\n",
       "    </tr>\n",
       "    <tr>\n",
       "      <th>75%</th>\n",
       "      <td>39.500000</td>\n",
       "      <td>35.500000</td>\n",
       "    </tr>\n",
       "    <tr>\n",
       "      <th>max</th>\n",
       "      <td>150.000000</td>\n",
       "      <td>150.000000</td>\n",
       "    </tr>\n",
       "  </tbody>\n",
       "</table>\n",
       "</div>"
      ],
      "text/plain": [
       "       Before_FBS   After_FBS\n",
       "count    7.000000    7.000000\n",
       "mean    42.857143   42.857143\n",
       "std     48.769624   48.112467\n",
       "min      9.000000   14.000000\n",
       "25%     18.000000   18.000000\n",
       "50%     26.000000   29.000000\n",
       "75%     39.500000   35.500000\n",
       "max    150.000000  150.000000"
      ]
     },
     "execution_count": 4,
     "metadata": {},
     "output_type": "execute_result"
    }
   ],
   "source": [
    "df.describe()"
   ]
  },
  {
   "cell_type": "markdown",
   "metadata": {},
   "source": [
    "###  Check for missing value"
   ]
  },
  {
   "cell_type": "code",
   "execution_count": 5,
   "metadata": {},
   "outputs": [
    {
     "data": {
      "image/png": "[encoded data removed]",
      "text/plain": [
       "<Figure size 864x288 with 1 Axes>"
      ]
     },
     "metadata": {},
     "output_type": "display_data"
    }
   ],
   "source": [
    "plt.figure(figsize=(12,4))\n",
    "sns.heatmap(df.isnull(),cbar=False,cmap='viridis',yticklabels=False)\n",
    "plt.title('Missing value in the dataset');"
   ]
  },
  {
   "cell_type": "markdown",
   "metadata": {},
   "source": [
    "There is no missing value in the data sex"
   ]
  },
  {
   "cell_type": "markdown",
   "metadata": {},
   "source": [
    "### Plots"
   ]
  },
  {
   "cell_type": "code",
   "execution_count": 6,
   "metadata": {},
   "outputs": [
    {
     "data": {
      "image/png": "[encoded data removed]",
      "text/plain": [
       "<Figure size 576x360 with 2 Axes>"
      ]
     },
     "metadata": {},
     "output_type": "display_data"
    }
   ],
   "source": [
    "# correlation plot\n",
    "corr = df.corr()\n",
    "sns.heatmap(corr, cmap = 'Wistia', annot= True);"
   ]
  },
  {
   "cell_type": "markdown",
   "metadata": {},
   "source": [
    "Thier no correlation among valiables."
   ]
  },
  {
   "cell_type": "code",
   "execution_count": 11,
   "metadata": {},
   "outputs": [
    {
     "name": "stderr",
     "output_type": "stream",
     "text": [
      "/opt/anaconda3/envs/tensors/lib/python3.7/site-packages/seaborn/distributions.py:2557: FutureWarning: `distplot` is a deprecated function and will be removed in a future version. Please adapt your code to use either `displot` (a figure-level function with similar flexibility) or `histplot` (an axes-level function for histograms).\n",
      "  warnings.warn(msg, FutureWarning)\n",
      "/opt/anaconda3/envs/tensors/lib/python3.7/site-packages/seaborn/distributions.py:2557: FutureWarning: `distplot` is a deprecated function and will be removed in a future version. Please adapt your code to use either `displot` (a figure-level function with similar flexibility) or `histplot` (an axes-level function for histograms).\n",
      "  warnings.warn(msg, FutureWarning)\n"
     ]
    },
    {
     "data": {
      "image/png": "[encoded data removed]",
      "text/plain": [
       "<Figure size 864x288 with 2 Axes>"
      ]
     },
     "metadata": {},
     "output_type": "display_data"
    }
   ],
   "source": [
    "f= plt.figure(figsize=(12,4))\n",
    "\n",
    "ax=f.add_subplot(121)\n",
    "sns.distplot(df[\"Before_FBS\"],bins=50,color='r',ax=ax)\n",
    "ax.set_title('Distribution of Before_FBS')\n",
    "\n",
    "ax=f.add_subplot(122)\n",
    "sns.distplot(np.log10(df['After_FBS']),bins=40,color='b',ax=ax)\n",
    "ax.set_title('Distribution of After_FBS')\n",
    "ax.set_xscale('log');"
   ]
  },
  {
   "cell_type": "markdown",
   "metadata": {},
   "source": [
    "If we look at the left plot the charges varies from 1120 to 63500, the plot is right skewed. In right plot we will apply natural log, then plot approximately tends to normal. for further analysis we will apply log on target variable charges. "
   ]
  },
  {
   "cell_type": "code",
   "execution_count": 12,
   "metadata": {},
   "outputs": [
    {
     "data": {
      "image/png": "[encoded data removed]",
      "text/plain": [
       "<Figure size 1008x432 with 2 Axes>"
      ]
     },
     "metadata": {},
     "output_type": "display_data"
    }
   ],
   "source": [
    "f = plt.figure(figsize=(14,6))\n",
    "ax = f.add_subplot(121)\n",
    "sns.violinplot(x='Income_Range', y='After_FBS',data=df,palette='Wistia',ax=ax)\n",
    "ax.set_title('Violin plot Income')\n",
    "\n",
    "ax = f.add_subplot(122)\n",
    "sns.violinplot(x=\"Before_FBS\", y='After_FBS',data=df,palette='magma',ax=ax)\n",
    "ax.set_title('Violin plot of FBS');"
   ]
  },
  {
   "cell_type": "markdown",
   "metadata": {},
   "source": [
    "From left plot the insurance charge for male and female is approximatley in same range,it is average around 5000 bucks. In right plot the insurance charge for smokers is much wide range compare to non smokers, the average charges for non smoker is approximately 5000 bucks. For smoker the minimum insurance charge is itself 5000 bucks."
   ]
  },
  {
   "cell_type": "code",
   "execution_count": 13,
   "metadata": {},
   "outputs": [
    {
     "data": {
      "text/html": [
       "<div>\n",
       "<style scoped>\n",
       "    .dataframe tbody tr th:only-of-type {\n",
       "        vertical-align: middle;\n",
       "    }\n",
       "\n",
       "    .dataframe tbody tr th {\n",
       "        vertical-align: top;\n",
       "    }\n",
       "\n",
       "    .dataframe thead th {\n",
       "        text-align: right;\n",
       "    }\n",
       "</style>\n",
       "<table border=\"1\" class=\"dataframe\">\n",
       "  <thead>\n",
       "    <tr style=\"text-align: right;\">\n",
       "      <th></th>\n",
       "      <th>mean</th>\n",
       "      <th>min</th>\n",
       "      <th>max</th>\n",
       "    </tr>\n",
       "    <tr>\n",
       "      <th>Income_Range</th>\n",
       "      <th></th>\n",
       "      <th></th>\n",
       "      <th></th>\n",
       "    </tr>\n",
       "  </thead>\n",
       "  <tbody>\n",
       "    <tr>\n",
       "      <th>1-1000GHC</th>\n",
       "      <td>18.0</td>\n",
       "      <td>18</td>\n",
       "      <td>18</td>\n",
       "    </tr>\n",
       "    <tr>\n",
       "      <th>1000-2000GHC</th>\n",
       "      <td>14.0</td>\n",
       "      <td>14</td>\n",
       "      <td>14</td>\n",
       "    </tr>\n",
       "    <tr>\n",
       "      <th>2000-3000GHC</th>\n",
       "      <td>31.0</td>\n",
       "      <td>31</td>\n",
       "      <td>31</td>\n",
       "    </tr>\n",
       "    <tr>\n",
       "      <th>3000-4000GHC</th>\n",
       "      <td>29.0</td>\n",
       "      <td>29</td>\n",
       "      <td>29</td>\n",
       "    </tr>\n",
       "    <tr>\n",
       "      <th>4000-5000GHC</th>\n",
       "      <td>18.0</td>\n",
       "      <td>18</td>\n",
       "      <td>18</td>\n",
       "    </tr>\n",
       "    <tr>\n",
       "      <th>ABOVE 5000GHC</th>\n",
       "      <td>40.0</td>\n",
       "      <td>40</td>\n",
       "      <td>40</td>\n",
       "    </tr>\n",
       "    <tr>\n",
       "      <th>Total</th>\n",
       "      <td>150.0</td>\n",
       "      <td>150</td>\n",
       "      <td>150</td>\n",
       "    </tr>\n",
       "  </tbody>\n",
       "</table>\n",
       "</div>"
      ],
      "text/plain": [
       "                mean  min  max\n",
       "Income_Range                  \n",
       "1-1000GHC       18.0   18   18\n",
       "1000-2000GHC    14.0   14   14\n",
       "2000-3000GHC    31.0   31   31\n",
       "3000-4000GHC    29.0   29   29\n",
       "4000-5000GHC    18.0   18   18\n",
       "ABOVE 5000GHC   40.0   40   40\n",
       "Total          150.0  150  150"
      ]
     },
     "execution_count": 13,
     "metadata": {},
     "output_type": "execute_result"
    }
   ],
   "source": [
    "df.groupby('Income_Range').agg(['mean','min','max'])['After_FBS']"
   ]
  },
  {
   "cell_type": "markdown",
   "metadata": {},
   "source": [
    ">From left plot the minimum age person is insured is 18 year. There is slabs in policy most of non smoker take $1^{st}$ and $2^{nd}$ slab, for smoker policy start at $2^{nd}$ and $3^{rd}$ slab.\n",
    "\n",
    ">Body mass index (BMI) is a measure of body fat based on height and weight that applies to adult men and women. The minimum bmi is 16$kg/m^2$ and maximum upto 54$kg/m^2$"
   ]
  },
  {
   "cell_type": "markdown",
   "metadata": {},
   "source": [
    "## Data Preprocessing\n",
    "### Encoding\n",
    "Machine learning algorithms cannot work with categorical data directly, categorical data must be converted to number.\n",
    " 1. Label Encoding\n",
    " 2. One hot encoding\n",
    " 3. Dummy variable trap\n",
    "\n",
    "**Label encoding** refers to transforming the word labels into numerical form so that the algorithms can understand how to operate on them.\n",
    "\n",
    "A **One hot encoding** is a representation of categorical variable as binary vectors.It allows the representation of categorical data to be more expresive. This first requires that the categorical values be mapped to integer values, that is label encoding. Then, each integer value is represented as a binary vector that is all zero values except the index of the integer, which is marked with a 1.\n",
    "\n",
    "The **Dummy variable trap** is a scenario in which the independent variable are multicollinear, a scenario in which two or more variables are highly correlated in simple term one variable can be predicted from the others.\n",
    "\n",
    "By using *pandas get_dummies* function we can do all above three step in line of code. We will this fuction  to get dummy variable for sex, children,smoker,region features. By setting *drop_first =True* function will remove dummy variable trap by droping one variable and original variable.The pandas makes our life easy."
   ]
  },
  {
   "cell_type": "markdown",
   "metadata": {},
   "source": [
    "### Box -Cox transformation\n",
    "A Box Cox transformation is a way to transform non-normal dependent variables into a normal shape. Normality is an important assumption for many statistical techniques; if your data isn’t normal, applying a Box-Cox means that you are able to run a broader number of tests. All that we need to perform this transformation is to find lambda value and apply the rule shown below to your variable.  \n",
    "$$\\mathbf{ \\begin {cases}\\frac {y^\\lambda - 1}{\\lambda},& y_i\\neg=0 \\\\\n",
    " log(y_i) & \\lambda = 0 \\end{cases}}$$\n",
    " The trick of Box-Cox transformation is to find lambda value, however in practice this is quite affordable. The following function returns the transformed variable, lambda value,confidence interval"
   ]
  },
  {
   "cell_type": "markdown",
   "metadata": {},
   "source": [
    "The original categorical variable are remove and also one of the one hot encode varible column for perticular categorical variable is droped from the column. So we completed all three encoding step by using get dummies function."
   ]
  },
  {
   "cell_type": "markdown",
   "metadata": {},
   "source": [
    "## Train Test split"
   ]
  },
  {
   "cell_type": "code",
   "execution_count": null,
   "metadata": {},
   "outputs": [],
   "source": [
    "from sklearn.model_selection import train_test_split\n",
    "X = df_encode.drop('charges',axis=1) # Independet variable\n",
    "y = df_encode['charges'] # dependent variable\n",
    "\n",
    "X_train, X_test, y_train, y_test = train_test_split(X,y,test_size=0.3,random_state=23)"
   ]
  },
  {
   "cell_type": "markdown",
   "metadata": {},
   "source": [
    "## Model building\n",
    "In this step build model using our linear regression equation $\\mathbf{\\theta = (X^T X)^{-1} X^Ty}$. In first step we need to add a feature $\\mathbf{x_0 =1}$ to our original data set. "
   ]
  },
  {
   "cell_type": "code",
   "execution_count": null,
   "metadata": {},
   "outputs": [],
   "source": [
    "# Step 1: add x0 =1 to dataset\n",
    "X_train_0 = np.c_[np.ones((X_train.shape[0],1)),X_train]\n",
    "X_test_0 = np.c_[np.ones((X_test.shape[0],1)),X_test]\n",
    "\n",
    "# Step2: build model\n",
    "theta = np.matmul(np.linalg.inv( np.matmul(X_train_0.T,X_train_0) ), np.matmul(X_train_0.T,y_train)) "
   ]
  },
  {
   "cell_type": "code",
   "execution_count": null,
   "metadata": {},
   "outputs": [],
   "source": [
    "# The parameters for linear regression model\n",
    "parameter = ['theta_'+str(i) for i in range(X_train_0.shape[1])]\n",
    "columns = ['intersect:x_0=1'] + list(X.columns.values)\n",
    "parameter_df = pd.DataFrame({'Parameter':parameter,'Columns':columns,'theta':theta})"
   ]
  },
  {
   "cell_type": "code",
   "execution_count": null,
   "metadata": {},
   "outputs": [],
   "source": [
    "# Scikit Learn module\n",
    "from sklearn.linear_model import LinearRegression\n",
    "lin_reg = LinearRegression()\n",
    "lin_reg.fit(X_train,y_train) # Note: x_0 =1 is no need to add, sklearn will take care of it.\n",
    "\n",
    "#Parameter\n",
    "sk_theta = [lin_reg.intercept_]+list(lin_reg.coef_)\n",
    "parameter_df = parameter_df.join(pd.Series(sk_theta, name='Sklearn_theta'))\n",
    "parameter_df"
   ]
  },
  {
   "cell_type": "markdown",
   "metadata": {},
   "source": [
    "The parameter obtained from both the model are same.So we succefull build our model using normal equation and verified using sklearn linear regression module. Let's move ahead, next step is prediction and model evaluvation."
   ]
  },
  {
   "cell_type": "markdown",
   "metadata": {},
   "source": [
    "## Model evaluation\n",
    "We will predict value for target variable by using our model parameter for test data set. Then compare the predicted value with actual valu in test set. We compute **Mean Square Error** using formula \n",
    "$$\\mathbf{ J(\\theta) = \\frac{1}{m} \\sum_{i=1}^{m}(\\hat{y}_i - y_i)^2}$$\n",
    "\n",
    "$\\mathbf{R^2}$ is statistical measure of how close data are to the fitted regression line. $\\mathbf{R^2}$ is always between 0 to 100%. 0% indicated that model explains none of the variability of the response data around it's mean. 100% indicated that model explains all the variablity of the response data around the mean.\n",
    "\n",
    "$$\\mathbf{R^2 = 1 - \\frac{SSE}{SST}}$$\n",
    "**SSE = Sum of Square Error**  \n",
    "**SST = Sum of Square Total**  \n",
    "$$\\mathbf{SSE = \\sum_{i=1}^{m}(\\hat{y}_i - y_i)^2}$$\n",
    "$$\\mathbf{SST = \\sum_{i=1}^{m}(y_i - \\bar{y}_i)^2}$$\n",
    "Here $\\mathbf{\\hat{y}}$ is predicted value and $\\mathbf{\\bar{y}}$ is mean value of $\\mathbf{y}$."
   ]
  },
  {
   "cell_type": "code",
   "execution_count": null,
   "metadata": {},
   "outputs": [],
   "source": [
    "# Normal equation\n",
    "y_pred_norm =  np.matmul(X_test_0,theta)\n",
    "\n",
    "#Evaluvation: MSE\n",
    "J_mse = np.sum((y_pred_norm - y_test)**2)/ X_test_0.shape[0]\n",
    "\n",
    "# R_square \n",
    "sse = np.sum((y_pred_norm - y_test)**2)\n",
    "sst = np.sum((y_test - y_test.mean())**2)\n",
    "R_square = 1 - (sse/sst)\n",
    "print('The Mean Square Error(MSE) or J(theta) is: ',J_mse)\n",
    "print('R square obtain for normal equation method is :',R_square)"
   ]
  },
  {
   "cell_type": "code",
   "execution_count": null,
   "metadata": {},
   "outputs": [],
   "source": [
    "# sklearn regression module\n",
    "y_pred_sk = lin_reg.predict(X_test)\n",
    "\n",
    "#Evaluvation: MSE\n",
    "from sklearn.metrics import mean_squared_error\n",
    "J_mse_sk = mean_squared_error(y_pred_sk, y_test)\n",
    "\n",
    "# R_square\n",
    "R_square_sk = lin_reg.score(X_test,y_test)\n",
    "print('The Mean Square Error(MSE) or J(theta) is: ',J_mse_sk)\n",
    "print('R square obtain for scikit learn library is :',R_square_sk)"
   ]
  },
  {
   "cell_type": "markdown",
   "metadata": {},
   "source": [
    "The model returns $R^2$ value of 77.95%, so it fit our data test very well, but still we can imporve the the performance of by diffirent technique. Please make a note that we have transformer out variable by applying  natural log. When we put model into production antilog is applied to the equation."
   ]
  },
  {
   "cell_type": "markdown",
   "metadata": {},
   "source": [
    "## Model Validation\n",
    "In order to validated model we need to check few assumption of linear regression model. The common assumption for *Linear Regression* model are following\n",
    "1. Linear Relationship: In linear regression the relationship between the dependent and independent variable to be *linear*. This can be checked by scatter ploting Actual value Vs Predicted value\n",
    "2. The residual error plot should be *normally* distributed.\n",
    "3. The *mean* of *residual error* should be 0 or close to 0 as much as possible\n",
    "4. The linear regression require all variables to be multivariate normal. This assumption can best checked with Q-Q plot.\n",
    "5. Linear regession assumes that there is little or no *Multicollinearity in the data. Multicollinearity occurs when the independent variables are too highly correlated with each other. The variance inflation factor *VIF* identifies correlation between independent variables and strength of that correlation. $\\mathbf{VIF = \\frac {1}{1-R^2}}$, If VIF >1 & VIF <5 moderate correlation, VIF < 5 critical level of multicollinearity.\n",
    "6. Homoscedasticity: The data are homoscedastic meaning the residuals are equal across the regression line. We can look at residual Vs fitted value scatter plot. If heteroscedastic plot would exhibit a funnel shape pattern."
   ]
  },
  {
   "cell_type": "code",
   "execution_count": null,
   "metadata": {},
   "outputs": [],
   "source": [
    "# Check for Linearity\n",
    "f = plt.figure(figsize=(14,5))\n",
    "ax = f.add_subplot(121)\n",
    "sns.scatterplot(y_test,y_pred_sk,ax=ax,color='r')\n",
    "ax.set_title('Check for Linearity:\\n Actual Vs Predicted value')\n",
    "\n",
    "# Check for Residual normality & mean\n",
    "ax = f.add_subplot(122)\n",
    "sns.distplot((y_test - y_pred_sk),ax=ax,color='b')\n",
    "ax.axvline((y_test - y_pred_sk).mean(),color='k',linestyle='--')\n",
    "ax.set_title('Check for Residual normality & mean: \\n Residual eror');"
   ]
  },
  {
   "cell_type": "code",
   "execution_count": null,
   "metadata": {},
   "outputs": [],
   "source": [
    "# Check for Multivariate Normality\n",
    "# Quantile-Quantile plot \n",
    "f,ax = plt.subplots(1,2,figsize=(14,6))\n",
    "import scipy as sp\n",
    "_,(_,_,r)= sp.stats.probplot((y_test - y_pred_sk),fit=True,plot=ax[0])\n",
    "ax[0].set_title('Check for Multivariate Normality: \\nQ-Q Plot')\n",
    "\n",
    "#Check for Homoscedasticity\n",
    "sns.scatterplot(y = (y_test - y_pred_sk), x= y_pred_sk, ax = ax[1],color='r') \n",
    "ax[1].set_title('Check for Homoscedasticity: \\nResidual Vs Predicted');"
   ]
  },
  {
   "cell_type": "code",
   "execution_count": null,
   "metadata": {},
   "outputs": [],
   "source": [
    "# Check for Multicollinearity\n",
    "#Variance Inflation Factor\n",
    "VIF = 1/(1- R_square_sk)\n",
    "VIF"
   ]
  },
  {
   "cell_type": "markdown",
   "metadata": {},
   "source": [
    "The model assumption linear regression as follows\n",
    "1. In our model  the actual vs predicted plot is curve so linear assumption fails\n",
    "2. The residual mean is zero and residual error plot right skewed\n",
    "3. Q-Q plot shows as value log value greater than 1.5 trends to increase\n",
    "4. The plot is exhibit heteroscedastic, error will insease after certian point.\n",
    "5. Variance inflation factor value is less than 5, so no multicollearity."
   ]
  },
  {
   "cell_type": "code",
   "execution_count": null,
   "metadata": {},
   "outputs": [],
   "source": []
  }
 ],
 "metadata": {
  "kernelspec": {
   "display_name": "Python 3 (ipykernel)",
   "language": "python",
   "name": "python3"
  },
  "language_info": {
   "codemirror_mode": {
    "name": "ipython",
    "version": 3
   },
   "file_extension": ".py",
   "mimetype": "text/x-python",
   "name": "python",
   "nbconvert_exporter": "python",
   "pygments_lexer": "ipython3",
   "version": "3.7.0"
  }
 },
 "nbformat": 4,
 "nbformat_minor": 4
}
